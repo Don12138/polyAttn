{
 "cells": [
  {
   "cell_type": "code",
   "execution_count": 1,
   "metadata": {},
   "outputs": [],
   "source": [
    "import argparse\n",
    "import logging\n",
    "import numpy as np\n",
    "import os\n",
    "import sys\n",
    "import time\n",
    "import torch\n",
    "import torch.nn as nn\n",
    "import torch.optim as optim\n",
    "from torch.nn.init import xavier_uniform_\n",
    "from torch_geometric.loader import DataLoader\n",
    "from torch_geometric.data import Data\n",
    "from utils import parsing\n",
    "from utils.data_utils import PolymerDataset\n",
    "from utils.train_utils import get_lr, grad_norm, NoamLR, param_count, param_norm, set_seed, setup_logger, load_data, batch_force_reshape, MTAdam\n",
    "from models.polygnn import polygnn\n",
    "import pdb\n",
    "from torch.autograd import grad\n",
    "from torch.utils.tensorboard import SummaryWriter"
   ]
  },
  {
   "cell_type": "code",
   "execution_count": 21,
   "metadata": {},
   "outputs": [
    {
     "data": {
      "text/plain": [
       "polygnn(\n",
       "  (mpnn): polygnn_mp(\n",
       "    (R): hidden_xavier_bn(\n",
       "      (linear): Linear(in_features=133, out_features=128, bias=True)\n",
       "      (bn): BatchNorm1d(128, eps=1e-05, momentum=0.1, affine=True, track_running_stats=True)\n",
       "    )\n",
       "    (E): ffn(\n",
       "      (layers): ModuleList(\n",
       "        (0): hidden_xavier_bn(\n",
       "          (linear): Linear(in_features=147, out_features=128, bias=True)\n",
       "          (bn): BatchNorm1d(128, eps=1e-05, momentum=0.1, affine=True, track_running_stats=True)\n",
       "        )\n",
       "        (1): hidden_xavier_bn(\n",
       "          (linear): Linear(in_features=128, out_features=256, bias=True)\n",
       "          (bn): BatchNorm1d(256, eps=1e-05, momentum=0.1, affine=True, track_running_stats=True)\n",
       "        )\n",
       "        (2): hidden_xavier_bn(\n",
       "          (linear): Linear(in_features=256, out_features=147, bias=True)\n",
       "          (bn): BatchNorm1d(147, eps=1e-05, momentum=0.1, affine=True, track_running_stats=True)\n",
       "        )\n",
       "      )\n",
       "    )\n",
       "    (mp_layer): polygnn_mp_block()\n",
       "  )\n",
       "  (output): output(\n",
       "    (linear): Linear(in_features=128, out_features=1, bias=True)\n",
       "  )\n",
       ")"
      ]
     },
     "execution_count": 21,
     "metadata": {},
     "output_type": "execute_result"
    }
   ],
   "source": [
    "model_path = \"/home/chenlidong/polyAttn/checkpoints/copolymer_4w_.polygnn_single_ea_no_ho/model.3000_2.pt\"\n",
    "model_info = torch.load(model_path)\n",
    "args = model_info['args']\n",
    "device = \"cuda\"\n",
    "hps = {\n",
    "        \"ffn_capacity\" : 2,\n",
    "        \"depth\":3,\n",
    "        \"readout_dim\": 128,\n",
    "        \"activation\": nn.functional.leaky_relu\n",
    "}\n",
    "model = polygnn(133,147,hps)\n",
    "model.load_state_dict(model_info['state_dict'])\n",
    "model.to(device)\n",
    "model.eval()"
   ]
  },
  {
   "cell_type": "code",
   "execution_count": 34,
   "metadata": {},
   "outputs": [],
   "source": [
    "test_dataset = PolymerDataset(f\"/home/chenlidong/polyAttn/preprocessed/{args.data_name}\",phase=\"test\")\n",
    "test_loader = DataLoader(\n",
    "            dataset=test_dataset,\n",
    "            batch_size=args.train_batch_size,\n",
    "            shuffle=True,\n",
    "            pin_memory=True\n",
    "        )"
   ]
  },
  {
   "cell_type": "code",
   "execution_count": 35,
   "metadata": {},
   "outputs": [],
   "source": [
    "count = test_dataset.len() // 64 - 1\n",
    "loss = 0.0\n",
    "loss_fn = nn.functional.mse_loss\n",
    "for test_idx, test_batch in enumerate(test_loader):\n",
    "    if test_idx >= count:\n",
    "        break\n",
    "    test_batch = test_batch.to(device)\n",
    "    tgt_ea = test_batch['ea']\n",
    "    tgt_ip = test_batch['ip']\n",
    "    \n",
    "    pred_ea = model(test_batch)\n",
    "\n",
    "    test_loss = torch.sqrt(loss_fn(pred_ea,tgt_ea))\n",
    "    # print(test_loss)\n",
    "    loss += test_loss.item() / count"
   ]
  },
  {
   "cell_type": "code",
   "execution_count": 36,
   "metadata": {},
   "outputs": [
    {
     "data": {
      "text/plain": [
       "0.49268231781801813"
      ]
     },
     "execution_count": 36,
     "metadata": {},
     "output_type": "execute_result"
    }
   ],
   "source": [
    "loss"
   ]
  },
  {
   "cell_type": "code",
   "execution_count": 6,
   "metadata": {},
   "outputs": [],
   "source": [
    "import math\n",
    "\n",
    "def calculate_average(numbers):\n",
    "    total = sum(numbers)\n",
    "    average = total / len(numbers)\n",
    "    return average\n",
    "\n",
    "def calculate_standard_deviation(numbers):\n",
    "    average = calculate_average(numbers)\n",
    "    variance = sum((x - average) ** 2 for x in numbers) / len(numbers)\n",
    "    std_deviation = math.sqrt(variance)\n",
    "    return std_deviation"
   ]
  },
  {
   "cell_type": "code",
   "execution_count": 25,
   "metadata": {},
   "outputs": [],
   "source": [
    "numbers = [0.24603574224432606,0.24605163662953497,0.24612404114769817,0.24577337380190534,0.24621309194349714]"
   ]
  },
  {
   "cell_type": "code",
   "execution_count": 37,
   "metadata": {},
   "outputs": [],
   "source": [
    "numbers = [0.493141615077069,0.4929233733424566,0.49268231781801813]"
   ]
  },
  {
   "cell_type": "code",
   "execution_count": 38,
   "metadata": {},
   "outputs": [
    {
     "data": {
      "text/plain": [
       "0.4929157687458479"
      ]
     },
     "execution_count": 38,
     "metadata": {},
     "output_type": "execute_result"
    }
   ],
   "source": [
    "calculate_average(numbers)"
   ]
  },
  {
   "cell_type": "code",
   "execution_count": 39,
   "metadata": {},
   "outputs": [
    {
     "data": {
      "text/plain": [
       "0.00018758440848516586"
      ]
     },
     "execution_count": 39,
     "metadata": {},
     "output_type": "execute_result"
    }
   ],
   "source": [
    "calculate_standard_deviation(numbers)"
   ]
  },
  {
   "cell_type": "code",
   "execution_count": null,
   "metadata": {},
   "outputs": [],
   "source": []
  }
 ],
 "metadata": {
  "kernelspec": {
   "display_name": "pyG",
   "language": "python",
   "name": "py_38_torch_113_pyg"
  },
  "orig_nbformat": 4
 },
 "nbformat": 4,
 "nbformat_minor": 2
}
