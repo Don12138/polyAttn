{
 "cells": [
  {
   "cell_type": "code",
   "execution_count": 17,
   "metadata": {},
   "outputs": [],
   "source": [
    "import torch\n",
    "import torch.nn as nn\n",
    "from torch_geometric.data import Data, Batch\n",
    "from torch_geometric.loader import DataLoader\n",
    "from typing import List, Tuple, Union\n",
    "import numpy as np\n",
    "from itertools import zip_longest\n",
    "from copy import deepcopy\n",
    "from collections import Counter\n",
    "from torch_scatter import scatter_sum, scatter_mean\n",
    "import logging\n",
    "from rdkit import Chem\n",
    "import math\n",
    "from onmt.modules.embeddings import PositionalEncoding\n",
    "from onmt.modules.position_ffn import PositionwiseFeedForward\n",
    "from onmt.utils.misc import sequence_mask\n",
    "import sys\n",
    "sys.path.append(\"/home/chenlidong/polyAttn/models\")\n",
    "sys.path.append(\"/home/chenlidong/polyAttn/utils\")\n",
    "# import polygnn\n",
    "sys.path.append(\"/home/chenlidong/polymer-chemprop-master/chemprop/\")\n",
    "import chem_utils\n",
    "import pdb\n",
    "from torch.nn.utils.rnn import pad_sequence\n",
    "from typing import List, Union, Tuple\n",
    "from functools import reduce\n",
    "from rdkit import Chem\n",
    "import torch.nn.init as init\n",
    "import networkx as nx"
   ]
  },
  {
   "cell_type": "code",
   "execution_count": 18,
   "metadata": {},
   "outputs": [],
   "source": [
    "from args import TrainArgs\n",
    "from features import mol2graph, BatchMolGraph, get_atom_fdim, get_bond_fdim\n",
    "from nn_utils import get_activation_function, index_select_ND"
   ]
  },
  {
   "cell_type": "markdown",
   "metadata": {},
   "source": [
    "# polygnn测试代码"
   ]
  },
  {
   "cell_type": "code",
   "execution_count": 2,
   "metadata": {},
   "outputs": [],
   "source": [
    "hps ={\n",
    "    \"capacity\" : 2,\n",
    "    \"activation\": nn.functional.leaky_relu,\n",
    "    \"readout_dim\": 128\n",
    "}\n",
    "model = polygnn.polygnn(32,7,True,hps)"
   ]
  },
  {
   "cell_type": "code",
   "execution_count": 3,
   "metadata": {},
   "outputs": [],
   "source": [
    "node_features, edge_features, edge_indices = chem_utils.get_feature(\"[*]Oc1ccc(-c2ccc(C([*])=O)cc2)cc1\")"
   ]
  },
  {
   "cell_type": "code",
   "execution_count": 4,
   "metadata": {},
   "outputs": [],
   "source": [
    "data = Data(\n",
    "    x = torch.tensor(node_features, dtype=torch.float),\n",
    "    edge_index = torch.tensor(edge_indices, dtype=torch.long).T,\n",
    "    edge_weight = torch.tensor(edge_features, dtype=torch.float),\n",
    ")"
   ]
  },
  {
   "cell_type": "code",
   "execution_count": 5,
   "metadata": {},
   "outputs": [],
   "source": [
    "train_loader = DataLoader(\n",
    "            dataset=[data],\n",
    "            batch_size=1,\n",
    "            shuffle=True,\n",
    "            pin_memory=True\n",
    "        )"
   ]
  },
  {
   "cell_type": "code",
   "execution_count": 8,
   "metadata": {},
   "outputs": [
    {
     "name": "stdout",
     "output_type": "stream",
     "text": [
      "tensor([[0.4337, 0.3888, 0.3650, 0.3436, 0.3988, 0.3499, 0.3956, 0.4133, 0.3567,\n",
      "         0.4352, 0.3738, 0.3076, 0.3832, 0.3693, 0.4158, 0.4409, 0.4127, 0.4084,\n",
      "         0.4287, 0.4251, 0.3337, 0.4168, 0.4429, 0.3431, 0.4172, 0.3630, 0.4217,\n",
      "         0.4064, 0.3803, 0.3957, 0.4111, 0.3503, 0.4047, 0.4475, 0.3495, 0.3449,\n",
      "         0.3784, 0.3999, 0.3801, 0.3518, 0.4274, 0.3092, 0.3732, 0.3583, 0.3823,\n",
      "         0.3584, 0.4099, 0.4279, 0.3385, 0.3373, 0.4120, 0.3693, 0.3263, 0.4335,\n",
      "         0.3913, 0.4095, 0.3489, 0.3001, 0.4066, 0.3830, 0.3599, 0.3715, 0.4065,\n",
      "         0.4032, 0.3953, 0.4147, 0.3725, 0.4038, 0.3840, 0.4478, 0.3282, 0.3981,\n",
      "         0.3390, 0.3768, 0.4021, 0.4305, 0.4000, 0.3825, 0.3874, 0.4016, 0.3292,\n",
      "         0.3710, 0.3279, 0.4633, 0.3882, 0.3455, 0.4211, 0.4184, 0.3750, 0.3709,\n",
      "         0.3644, 0.3426, 0.4080, 0.4180, 0.3483, 0.3365, 0.3140, 0.2962, 0.3640,\n",
      "         0.4033, 0.3791, 0.4103, 0.4069, 0.4254, 0.3285, 0.3350, 0.2872, 0.3729,\n",
      "         0.3825, 0.3926, 0.3977, 0.3607, 0.4197, 0.4316, 0.4576, 0.3801, 0.4005,\n",
      "         0.4207, 0.3973, 0.3989, 0.3322, 0.4043, 0.3445, 0.3671, 0.3954, 0.4078,\n",
      "         0.4106, 0.3942]], grad_fn=<ViewBackward0>)\n"
     ]
    }
   ],
   "source": [
    "for batch_idx, batch in enumerate(train_loader):\n",
    "    print(model(batch))"
   ]
  },
  {
   "cell_type": "markdown",
   "metadata": {},
   "source": [
    "# polymer-chemprob"
   ]
  },
  {
   "cell_type": "code",
   "execution_count": 29,
   "metadata": {},
   "outputs": [],
   "source": [
    "smiles = \"OB(O)c1cc2ccc3cc(B(O)O)cc4ccc(c1)c2c34.CC(=O)Nc1cc(Br)cc(Br)c1\"\n",
    "smiles0 = \"OB(O)c1ccc(-c2ccc(B(O)O)s2)s1.Cn1cc(Br)nc1Br\"\n",
    "smiles1 = \"*Oc1ccc(cc1)c1ccc(cc1)C(=O)OCC(COC(=O)c1ccc(cc1)c1ccc(cc1)OC(CC*)C)C\"\n",
    "smiles2 = \"*OS(=O)(=O)c1ccc(cc1)*\""
   ]
  },
  {
   "cell_type": "code",
   "execution_count": 32,
   "metadata": {},
   "outputs": [],
   "source": [
    "batch_mol2graph = mol2graph([smiles,smiles0,smiles1,smiles2],[0,1,2,0],[0,1,2,0])\n",
    "f_atoms, f_bonds, w_atoms, w_bonds, a2b, b2a, b2revb, a_scope, b_scope, _ ,distance, idx = batch_mol2graph.get_components()"
   ]
  },
  {
   "cell_type": "code",
   "execution_count": 5,
   "metadata": {},
   "outputs": [
    {
     "data": {
      "text/plain": [
       "[(1, 25), (26, 25), (51, 25), (76, 26)]"
      ]
     },
     "execution_count": 5,
     "metadata": {},
     "output_type": "execute_result"
    }
   ],
   "source": [
    "a_scope"
   ]
  },
  {
   "cell_type": "code",
   "execution_count": 17,
   "metadata": {},
   "outputs": [
    {
     "data": {
      "text/plain": [
       "[(1, 48), (49, 48), (97, 48), (145, 34)]"
      ]
     },
     "execution_count": 17,
     "metadata": {},
     "output_type": "execute_result"
    }
   ],
   "source": [
    "b_scope"
   ]
  },
  {
   "cell_type": "code",
   "execution_count": 6,
   "metadata": {},
   "outputs": [
    {
     "data": {
      "text/plain": [
       "tensor([[  0,   1,   2,  ..., 100, 100, 100],\n",
       "        [  1,   0,   1,  ..., 100, 100, 100],\n",
       "        [  2,   1,   0,  ..., 100, 100, 100],\n",
       "        ...,\n",
       "        [100, 100, 100,  ..., 100, 100, 100],\n",
       "        [100, 100, 100,  ..., 100, 100, 100],\n",
       "        [100, 100, 100,  ..., 100, 100, 100]])"
      ]
     },
     "execution_count": 6,
     "metadata": {},
     "output_type": "execute_result"
    }
   ],
   "source": [
    "distance[0] "
   ]
  },
  {
   "cell_type": "code",
   "execution_count": 13,
   "metadata": {},
   "outputs": [
    {
     "data": {
      "text/plain": [
       "tensor([ 3,  2,  1,  0,  1,  2,  2,  3, 10, 10, 10, 10, 10, 10, 10, 10, 10, -1,\n",
       "        -1, -1, -1, -1, -1, -1, -1, -1, -1, -1, -1, -1, -1, -1, -1, -1, -1, -1,\n",
       "        -1, -1, -1, -1, -1, -1, -1, -1, -1])"
      ]
     },
     "execution_count": 13,
     "metadata": {},
     "output_type": "execute_result"
    }
   ],
   "source": [
    "distance[3][3]"
   ]
  },
  {
   "cell_type": "code",
   "execution_count": 9,
   "metadata": {},
   "outputs": [
    {
     "data": {
      "text/plain": [
       "torch.Size([4, 45, 45])"
      ]
     },
     "execution_count": 9,
     "metadata": {},
     "output_type": "execute_result"
    }
   ],
   "source": [
    "distance.shape"
   ]
  },
  {
   "cell_type": "code",
   "execution_count": 20,
   "metadata": {},
   "outputs": [],
   "source": [
    "a2a = batch_mol2graph.get_a2a()\n",
    "b2b = batch_mol2graph.get_b2b()\n",
    "# ea = torch.tensor(valid_df.Ea.to_list(),dtype=torch.float32)\n",
    "# ip = torch.tensor(valid_df.IP.to_list(),dtype=torch.float32)"
   ]
  },
  {
   "cell_type": "code",
   "execution_count": 15,
   "metadata": {},
   "outputs": [],
   "source": [
    "def get_distance(edge_index,w_bonds,atom_num,max_len=45,max_distance=20):\n",
    "    G = nx.MultiDiGraph()\n",
    "    edge_index = edge_index.t().tolist()\n",
    "    weights = torch.reciprocal(w_bonds).tolist()\n",
    "    for i in range(0,atom_num):\n",
    "        G.add_node(i)\n",
    "    for i, (start_node, end_node) in enumerate(edge_index):\n",
    "        weight = weights[i]\n",
    "        G.add_edge(start_node, end_node,weight=weight)\n",
    "    padded_distance = np.ones((max_len, max_len), dtype=np.int32) * max_distance\n",
    "    padded_distance[:atom_num, :atom_num] = nx.floyd_warshall_numpy(G)\n",
    "    return torch.tensor(padded_distance)"
   ]
  },
  {
   "cell_type": "code",
   "execution_count": 10,
   "metadata": {},
   "outputs": [],
   "source": [
    "dataset = []\n",
    "\n",
    "for idx,(a_scope_i,b_scope_i) in enumerate(zip(a_scope,b_scope)):\n",
    "    edge_index = [[],[]]\n",
    "    b2a_i = b2a[b_scope_i[0]:b_scope_i[0]+b_scope_i[1]]\n",
    "    b2revb_i = b2revb[b_scope_i[0]:b_scope_i[0]+b_scope_i[1]]\n",
    "\n",
    "    for i in range(b2a_i.size(0)):\n",
    "        edge_index[0].append(b2a_i[i].item()-a_scope_i[0])\n",
    "        edge_index[1].append(b2a_i[b2revb_i[i]-b_scope_i[0]]-a_scope_i[0])\n",
    "    \n",
    "    edge_index = torch.tensor(edge_index,dtype=torch.long)\n",
    "    w_atom = w_atoms[a_scope_i[0]:a_scope_i[0]+a_scope_i[1]]\n",
    "    w_bond = w_bonds[b_scope_i[0]:b_scope_i[0]+b_scope_i[1]]\n",
    "    edge_attr = f_bonds[b_scope_i[0]:b_scope_i[0]+b_scope_i[1]]\n",
    "    data = Data(\n",
    "        x = f_atoms[a_scope_i[0]:a_scope_i[0]+a_scope_i[1]],\n",
    "        edge_index=edge_index,\n",
    "        edge_attr = edge_attr,\n",
    "        w_atoms = w_atom,\n",
    "        w_bonds = w_bond,\n",
    "        b2revb = b2revb[b_scope_i[0]:b_scope_i[0]+b_scope_i[1]]-b_scope_i[0],\n",
    "        distance = distance[idx]\n",
    "    )\n",
    "    dataset.append(data.to(\"cuda\"))"
   ]
  },
  {
   "cell_type": "code",
   "execution_count": 42,
   "metadata": {},
   "outputs": [
    {
     "data": {
      "text/plain": [
       "tensor([[ 0,  1,  0, 13,  1,  2,  2,  3,  2, 14,  3,  4,  4,  5,  5,  6,  5, 15,\n",
       "          6,  7,  7,  8,  8,  9,  9, 10,  9, 15, 10, 11, 11, 12, 12, 13, 12, 14,\n",
       "         14, 15, 16, 17, 16, 43, 17, 18, 17, 22, 18, 19, 19, 20, 20, 21, 21, 22,\n",
       "         22, 23, 23, 24, 23, 38, 24, 25, 24, 37, 25, 26, 25, 30, 26, 27, 27, 28,\n",
       "         28, 29, 29, 30, 30, 31, 31, 32, 32, 33, 32, 37, 33, 34, 34, 35, 35, 36,\n",
       "         36, 37, 38, 39, 38, 43, 39, 40, 40, 41, 41, 42, 42, 43,  0,  7,  0,  0,\n",
       "          7,  7, 16, 31, 16, 16, 31, 31,  0, 16,  0, 31,  7, 16,  7, 31],\n",
       "        [ 1,  0, 13,  0,  2,  1,  3,  2, 14,  2,  4,  3,  5,  4,  6,  5, 15,  5,\n",
       "          7,  6,  8,  7,  9,  8, 10,  9, 15,  9, 11, 10, 12, 11, 13, 12, 14, 12,\n",
       "         15, 14, 17, 16, 43, 16, 18, 17, 22, 17, 19, 18, 20, 19, 21, 20, 22, 21,\n",
       "         23, 22, 24, 23, 38, 23, 25, 24, 37, 24, 26, 25, 30, 25, 27, 26, 28, 27,\n",
       "         29, 28, 30, 29, 31, 30, 32, 31, 33, 32, 37, 32, 34, 33, 35, 34, 36, 35,\n",
       "         37, 36, 39, 38, 43, 38, 40, 39, 41, 40, 42, 41, 43, 42,  7,  0,  0,  0,\n",
       "          7,  7, 31, 16, 16, 16, 31, 31, 16,  0, 31,  0, 16,  7, 31,  7]])"
      ]
     },
     "execution_count": 42,
     "metadata": {},
     "output_type": "execute_result"
    }
   ],
   "source": [
    "dataset[0].edge_index"
   ]
  },
  {
   "cell_type": "code",
   "execution_count": 11,
   "metadata": {},
   "outputs": [],
   "source": [
    "loader = DataLoader(dataset, batch_size=3, shuffle=False)"
   ]
  },
  {
   "cell_type": "code",
   "execution_count": 5,
   "metadata": {},
   "outputs": [],
   "source": [
    "def get_sin_encodings(rel_pos_buckets, model_dim) -> torch.Tensor:\n",
    "    pe = torch.zeros(rel_pos_buckets + 1, model_dim)\n",
    "    position = torch.arange(0, rel_pos_buckets).unsqueeze(1)\n",
    "    div_term = torch.exp((torch.arange(0, model_dim, 2, dtype=torch.float) *\n",
    "                          -(math.log(10000.0) / model_dim)))\n",
    "    pe[:-1, 0::2] = torch.sin(position.float() * div_term)          # leaving last \"position\" as padding\n",
    "    pe[:-1, 1::2] = torch.cos(position.float() * div_term)\n",
    "\n",
    "    return pe\n",
    "\n",
    "\n",
    "class MultiHeadedRelAttention(nn.Module):\n",
    "    def __init__(self, args, head_count, model_dim, dropout, rel_pos_buckets, u, v):\n",
    "        super().__init__()\n",
    "        self.args = args\n",
    "\n",
    "        assert model_dim % head_count == 0\n",
    "        self.dim_per_head = model_dim // head_count\n",
    "        self.model_dim = model_dim\n",
    "        self.head_count = head_count\n",
    "\n",
    "        self.linear_keys = nn.Linear(model_dim, model_dim)\n",
    "        self.linear_values = nn.Linear(model_dim, model_dim)\n",
    "        self.linear_query = nn.Linear(model_dim, model_dim)\n",
    "\n",
    "        self.softmax = nn.Softmax(dim=-1)\n",
    "        self.dropout = nn.Dropout(dropout)\n",
    "        self.final_linear = nn.Linear(model_dim, model_dim)\n",
    "\n",
    "        self.rel_pos_buckets = rel_pos_buckets\n",
    "\n",
    "        # if args.rel_pos == \"enc_only\":\n",
    "        self.relative_pe = nn.Embedding.from_pretrained(\n",
    "            embeddings=get_sin_encodings(rel_pos_buckets, model_dim),\n",
    "            freeze=True,\n",
    "            padding_idx=rel_pos_buckets\n",
    "        )\n",
    "            # self.W_kR = nn.Parameter(\n",
    "            #     torch.Tensor(self.head_count, self.dim_per_head, self.dim_per_head), requires_grad=True)\n",
    "            # self.b_kR = nn.Parameter(\n",
    "            #     torch.Tensor(self.head_count, self.dim_per_head), requires_grad=True)\n",
    "\n",
    "        # elif args.rel_pos == \"emb_only\":\n",
    "        #     self.relative_pe = nn.Embedding(\n",
    "        #         rel_pos_buckets + 1,\n",
    "        #         model_dim,\n",
    "        #         padding_idx=rel_pos_buckets\n",
    "        #     )\n",
    "        #     # self.W_kR = nn.Parameter(\n",
    "        #     #     torch.Tensor(self.head_count, self.dim_per_head, self.dim_per_head), requires_grad=True)\n",
    "        #     # self.b_kR = nn.Parameter(\n",
    "        #     #     torch.Tensor(self.head_count, self.dim_per_head), requires_grad=True)\n",
    "\n",
    "        # else:\n",
    "        #     self.relative_pe = None\n",
    "        #     self.W_kR = None\n",
    "        #     self.b_kR = None\n",
    "\n",
    "        self.u = u\n",
    "        self.v = v\n",
    "\n",
    "    def forward(self, inputs, mask, distances,):\n",
    "\n",
    "        batch_size = inputs.size(0)\n",
    "        dim_per_head = self.dim_per_head        # 256 / 8\n",
    "        head_count = self.head_count            # 8\n",
    "\n",
    "        def shape(x):\n",
    "            \"\"\"Projection.\"\"\"\n",
    "            return x.view(batch_size, -1, head_count, dim_per_head).transpose(1, 2)\n",
    "\n",
    "        def unshape(x):\n",
    "            \"\"\"Compute context.\"\"\"\n",
    "            return x.transpose(1, 2).contiguous().view(batch_size, -1, head_count * dim_per_head)\n",
    "\n",
    "        # 1) Project key, value, and query. Seems that we don't need layer_cache here\n",
    "        query = self.linear_query(inputs)\n",
    "        key = self.linear_keys(inputs)\n",
    "        value = self.linear_values(inputs)\n",
    "\n",
    "        key = shape(key)                # (b, t_k, h) -> (b, head, t_k, h/head)\n",
    "        value = shape(value)\n",
    "        query = shape(query)            # (b, t_q, h) -> (b, head, t_q, h/head)\n",
    "\n",
    "        key_len = key.size(2)           # max_len\n",
    "        query_len = query.size(2)       # max_len\n",
    "\n",
    "        # 2) Calculate and scale scores.\n",
    "        query = query / math.sqrt(dim_per_head)\n",
    "\n",
    "        if self.relative_pe is None:\n",
    "            scores = torch.matmul(\n",
    "                query, key.transpose(2, 3))                 # (b, head, t_q, t_k)\n",
    "\n",
    "        else:\n",
    "            # a + c\n",
    "            u = self.u.reshape(1, head_count, 1, dim_per_head)     # [256] -> [1,8,1,32]\n",
    "            a_c = torch.matmul(query + u, key.transpose(2, 3))\n",
    "\n",
    "            rel_emb = self.relative_pe(distances)           # (b, t_q, t_k) -> (b, t_q, t_k, h)\n",
    "            rel_emb = rel_emb.reshape(                      # (b, t_q, t_k, h) -> (b, t_q, t_k, head, h/head)\n",
    "                batch_size, query_len, key_len, head_count, dim_per_head)\n",
    "\n",
    "            # W_kR = self.W_kR.reshape(1, 1, 1, head_count, dim_per_head, dim_per_head)\n",
    "            # rel_emb = torch.matmul(rel_emb, W_kR)           # (b, t_q, t_k, head, 1, h/head)\n",
    "            # rel_emb = rel_emb.squeeze(-2)                   # (b, t_q, t_k, head, h/head)\n",
    "            #\n",
    "            # b_kR = self.b_kR.reshape(1, 1, 1, head_count, dim_per_head)\n",
    "            # rel_emb = rel_emb + b_kR                        # (b, t_q, t_k, head, h/head)\n",
    "\n",
    "            # b + d\n",
    "            query = query.unsqueeze(-2)                     # (b, head, t_q, h/head) -> (b, head, t_q, 1, h/head)\n",
    "            rel_emb_t = rel_emb.permute(0, 3, 1, 4, 2)      # (b, t_q, t_k, head, h/head) -> (b, head, t_q, h/head, t_k)\n",
    "\n",
    "            v = self.v.reshape(1, head_count, 1, 1, dim_per_head)\n",
    "            b_d = torch.matmul(query + v, rel_emb_t\n",
    "                               ).squeeze(-2)                # (b, head, t_q, 1, t_k) -> (b, head, t_q, t_k)\n",
    "\n",
    "            scores = a_c + b_d\n",
    "\n",
    "        scores = scores.float()\n",
    "\n",
    "        mask = mask.unsqueeze(1)                            # (B, 1, 1, T_values)\n",
    "        scores = scores.masked_fill(mask, -1e18)\n",
    "\n",
    "        # 3) Apply attention dropout and compute context vectors.\n",
    "        attn = self.softmax(scores)\n",
    "        drop_attn = self.dropout(attn)\n",
    "\n",
    "        context_original = torch.matmul(drop_attn, value)   # -> (b, head, t_q, h/head)\n",
    "        context = unshape(context_original)                 # -> (b, t_q, h)\n",
    "\n",
    "        output = self.final_linear(context)\n",
    "        attns = attn.view(batch_size, head_count, query_len, key_len)\n",
    "\n",
    "        return output, attns\n",
    "\n",
    "\n",
    "class SALayerXL(nn.Module):\n",
    "    \"\"\"\n",
    "    A single layer of the self-attention encoder.\n",
    "\n",
    "    Args:\n",
    "        d_model (int): the dimension of keys/values/queries in\n",
    "                   MultiHeadedAttention, also the input size of\n",
    "                   the first-layer of the PositionwiseFeedForward.\n",
    "        heads (int): the number of head for MultiHeadedAttention.\n",
    "        d_ff (int): the second-layer of the PositionwiseFeedForward.\n",
    "        dropout: dropout probability(0-1.0).\n",
    "    \"\"\"\n",
    "\n",
    "    def __init__(self, args, d_model, heads, d_ff, dropout, attention_dropout, rel_pos_buckets: int, u, v):\n",
    "        super().__init__()\n",
    "\n",
    "        self.self_attn = MultiHeadedRelAttention(\n",
    "            args,\n",
    "            heads, d_model, dropout=attention_dropout,\n",
    "            rel_pos_buckets=rel_pos_buckets,\n",
    "            u=u,\n",
    "            v=v\n",
    "        )\n",
    "        self.feed_forward = PositionwiseFeedForward(d_model, d_ff, dropout)\n",
    "        self.layer_norm = nn.LayerNorm(d_model, eps=1e-6)\n",
    "        self.dropout = nn.Dropout(dropout)\n",
    "\n",
    "    def forward(self, inputs, mask, distances):\n",
    "        \"\"\"\n",
    "        Args:\n",
    "            inputs (FloatTensor): ``(batch_size, src_len, model_dim)``\n",
    "            mask (LongTensor): ``(batch_size, 1, src_len)``\n",
    "            distances (LongTensor): ``(batch_size, src_len, src_len)``\n",
    "\n",
    "        Returns:\n",
    "            (FloatTensor):\n",
    "\n",
    "            * outputs ``(batch_size, src_len, model_dim)``\n",
    "        \"\"\"        \n",
    "        input_norm = self.layer_norm(inputs)\n",
    "        # print(input_norm)\n",
    "        context, _ = self.self_attn(input_norm, mask=mask, distances=distances)\n",
    "        \n",
    "        out = self.dropout(context) + inputs\n",
    "        # print(self.feed_forward(out))\n",
    "        return self.feed_forward(out)\n",
    "\n",
    "\n",
    "class AttnEncoderXL(nn.Module):\n",
    "    def __init__(self, args):\n",
    "        super().__init__()\n",
    "        self.args = args\n",
    "\n",
    "        self.num_layers = args.attn_enc_num_layers\n",
    "        self.d_model = args.attn_enc_hidden_size            #hidden_size\n",
    "        self.heads = args.attn_enc_heads                    #多少个头\n",
    "        self.d_ff = args.attn_enc_filter_size\n",
    "        self.attention_dropout = args.attn_dropout\n",
    "        self.rel_pos_buckets = args.rel_pos_buckets\n",
    "\n",
    "        self.encoder_pe = PositionalEncoding(\n",
    "            dim=self.d_model,\n",
    "            max_len=1024,        # temporary hard-code. Seems that onmt fix the denominator as 10000.0\n",
    "            dropout=args.dropout\n",
    "            # enc_type=args.enc_type\n",
    "        )\n",
    "\n",
    "        self.u = nn.Parameter(torch.randn(self.d_model), requires_grad=True)\n",
    "        self.v = nn.Parameter(torch.randn(self.d_model), requires_grad=True)\n",
    "\n",
    "        self.attention_layers = nn.ModuleList(\n",
    "            [SALayerXL(\n",
    "                args, self.d_model, self.heads, self.d_ff, args.dropout, self.attention_dropout,\n",
    "                self.rel_pos_buckets, self.u, self.v)\n",
    "             for i in range(self.num_layers)])\n",
    "        self.layer_norm = nn.LayerNorm(self.d_model, eps=1e-6)\n",
    "\n",
    "    def forward(self, src, lengths, distances):\n",
    "        \"\"\"adapt from onmt TransformerEncoder\n",
    "            src: (t, b, h)\n",
    "            lengths: (b,)\n",
    "            distances: (b, t, t)\n",
    "        \"\"\"\n",
    "        emb = self.encoder_pe(src)\n",
    "        out = emb.transpose(0, 1).contiguous()\n",
    "        \n",
    "        mask = ~sequence_mask(lengths).unsqueeze(1)\n",
    "\n",
    "        for layer in self.attention_layers:\n",
    "            out = layer(out, mask, distances)\n",
    "            # out [batch_size, max_len, hidden_size]\n",
    "            # mask [batch_size, 1, max_len]\n",
    "            # distances [batch_size, max_len, max_len]\n",
    "        out = self.layer_norm(out)\n",
    "\n",
    "        return out.transpose(0, 1).contiguous()\n"
   ]
  },
  {
   "cell_type": "code",
   "execution_count": 54,
   "metadata": {},
   "outputs": [],
   "source": [
    "class MPNEncoder(nn.Module):\n",
    "    \"\"\"An :class:`MPNEncoder` is a message passing neural network for encoding a molecule.\"\"\"\n",
    "\n",
    "    def __init__(self, args: TrainArgs, atom_fdim: int, bond_fdim: int):\n",
    "        \"\"\"\n",
    "        :param args: A :class:`~chemprop.args.TrainArgs` object containing model arguments.\n",
    "        :param atom_fdim: Atom feature vector dimension.\n",
    "        :param bond_fdim: Bond feature vector dimension.\n",
    "        \"\"\"\n",
    "        super(MPNEncoder, self).__init__()\n",
    "        self.atom_fdim = atom_fdim                  # atom feature len\n",
    "        self.bond_fdim = bond_fdim                  # bond feature len\n",
    "        self.atom_messages = args.atom_messages     # 是否以原子为中心传递\n",
    "        self.hidden_size = args.hidden_size         # 300\n",
    "        self.depth = args.depth                     # 消息传递的步数\n",
    "        self.dropout = args.dropout\n",
    "        self.undirected = args.undirected           # False\n",
    "        self.device = torch.device('cpu')\n",
    "        self.aggregation = args.aggregation         # mean\n",
    "        self.aggregation_norm = args.aggregation_norm   # 100\n",
    "        self.atom_messages = True\n",
    "        self.directed = not self.atom_messages\n",
    "        # Dropout\n",
    "        self.dropout_layer = nn.Dropout(p=self.dropout)\n",
    "\n",
    "        # Activation\n",
    "        self.act_func = get_activation_function(args.activation)    # Relu\n",
    "\n",
    "        # Cached zeros\n",
    "        self.cached_zero_vector = nn.Parameter(torch.zeros(self.hidden_size), requires_grad=False)\n",
    "\n",
    "        # Input\n",
    "        input_dim = self.atom_fdim if self.atom_messages else self.bond_fdim\n",
    "        self.W_i = nn.Linear(input_dim, self.hidden_size)\n",
    "\n",
    "        if self.atom_messages:\n",
    "            w_h_input_size = self.hidden_size + self.bond_fdim\n",
    "        else:\n",
    "            w_h_input_size = self.hidden_size\n",
    "\n",
    "        # Shared weight matrix across depths (default)\n",
    "        self.W_h = nn.Linear(w_h_input_size, self.hidden_size)\n",
    "\n",
    "        self.W_o = nn.Linear(self.atom_fdim + self.hidden_size, self.hidden_size)\n",
    "        self.attention_encoder = AttnEncoderXL(args)\n",
    "        init.constant_(self.W_i.weight, 0.01)\n",
    "        init.constant_(self.W_i.bias, 1)\n",
    "        init.constant_(self.W_h.weight, 0.01)\n",
    "        init.constant_(self.W_h.bias, 1)\n",
    "        init.constant_(self.W_o.weight, 0.01)\n",
    "        init.constant_(self.W_o.bias, 1)\n",
    "\n",
    "    def forward(self,\n",
    "                mol_graph: BatchMolGraph,\n",
    "                atom_descriptors_batch: List[np.ndarray] = None) -> torch.FloatTensor:\n",
    "        \"\"\"\n",
    "        Encodes a batch of molecular graphs.\n",
    "\n",
    "        :param mol_graph: A :class:`~chemprop.features.featurization.BatchMolGraph` representing\n",
    "                          a batch of molecular graphs.\n",
    "        :param atom_descriptors_batch: A list of numpy arrays containing additional atomic descriptors\n",
    "        :return: A PyTorch tensor of shape :code:`(num_molecules, hidden_size)` containing the encoding of each molecule.\n",
    "        \"\"\"\n",
    "        f_atoms, f_bonds, w_atoms, w_bonds, a2b, b2a, b2revb, \\\n",
    "        a_scope, b_scope, degree_of_polym, _,_= mol_graph.get_components(atom_messages=False)\n",
    "\n",
    "        f_atoms, f_bonds, w_atoms, w_bonds, a2b, b2a, b2revb = f_atoms.to(self.device), f_bonds.to(self.device), \\\n",
    "                                                               w_atoms.to(self.device), w_bonds.to(self.device), \\\n",
    "                                                               a2b.to(self.device), b2a.to(self.device), \\\n",
    "                                                               b2revb.to(self.device)\n",
    "        if self.atom_messages:\n",
    "            a2a = mol_graph.get_a2a().to(self.device)\n",
    "\n",
    "\n",
    "        if self.atom_messages:\n",
    "            input = self.W_i(f_atoms)                                   # [num_atoms , hidden_size]\n",
    "        else:\n",
    "            input = self.W_i(f_bonds)                                   # [num_bonds , hidden_size]\n",
    "        print(input)\n",
    "        message = self.act_func(input)                                  # [num_bonds / num_atoms , hidden_size]\n",
    "\n",
    "        # Message passing                                               \n",
    "        for depth in range(self.depth - 1):\n",
    "            if self.undirected:\n",
    "                message = (message + message[b2revb]) / 2\n",
    "            if self.atom_messages:\n",
    "                nei_a_message = index_select_ND(message, a2a)           # [num_atoms , max_num_bonds , hidden_size] 某一原子，其周围所有原子的特征\n",
    "                nei_f_bonds = index_select_ND(f_bonds, a2b)             # [num_atoms , max_num_bonds , bond_fdim]\n",
    "                nei_message = torch.cat((nei_a_message, nei_f_bonds), dim=2)  # [num_atoms , max_num_bonds , hidden + bond_fdim]\n",
    "                message = nei_message.sum(dim=1)                        # [num_atoms , hidden + bond_fdim]\n",
    "            else:\n",
    "                nei_a_message = index_select_ND(message, a2b)           # [num_atoms , max_num_bonds , hidden]\n",
    "                nei_a_weight = index_select_ND(w_bonds, a2b)            # [num_atoms , max_num_bonds]\n",
    "                nei_a_message = nei_a_message * nei_a_weight[..., None]  # [num_atoms , max_num_bonds , hidden]\n",
    "                a_message = nei_a_message.sum(dim=1)  # num_atoms x hidden\n",
    "                rev_message = message[b2revb]  # num_bonds x hidden]\n",
    "                message = a_message[b2a] - rev_message * w_bonds[..., None]       # [num_bonds , hidden]\n",
    "            message = self.W_h(message)\n",
    "            message = self.act_func(input + message)                    # [num_bonds/num_atoms , hidden]  skip connection\n",
    "            message = self.dropout_layer(message)                       # [num_bonds/num_atoms , hidden]\n",
    "        \n",
    "        a2x = a2a if self.atom_messages else a2b\n",
    "        nei_a_message = index_select_ND(message, a2x)                   # [num_bonds/num_atoms , max_num_bonds , hidden]\n",
    "        nei_a_weight = index_select_ND(w_bonds, a2x)                    # [num_bonds/num_atoms , max_num_bonds]\n",
    "        # # weight messages\n",
    "        nei_a_message = nei_a_message * nei_a_weight[..., None]         # [num_bonds/num_atoms , max_num_bonds , hidden]\n",
    "        a_message = nei_a_message.sum(dim=1)                            # [num_bonds/num_atoms , hidden]\n",
    "        \n",
    "        a_input = torch.cat([f_atoms, a_message], dim=1)                # [num_bonds/num_atoms , hidden + f_atom]\n",
    "        atom_hiddens = self.act_func(self.W_o(a_input))                 # [num_bonds/num_atoms , hidden]\n",
    "        # atom_hiddens = self.dropout_layer(atom_hiddens)                 # [num_bonds/num_atoms , hidden]\n",
    "\n",
    "        lengths = torch.tensor([i[1] for i in a_scope])\n",
    "        max_length = torch.max(lengths)\n",
    "        padded_tensor = pad_sequence(torch.split(atom_hiddens[1:], lengths.tolist()), batch_first=True, padding_value=0)\n",
    "        poly_vec = self.attention_encoder(padded_tensor.permute(1,0,2),lengths,distance.view(len(a_scope),distance.shape[-1],distance.shape[-1])[:,:max_length,:max_length])\n",
    "        poly_vec = torch.cat([poly_vec.permute(1,0,2)[i, :a,:] for i,a in enumerate([i[1] for i in a_scope])], dim=0)        #确定是对的吗\n",
    "        poly_vec = torch.cat([atom_hiddens[0].unsqueeze(0),poly_vec])\n",
    "        \n",
    "        mol_vecs = []\n",
    "        for i, (a_start, a_size) in enumerate(a_scope):\n",
    "            if a_size == 0:\n",
    "                mol_vecs.append(self.cached_zero_vector)\n",
    "            else:\n",
    "                cur_hiddens = atom_hiddens.narrow(0, a_start, a_size)\n",
    "                mol_vec = cur_hiddens  # (num_atoms, hidden_size)\n",
    "                w_atom_vec = w_atoms.narrow(0, a_start, a_size)\n",
    "                # if input are polymers, weight atoms from each repeating unit according to specified monomer fractions\n",
    "                # weight h by atom weights (weights are all 1 for non-polymer input)\n",
    "                mol_vec = w_atom_vec[..., None] * mol_vec\n",
    "                # weight each atoms at readout\n",
    "                if self.aggregation == 'mean':\n",
    "                    mol_vec = mol_vec.sum(dim=0) / w_atom_vec.sum(dim=0)  # if not --polymer, w_atom_vec.sum == a_size\n",
    "                elif self.aggregation == 'sum':\n",
    "                    mol_vec = mol_vec.sum(dim=0)\n",
    "                elif self.aggregation == 'norm':\n",
    "                    mol_vec = mol_vec.sum(dim=0) / self.aggregation_norm\n",
    "\n",
    "                # if input are polymers, multiply mol vectors by degree of polymerization\n",
    "                # if not --polymer, Xn is 1\n",
    "                mol_vec = degree_of_polym[i] * mol_vec\n",
    "\n",
    "                mol_vecs.append(mol_vec)\n",
    "        mol_vecs = torch.stack(mol_vecs, dim=0)  # (num_molecules, hidden_size)\n",
    "        return mol_vecs  # num_molecules x hidden"
   ]
  },
  {
   "cell_type": "code",
   "execution_count": 64,
   "metadata": {},
   "outputs": [],
   "source": [
    "from torch_geometric import nn as pnn\n",
    "from typing import List, Union, Tuple\n",
    "from functools import reduce\n",
    "from rdkit import Chem\n",
    "from args import TrainArgs\n",
    "from features import BatchMolGraph, get_atom_fdim, get_bond_fdim\n",
    "from nn_utils import get_activation_function, index_select_ND\n",
    "class MPNEncoder_PyG(pnn.MessagePassing):\n",
    "    \"\"\"An :class:`MPNEncoder` is a message passing neural network for encoding a molecule.\"\"\"\n",
    "\n",
    "    def __init__(self, args: TrainArgs, atom_fdim: int, bond_fdim: int):\n",
    "        \"\"\"\n",
    "        :param args: A :class:`~chemprop.args.TrainArgs` object containing model arguments.\n",
    "        :param atom_fdim: Atom feature vector dimension.\n",
    "        :param bond_fdim: Bond feature vector dimension.\n",
    "        \"\"\"\n",
    "        super(MPNEncoder_PyG, self).__init__(aggr=\"add\")\n",
    "        self.atom_fdim = atom_fdim                  # atom feature len\n",
    "        self.bond_fdim = bond_fdim                  # bond feature len\n",
    "        self.atom_messages = args.atom_messages     # 是否以原子为中心传递\n",
    "        self.hidden_size = args.hidden_size         # 300\n",
    "        self.depth = args.depth                     # 消息传递的步数\n",
    "        self.dropout = args.dropout\n",
    "        self.device = torch.device('cpu')\n",
    "        self.aggregation = args.aggregation         # mean\n",
    "        self.aggregation_norm = args.aggregation_norm   # 100\n",
    "        self.atom_messages = True\n",
    "        self.directed = not self.atom_messages\n",
    "        self.with_pe = args.with_pe\n",
    "        self.with_pe = True\n",
    "        # Dropout\n",
    "        self.dropout_layer = nn.Dropout(p=self.dropout)\n",
    "\n",
    "        # Activation\n",
    "        self.act_func = get_activation_function(args.activation)    # Relu\n",
    "\n",
    "        # Cached zeros\n",
    "        self.cached_zero_vector = nn.Parameter(torch.zeros(self.hidden_size), requires_grad=False)\n",
    "\n",
    "        # Input\n",
    "        input_dim = self.atom_fdim if self.atom_messages else self.bond_fdim\n",
    "        self.W_i = nn.Linear(input_dim, self.hidden_size)\n",
    "\n",
    "        if self.atom_messages:\n",
    "            w_h_input_size = self.hidden_size + self.bond_fdim\n",
    "        else:\n",
    "            w_h_input_size = self.hidden_size\n",
    "\n",
    "        # Shared weight matrix across depths (default)\n",
    "        self.W_h = nn.Linear(w_h_input_size, self.hidden_size)\n",
    "        self.W_o = nn.Linear(self.atom_fdim + self.hidden_size, self.hidden_size)\n",
    "\n",
    "        self.attention_encoder = AttnEncoderXL(args)\n",
    "\n",
    "        # init.constant_(self.W_i.weight, 0.01)\n",
    "        # init.constant_(self.W_i.bias, 0)\n",
    "        # init.constant_(self.W_h.weight, 0.01)\n",
    "        # init.constant_(self.W_h.bias, 0)\n",
    "        # init.constant_(self.W_o.weight, 0.01)\n",
    "        # init.constant_(self.W_o.bias, 0)\n",
    "\n",
    "        \n",
    "    def forward(self, data):\n",
    "        x, edge_index, edge_attr,b2revb,w_atoms,w_bonds, batch,ptr,distance = (\n",
    "            data.x,\n",
    "            data.edge_index,\n",
    "            data.edge_attr,\n",
    "            data.b2revb,\n",
    "            data.w_atoms,\n",
    "            data.w_bonds,\n",
    "            data.batch,\n",
    "            data.ptr,\n",
    "            data.distance\n",
    "        )\n",
    "        a_message = x\n",
    "        b_message = edge_attr\n",
    "        # print(x[0,:])\n",
    "        # print(edge_attr[0,:])\n",
    "        if not self.directed:\n",
    "            input = self.W_i(a_message)\n",
    "            a_message = self.act_func(input)              # [num_atoms , hidden_size]\n",
    "        else:\n",
    "            input = self.W_i(b_message)\n",
    "            b_message = self.act_func(input)              # [num_bonds , hidden_size]\n",
    "\n",
    "        for depth in range(self.depth - 1):\n",
    "            message = self.propagate(\n",
    "                edge_index      =   edge_index,\\\n",
    "                x               =   a_message,\\\n",
    "                edge_attr       =   b_message,\\\n",
    "                b2revb          =   b2revb,\\\n",
    "                w_atoms         =   w_atoms,\\\n",
    "                w_bonds         =   w_bonds,\\\n",
    "                skip_connection =   False,\\\n",
    "                first           =   x)\n",
    "            if self.directed:\n",
    "                b_message = self.act_func(self.W_h(message)+input)\n",
    "            else:\n",
    "                a_message = self.act_func(self.W_h(message)+input)\n",
    "\n",
    "        after_mp = self.propagate(\n",
    "                edge_index      =   edge_index,\\\n",
    "                x               =   a_message,\\\n",
    "                edge_attr       =   b_message,\\\n",
    "                b2revb          =   b2revb,\\\n",
    "                w_atoms         =   w_atoms,\\\n",
    "                w_bonds         =   w_bonds,\\\n",
    "                skip_connection =   True,\\\n",
    "                first           =   x)\n",
    "        after_mp = self.act_func(self.W_o(after_mp))\n",
    "\n",
    "        # print(after_mp[:,0])\n",
    "        # print(b2revb)\n",
    "        # 按照batch聚合\n",
    "        # print(after_mp[0,:])\n",
    "        poly_vec = w_atoms.view(w_atoms.shape[0], 1) * after_mp\n",
    "        if self.with_pe:\n",
    "            lengths = ptr[1:] - ptr[:-1]\n",
    "            max_length = torch.max(lengths)\n",
    "            padded_tensor = pad_sequence(torch.split(poly_vec, lengths.tolist()), batch_first=True, padding_value=0)\n",
    "            poly_vec = self.attention_encoder(padded_tensor.permute(1,0,2),ptr[1:] - ptr[:-1],distance.view(data.ptr.shape[0]-1,distance.shape[-1],distance.shape[-1])[:,:max_length,:max_length])\n",
    "\n",
    "        \n",
    "        poly_vec = torch.cat([poly_vec.permute(1,0,2)[i, :a,:] for i,a in enumerate(ptr[1:] - ptr[:-1])], dim=0)\n",
    "\n",
    "        poly_vec = scatter_sum(poly_vec, batch, dim=0)\n",
    "        w_atoms = scatter_sum(w_atoms, batch, dim=0)\n",
    "        poly_vec = poly_vec / w_atoms.view(w_atoms.shape[0], 1)\n",
    "        \n",
    "        # poly_vec = degree_of_polym[i] * poly_vec          # 目前数据没有用聚合度信息\n",
    "\n",
    "        return poly_vec\n",
    "\n",
    "    def update(self, aggr_out,edge_index,edge_attr,b2revb,w_bonds,skip_connection,first):\n",
    "        \n",
    "        if not skip_connection:\n",
    "            if self.directed:\n",
    "                # print(aggr_out[edge_index[0]][:,0])\n",
    "                # print(aggr_out[edge_index[0]][:,0])\n",
    "                # print(edge_attr[b2revb][:,0])\n",
    "                # print(b2revb)\n",
    "                message = aggr_out[edge_index[0]] - edge_attr[b2revb] * w_bonds[...,None]\n",
    "            else:\n",
    "                message = aggr_out\n",
    "        else:\n",
    "            message = torch.cat([first, aggr_out], dim=1)\n",
    "        return message\n",
    "\n",
    "    def message(self, x_i, x_j, edge_index,edge_attr,b2revb,w_bonds,skip_connection,first):\n",
    "        # x_i x_j   从i节点到j节点的边是edge_index\n",
    "        if not skip_connection:\n",
    "            if self.directed:\n",
    "                nei_a_message = edge_attr * w_bonds[..., None]\n",
    "            else:\n",
    "                nei_a_message = torch.cat((x_j,edge_attr),dim=1)\n",
    "        else:\n",
    "            if self.directed:\n",
    "                nei_a_message = edge_attr * w_bonds[..., None]\n",
    "            else:\n",
    "                nei_a_message = x_j * w_bonds[edge_index[0]][..., None]\n",
    "        return nei_a_message"
   ]
  },
  {
   "cell_type": "code",
   "execution_count": 7,
   "metadata": {},
   "outputs": [],
   "source": [
    "class MPNEncoder_PyG_helper(nn.Module):\n",
    "    def __init__(self, args: TrainArgs, atom_fdim: int, bond_fdim: int):\n",
    "        super(MPNEncoder_PyG_helper, self).__init__()\n",
    "        self.mpn = MPNEncoder_PyG(args= args, atom_fdim= atom_fdim, bond_fdim= bond_fdim)\n",
    "\n",
    "    def forward(self,\n",
    "        mol_graph: BatchMolGraph,\n",
    "        atom_descriptors_batch: List[np.ndarray] = None) -> torch.FloatTensor:\n",
    "        f_atoms, f_bonds, w_atoms, w_bonds, a2b, b2a, b2revb, a_scope, b_scope, _  = mol_graph.get_components()\n",
    "        dataset = []\n",
    "\n",
    "        for idx,(a_scope_i,b_scope_i) in enumerate(zip(a_scope,b_scope)):\n",
    "            edge_index = [[],[]]\n",
    "            b2a_i = b2a[b_scope_i[0]:b_scope_i[0]+b_scope_i[1]]\n",
    "            b2revb_i = b2revb[b_scope_i[0]:b_scope_i[0]+b_scope_i[1]]\n",
    "\n",
    "            for i in range(b2a_i.size(0)):\n",
    "                edge_index[0].append(b2a_i[i].item()-a_scope_i[0])\n",
    "                edge_index[1].append(b2a_i[b2revb_i[i]-b_scope_i[0]]-a_scope_i[0])\n",
    "            \n",
    "            edge_index = torch.tensor(edge_index,dtype=torch.long)\n",
    "            w_atom = w_atoms[a_scope_i[0]:a_scope_i[0]+a_scope_i[1]]\n",
    "            w_bond = w_bonds[b_scope_i[0]:b_scope_i[0]+b_scope_i[1]]\n",
    "            edge_attr = f_bonds[b_scope_i[0]:b_scope_i[0]+b_scope_i[1]]\n",
    "            data = Data(\n",
    "                x = f_atoms[a_scope_i[0]:a_scope_i[0]+a_scope_i[1]],\n",
    "                edge_index=edge_index,\n",
    "                edge_attr = edge_attr,\n",
    "                w_atoms = w_atom,\n",
    "                w_bonds = w_bond,\n",
    "                b2revb = b2revb[b_scope_i[0]:b_scope_i[0]+b_scope_i[1]]-b_scope_i[0],\n",
    "                distance = get_distance(edge_index,w_bonds,w_atom.shape[0])\n",
    "            )\n",
    "            dataset.append(data)\n",
    "        return self.mpn(Batch.from_data_list(dataset))"
   ]
  },
  {
   "cell_type": "code",
   "execution_count": 55,
   "metadata": {},
   "outputs": [],
   "source": [
    "# model_pyg = MPNEncoder_PyG(args=TrainArgs, atom_fdim=get_atom_fdim(),bond_fdim=get_bond_fdim())\n",
    "model = MPNEncoder(args=TrainArgs, atom_fdim=get_atom_fdim(),bond_fdim=get_bond_fdim())\n",
    "# model_helper = MPNEncoder_PyG_helper(args=TrainArgs, atom_fdim=get_atom_fdim(),bond_fdim=get_bond_fdim())"
   ]
  },
  {
   "cell_type": "code",
   "execution_count": 56,
   "metadata": {},
   "outputs": [
    {
     "name": "stdout",
     "output_type": "stream",
     "text": [
      "tensor([[1.0000, 1.0000, 1.0000,  ..., 1.0000, 1.0000, 1.0000],\n",
      "        [1.0616, 1.0616, 1.0616,  ..., 1.0616, 1.0616, 1.0616],\n",
      "        [1.0611, 1.0611, 1.0611,  ..., 1.0611, 1.0611, 1.0611],\n",
      "        ...,\n",
      "        [1.0680, 1.0680, 1.0680,  ..., 1.0680, 1.0680, 1.0680],\n",
      "        [1.0712, 1.0712, 1.0712,  ..., 1.0712, 1.0712, 1.0712],\n",
      "        [1.0635, 1.0635, 1.0635,  ..., 1.0635, 1.0635, 1.0635]],\n",
      "       grad_fn=<AddmmBackward0>)\n",
      "tensor([416.0735, 415.6985, 416.4963, 415.8903], grad_fn=<SelectBackward0>)\n"
     ]
    }
   ],
   "source": [
    "print(model(batch_mol2graph)[:,0])\n",
    "# print(model_helper(batch_mol2graph)[:,0])\n",
    "\n",
    "# tensor([4.5951, 4.1181, 4.5415], grad_fn=<SelectBackward0>)\n",
    "# tensor([4.5951, 4.0224, 4.4506], grad_fn=<SelectBackward0>)\n"
   ]
  },
  {
   "cell_type": "code",
   "execution_count": 68,
   "metadata": {},
   "outputs": [
    {
     "name": "stdout",
     "output_type": "stream",
     "text": [
      "torch.Size([79, 300])\n"
     ]
    },
    {
     "ename": "RuntimeError",
     "evalue": "The expanded size of the tensor (44) must match the existing size (79) at non-singleton dimension 0.  Target sizes: [44, 3, 300].  Tensor sizes: [79, 1, 1]",
     "output_type": "error",
     "traceback": [
      "\u001b[0;31m---------------------------------------------------------------------------\u001b[0m",
      "\u001b[0;31mRuntimeError\u001b[0m                              Traceback (most recent call last)",
      "Cell \u001b[0;32mIn[68], line 4\u001b[0m\n\u001b[1;32m      1\u001b[0m \u001b[38;5;28;01mfor\u001b[39;00m batch \u001b[38;5;129;01min\u001b[39;00m loader:        \u001b[38;5;66;03m# 这个和有helper的时候还不一样，数据预处理时两个b2rev减去的东西不一样\u001b[39;00m\n\u001b[1;32m      2\u001b[0m \n\u001b[1;32m      3\u001b[0m     \u001b[38;5;66;03m# print(batch.x.shape)\u001b[39;00m\n\u001b[0;32m----> 4\u001b[0m     \u001b[43mmodel_pyg\u001b[49m\u001b[43m(\u001b[49m\u001b[43mbatch\u001b[49m\u001b[43m)\u001b[49m\n\u001b[1;32m      5\u001b[0m     \u001b[38;5;66;03m# break\u001b[39;00m\n",
      "File \u001b[0;32m/home/chenlidong/.conda/envs/py_38_torch_113_pyg/lib/python3.8/site-packages/torch/nn/modules/module.py:1194\u001b[0m, in \u001b[0;36mModule._call_impl\u001b[0;34m(self, *input, **kwargs)\u001b[0m\n\u001b[1;32m   1190\u001b[0m \u001b[39m# If we don't have any hooks, we want to skip the rest of the logic in\u001b[39;00m\n\u001b[1;32m   1191\u001b[0m \u001b[39m# this function, and just call forward.\u001b[39;00m\n\u001b[1;32m   1192\u001b[0m \u001b[39mif\u001b[39;00m \u001b[39mnot\u001b[39;00m (\u001b[39mself\u001b[39m\u001b[39m.\u001b[39m_backward_hooks \u001b[39mor\u001b[39;00m \u001b[39mself\u001b[39m\u001b[39m.\u001b[39m_forward_hooks \u001b[39mor\u001b[39;00m \u001b[39mself\u001b[39m\u001b[39m.\u001b[39m_forward_pre_hooks \u001b[39mor\u001b[39;00m _global_backward_hooks\n\u001b[1;32m   1193\u001b[0m         \u001b[39mor\u001b[39;00m _global_forward_hooks \u001b[39mor\u001b[39;00m _global_forward_pre_hooks):\n\u001b[0;32m-> 1194\u001b[0m     \u001b[39mreturn\u001b[39;00m forward_call(\u001b[39m*\u001b[39;49m\u001b[39minput\u001b[39;49m, \u001b[39m*\u001b[39;49m\u001b[39m*\u001b[39;49mkwargs)\n\u001b[1;32m   1195\u001b[0m \u001b[39m# Do not call functions when jit is used\u001b[39;00m\n\u001b[1;32m   1196\u001b[0m full_backward_hooks, non_full_backward_hooks \u001b[39m=\u001b[39m [], []\n",
      "Cell \u001b[0;32mIn[64], line 124\u001b[0m, in \u001b[0;36mMPNEncoder_PyG.forward\u001b[0;34m(self, data)\u001b[0m\n\u001b[1;32m    121\u001b[0m     poly_vec \u001b[38;5;241m=\u001b[39m \u001b[38;5;28mself\u001b[39m\u001b[38;5;241m.\u001b[39mattention_encoder(padded_tensor\u001b[38;5;241m.\u001b[39mpermute(\u001b[38;5;241m1\u001b[39m,\u001b[38;5;241m0\u001b[39m,\u001b[38;5;241m2\u001b[39m),ptr[\u001b[38;5;241m1\u001b[39m:] \u001b[38;5;241m-\u001b[39m ptr[:\u001b[38;5;241m-\u001b[39m\u001b[38;5;241m1\u001b[39m],distance\u001b[38;5;241m.\u001b[39mview(data\u001b[38;5;241m.\u001b[39mptr\u001b[38;5;241m.\u001b[39mshape[\u001b[38;5;241m0\u001b[39m]\u001b[38;5;241m-\u001b[39m\u001b[38;5;241m1\u001b[39m,distance\u001b[38;5;241m.\u001b[39mshape[\u001b[38;5;241m-\u001b[39m\u001b[38;5;241m1\u001b[39m],distance\u001b[38;5;241m.\u001b[39mshape[\u001b[38;5;241m-\u001b[39m\u001b[38;5;241m1\u001b[39m])[:,:max_length,:max_length])\n\u001b[1;32m    123\u001b[0m \u001b[38;5;28mprint\u001b[39m(torch\u001b[38;5;241m.\u001b[39mcat([poly_vec\u001b[38;5;241m.\u001b[39mpermute(\u001b[38;5;241m1\u001b[39m,\u001b[38;5;241m0\u001b[39m,\u001b[38;5;241m2\u001b[39m)[i, :a,:] \u001b[38;5;28;01mfor\u001b[39;00m i,a \u001b[38;5;129;01min\u001b[39;00m \u001b[38;5;28menumerate\u001b[39m(ptr[\u001b[38;5;241m1\u001b[39m:] \u001b[38;5;241m-\u001b[39m ptr[:\u001b[38;5;241m-\u001b[39m\u001b[38;5;241m1\u001b[39m])], dim\u001b[38;5;241m=\u001b[39m\u001b[38;5;241m0\u001b[39m)\u001b[38;5;241m.\u001b[39mshape)\n\u001b[0;32m--> 124\u001b[0m poly_vec \u001b[38;5;241m=\u001b[39m \u001b[43mscatter_sum\u001b[49m\u001b[43m(\u001b[49m\u001b[43mpoly_vec\u001b[49m\u001b[43m,\u001b[49m\u001b[43m \u001b[49m\u001b[43mbatch\u001b[49m\u001b[43m,\u001b[49m\u001b[43m \u001b[49m\u001b[43mdim\u001b[49m\u001b[38;5;241;43m=\u001b[39;49m\u001b[38;5;241;43m0\u001b[39;49m\u001b[43m)\u001b[49m\n\u001b[1;32m    125\u001b[0m w_atoms \u001b[38;5;241m=\u001b[39m scatter_sum(w_atoms, batch, dim\u001b[38;5;241m=\u001b[39m\u001b[38;5;241m0\u001b[39m)\n\u001b[1;32m    126\u001b[0m poly_vec \u001b[38;5;241m=\u001b[39m poly_vec \u001b[38;5;241m/\u001b[39m w_atoms\u001b[38;5;241m.\u001b[39mview(w_atoms\u001b[38;5;241m.\u001b[39mshape[\u001b[38;5;241m0\u001b[39m], \u001b[38;5;241m1\u001b[39m)\n",
      "File \u001b[0;32m/home/chenlidong/.conda/envs/py_38_torch_113_pyg/lib/python3.8/site-packages/torch_scatter/scatter.py:11\u001b[0m, in \u001b[0;36mscatter_sum\u001b[0;34m(src, index, dim, out, dim_size)\u001b[0m\n\u001b[1;32m      8\u001b[0m \u001b[39mdef\u001b[39;00m \u001b[39mscatter_sum\u001b[39m(src: torch\u001b[39m.\u001b[39mTensor, index: torch\u001b[39m.\u001b[39mTensor, dim: \u001b[39mint\u001b[39m \u001b[39m=\u001b[39m \u001b[39m-\u001b[39m\u001b[39m1\u001b[39m,\n\u001b[1;32m      9\u001b[0m                 out: Optional[torch\u001b[39m.\u001b[39mTensor] \u001b[39m=\u001b[39m \u001b[39mNone\u001b[39;00m,\n\u001b[1;32m     10\u001b[0m                 dim_size: Optional[\u001b[39mint\u001b[39m] \u001b[39m=\u001b[39m \u001b[39mNone\u001b[39;00m) \u001b[39m-\u001b[39m\u001b[39m>\u001b[39m torch\u001b[39m.\u001b[39mTensor:\n\u001b[0;32m---> 11\u001b[0m     index \u001b[39m=\u001b[39m broadcast(index, src, dim)\n\u001b[1;32m     12\u001b[0m     \u001b[39mif\u001b[39;00m out \u001b[39mis\u001b[39;00m \u001b[39mNone\u001b[39;00m:\n\u001b[1;32m     13\u001b[0m         size \u001b[39m=\u001b[39m \u001b[39mlist\u001b[39m(src\u001b[39m.\u001b[39msize())\n",
      "File \u001b[0;32m/home/chenlidong/.conda/envs/py_38_torch_113_pyg/lib/python3.8/site-packages/torch_scatter/utils.py:12\u001b[0m, in \u001b[0;36mbroadcast\u001b[0;34m(src, other, dim)\u001b[0m\n\u001b[1;32m     10\u001b[0m \u001b[39mfor\u001b[39;00m _ \u001b[39min\u001b[39;00m \u001b[39mrange\u001b[39m(src\u001b[39m.\u001b[39mdim(), other\u001b[39m.\u001b[39mdim()):\n\u001b[1;32m     11\u001b[0m     src \u001b[39m=\u001b[39m src\u001b[39m.\u001b[39munsqueeze(\u001b[39m-\u001b[39m\u001b[39m1\u001b[39m)\n\u001b[0;32m---> 12\u001b[0m src \u001b[39m=\u001b[39m src\u001b[39m.\u001b[39;49mexpand(other\u001b[39m.\u001b[39;49msize())\n\u001b[1;32m     13\u001b[0m \u001b[39mreturn\u001b[39;00m src\n",
      "\u001b[0;31mRuntimeError\u001b[0m: The expanded size of the tensor (44) must match the existing size (79) at non-singleton dimension 0.  Target sizes: [44, 3, 300].  Tensor sizes: [79, 1, 1]"
     ]
    }
   ],
   "source": [
    "for batch in loader:        # 这个和有helper的时候还不一样，数据预处理时两个b2rev减去的东西不一样\n",
    "\n",
    "    # print(batch.x.shape)\n",
    "    model_pyg(batch)\n",
    "    # break"
   ]
  },
  {
   "cell_type": "code",
   "execution_count": 714,
   "metadata": {},
   "outputs": [
    {
     "data": {
      "text/plain": [
       "tensor([True, True, True, True, True, True, True, True, True, True, True, True,\n",
       "        True, True, True, True, True, True, True, True, True, True, True, True,\n",
       "        True, True, True, True, True, True, True, True, True, True, True, True,\n",
       "        True, True, True, True, True, True, True, True, True, True, True, True,\n",
       "        True, True, True, True, True, True, True, True, True, True, True, True,\n",
       "        True, True, True, True, True, True, True, True, True, True, True, True,\n",
       "        True, True, True, True, True, True, True, True, True, True, True, True,\n",
       "        True, True, True, True, True, True, True, True, True, True])"
      ]
     },
     "execution_count": 714,
     "metadata": {},
     "output_type": "execute_result"
    }
   ],
   "source": [
    "a = torch.tensor([1,  0,  3,  2,  5,  4,  7,  6,  9,  8, 11, 10, 13, 12, 15, 14, 17, 16,\n",
    "        19, 18, 21, 20, 23, 22, 25, 24, 27, 26, 29, 28, 31, 30, 33, 32, 35, 34,\n",
    "        37, 36, 39, 38, 41, 40,  1,  0,  3,  2,  5,  4,  7,  6,  9,  8, 11, 10,\n",
    "        13, 12, 15, 14, 17, 16, 19, 18, 21, 20, 23, 22, 25, 24, 27, 26, 29, 28,\n",
    "        31, 30, 33, 32, 35, 34, 37, 36, 39, 38, 41, 40, 43, 42, 45, 44, 47, 46,\n",
    "        49, 48, 51, 50])\n",
    "b = torch.tensor([1,  0,  3,  2,  5,  4,  7,  6,  9,  8, 11, 10, 13, 12, 15, 14, 17, 16,\n",
    "        19, 18, 21, 20, 23, 22, 25, 24, 27, 26, 29, 28, 31, 30, 33, 32, 35, 34,\n",
    "        37, 36, 39, 38, 41, 40,1,  0,  3,  2,  5,  4,  7,  6,  9,  8, 11, 10, 13, 12, 15, 14, 17, 16,\n",
    "        19, 18, 21, 20, 23, 22, 25, 24, 27, 26, 29, 28, 31, 30, 33, 32, 35, 34,\n",
    "        37, 36, 39, 38, 41, 40, 43, 42, 45, 44, 47, 46, 49, 48, 51, 50])\n",
    "a == b"
   ]
  },
  {
   "cell_type": "markdown",
   "metadata": {},
   "source": [
    "# 以下代码为测试位置编码"
   ]
  },
  {
   "cell_type": "code",
   "execution_count": 523,
   "metadata": {},
   "outputs": [],
   "source": [
    "data = dataset[0]"
   ]
  },
  {
   "cell_type": "code",
   "execution_count": 715,
   "metadata": {},
   "outputs": [
    {
     "name": "stdout",
     "output_type": "stream",
     "text": [
      "图中的带权重的边:\n",
      "(0, 1, {'weight': 2.5})\n",
      "(1, 2, {'weight': 1.8})\n",
      "(2, 3, {'weight': 3.7})\n"
     ]
    }
   ],
   "source": [
    "import networkx as nx\n",
    "\n",
    "# 创建一个空的有向图\n",
    "G = nx.DiGraph()\n",
    "\n",
    "# 假设你有一个包含边索引的列表和一个权重的列表\n",
    "edge_index_list = [(0, 1), (1, 2), (2, 3)]\n",
    "weight_list = [2.5, 1.8, 3.7]\n",
    "\n",
    "# 使用循环将边和权重添加到图中\n",
    "for i, (start_node, end_node) in enumerate(edge_index_list):\n",
    "    weight = weight_list[i]\n",
    "    G.add_edge(start_node, end_node, weight=weight)\n",
    "\n",
    "# 查看图中的带权重的边\n",
    "edges_with_weights = list(G.edges(data=True))\n",
    "\n",
    "print(\"图中的带权重的边:\")\n",
    "for edge in edges_with_weights:\n",
    "    print(edge)\n"
   ]
  },
  {
   "cell_type": "code",
   "execution_count": 30,
   "metadata": {},
   "outputs": [],
   "source": [
    "from argparse import Namespace\n",
    "\n",
    "# 创建一个 Namespace 对象并为其添加属性\n",
    "args = Namespace()\n",
    "args.attn_enc_num_layers = 6\n",
    "args.attn_enc_hidden_size = 300\n",
    "args.attn_enc_heads = 10\n",
    "args.attn_enc_filter_size = 2048\n",
    "args.attn_dropout = 0.3\n",
    "args.dropout = 0.3\n",
    "args.rel_pos_buckets = 20\n"
   ]
  },
  {
   "cell_type": "code",
   "execution_count": 31,
   "metadata": {},
   "outputs": [],
   "source": [
    "attention_encoder = AttnEncoderXL(args)"
   ]
  },
  {
   "cell_type": "code",
   "execution_count": 6,
   "metadata": {},
   "outputs": [
    {
     "ename": "NameError",
     "evalue": "name 'loader' is not defined",
     "output_type": "error",
     "traceback": [
      "\u001b[0;31m---------------------------------------------------------------------------\u001b[0m",
      "\u001b[0;31mNameError\u001b[0m                                 Traceback (most recent call last)",
      "Cell \u001b[0;32mIn[6], line 1\u001b[0m\n\u001b[0;32m----> 1\u001b[0m \u001b[38;5;28;01mfor\u001b[39;00m batch \u001b[38;5;129;01min\u001b[39;00m \u001b[43mloader\u001b[49m:        \u001b[38;5;66;03m# 这个和有helper的时候还不一样，数据预处理时两个b2rev减去的东西不一样\u001b[39;00m\n\u001b[1;32m      2\u001b[0m     a \u001b[38;5;241m=\u001b[39m model_pyg(batch)\n\u001b[1;32m      3\u001b[0m     lengths \u001b[38;5;241m=\u001b[39m batch\u001b[38;5;241m.\u001b[39mptr[\u001b[38;5;241m1\u001b[39m:] \u001b[38;5;241m-\u001b[39m batch\u001b[38;5;241m.\u001b[39mptr[:\u001b[38;5;241m-\u001b[39m\u001b[38;5;241m1\u001b[39m]\n",
      "\u001b[0;31mNameError\u001b[0m: name 'loader' is not defined"
     ]
    }
   ],
   "source": [
    "for batch in loader:        # 这个和有helper的时候还不一样，数据预处理时两个b2rev减去的东西不一样\n",
    "    a = model_pyg(batch)\n",
    "    lengths = batch.ptr[1:] - batch.ptr[:-1]\n",
    "    max_length = torch.max(lengths)\n",
    "    padded_tensor = pad_sequence(torch.split(a, lengths.tolist()), batch_first=True, padding_value=0)\n",
    "    out = attention_encoder(padded_tensor.permute(1,0,2),batch.ptr[1:] - batch.ptr[:-1],batch.distance.view(batch.num_graphs,batch.distance.shape[-1],batch.distance.shape[-1])[:,:max_length,:max_length])\n",
    "    print(out.shape)\n",
    "    # break"
   ]
  },
  {
   "cell_type": "code",
   "execution_count": 491,
   "metadata": {},
   "outputs": [
    {
     "ename": "TypeError",
     "evalue": "__init__() got an unexpected keyword argument 'dropout'",
     "output_type": "error",
     "traceback": [
      "\u001b[0;31m---------------------------------------------------------------------------\u001b[0m",
      "\u001b[0;31mTypeError\u001b[0m                                 Traceback (most recent call last)",
      "Cell \u001b[0;32mIn[491], line 12\u001b[0m\n\u001b[1;32m      9\u001b[0m input_embedding \u001b[38;5;241m=\u001b[39m torch\u001b[38;5;241m.\u001b[39mzeros(batch_size, seq_len, embedding_dim)\n\u001b[1;32m     11\u001b[0m \u001b[38;5;66;03m# 创建PositionalEncoding模块\u001b[39;00m\n\u001b[0;32m---> 12\u001b[0m positional_encoding \u001b[38;5;241m=\u001b[39m \u001b[43monmt\u001b[49m\u001b[38;5;241;43m.\u001b[39;49m\u001b[43mmodules\u001b[49m\u001b[38;5;241;43m.\u001b[39;49m\u001b[43membeddings\u001b[49m\u001b[38;5;241;43m.\u001b[39;49m\u001b[43mPositionalEncoding\u001b[49m\u001b[43m(\u001b[49m\n\u001b[1;32m     13\u001b[0m \u001b[43m    \u001b[49m\u001b[43mdim\u001b[49m\u001b[38;5;241;43m=\u001b[39;49m\u001b[43membedding_dim\u001b[49m\u001b[43m,\u001b[49m\n\u001b[1;32m     14\u001b[0m \u001b[43m    \u001b[49m\u001b[43mmax_len\u001b[49m\u001b[38;5;241;43m=\u001b[39;49m\u001b[43mseq_len\u001b[49m\u001b[43m,\u001b[49m\n\u001b[1;32m     15\u001b[0m \u001b[43m    \u001b[49m\u001b[43mdropout\u001b[49m\u001b[38;5;241;43m=\u001b[39;49m\u001b[38;5;241;43m0.2\u001b[39;49m\n\u001b[1;32m     16\u001b[0m \u001b[43m)\u001b[49m\n\u001b[1;32m     18\u001b[0m \u001b[38;5;66;03m# 将位置编码添加到输入嵌入中\u001b[39;00m\n\u001b[1;32m     19\u001b[0m input_with_positional_encoding \u001b[38;5;241m=\u001b[39m positional_encoding(input_embedding)\n",
      "\u001b[0;31mTypeError\u001b[0m: __init__() got an unexpected keyword argument 'dropout'"
     ]
    }
   ],
   "source": [
    "import torch\n",
    "import onmt\n",
    "\n",
    "# 假设您已经创建了一个输入序列的嵌入\n",
    "# 这里的示例嵌入是一个3个单词的序列，每个单词嵌入为4维\n",
    "embedding_dim = 4\n",
    "seq_len = 3\n",
    "batch_size = 2\n",
    "input_embedding = torch.zeros(batch_size, seq_len, embedding_dim)\n",
    "\n",
    "# 创建PositionalEncoding模块\n",
    "positional_encoding = onmt.modules.embeddings.PositionalEncoding(\n",
    "    dim=embedding_dim,\n",
    "    max_len=seq_len,\n",
    "    # dropout=0.2\n",
    ")\n",
    "\n",
    "# 将位置编码添加到输入嵌入中\n",
    "input_with_positional_encoding = positional_encoding(input_embedding)\n",
    "\n",
    "# 现在，input_with_positional_encoding 包含了输入嵌入和位置编码信息\n"
   ]
  },
  {
   "cell_type": "code",
   "execution_count": 25,
   "metadata": {},
   "outputs": [
    {
     "data": {
      "text/plain": [
       "tensor([[[0., 0., 0., 0.],\n",
       "         [0., 0., 0., 0.],\n",
       "         [0., 0., 0., 0.]],\n",
       "\n",
       "        [[0., 0., 0., 0.],\n",
       "         [0., 0., 0., 0.],\n",
       "         [0., 0., 0., 0.]]])"
      ]
     },
     "execution_count": 25,
     "metadata": {},
     "output_type": "execute_result"
    }
   ],
   "source": [
    "input_embedding"
   ]
  },
  {
   "cell_type": "code",
   "execution_count": 26,
   "metadata": {},
   "outputs": [
    {
     "data": {
      "text/plain": [
       "tensor([[[0.0000, 1.2500, 0.0000, 1.2500],\n",
       "         [0.0000, 0.0000, 0.0000, 1.2500],\n",
       "         [0.0000, 1.2500, 0.0000, 1.2500]],\n",
       "\n",
       "        [[0.0000, 0.6754, 0.0000, 1.2499],\n",
       "         [1.0518, 0.6754, 0.0125, 1.2499],\n",
       "         [1.0518, 0.6754, 0.0125, 1.2499]]])"
      ]
     },
     "execution_count": 26,
     "metadata": {},
     "output_type": "execute_result"
    }
   ],
   "source": [
    "input_with_positional_encoding"
   ]
  },
  {
   "cell_type": "code",
   "execution_count": null,
   "metadata": {},
   "outputs": [],
   "source": []
  },
  {
   "cell_type": "code",
   "execution_count": null,
   "metadata": {},
   "outputs": [],
   "source": [
    "import torch\n",
    "import torch.nn as nn\n",
    "\n",
    "# 定义嵌入层\n",
    "vocab_size = 10000  # 词汇表大小\n",
    "embedding_dim = 100  # 嵌入维度\n",
    "embedding = nn.Embedding(vocab_size, embedding_dim)\n",
    "\n",
    "# 输入整数序列\n",
    "input_data = torch.LongTensor([1, 5, 7, 9, 3])\n",
    "\n",
    "# 使用嵌入层将整数映射为嵌入向量\n",
    "embedded_data = embedding(input_data)\n",
    "\n",
    "print(embedded_data)\n"
   ]
  },
  {
   "cell_type": "code",
   "execution_count": null,
   "metadata": {},
   "outputs": [],
   "source": []
  },
  {
   "cell_type": "markdown",
   "metadata": {},
   "source": [
    "# 以下代码为测试其他模型代码"
   ]
  },
  {
   "cell_type": "code",
   "execution_count": 5,
   "metadata": {},
   "outputs": [],
   "source": [
    "from torch_geometric.nn.models import GCN"
   ]
  },
  {
   "cell_type": "code",
   "execution_count": 11,
   "metadata": {},
   "outputs": [],
   "source": [
    "class mol_graph2data(nn.Module):\n",
    "    def __init__(self,args):\n",
    "        super(mol_graph2data,self).__init__()\n",
    "        self.args = args\n",
    "\n",
    "    def forward(self,\n",
    "        mol_graph: BatchMolGraph,\n",
    "        atom_descriptors_batch: List[np.ndarray] = None) -> torch.FloatTensor:\n",
    "        f_atoms, f_bonds, w_atoms, w_bonds, a2b, b2a, b2revb, a_scope, b_scope, _, distances  = mol_graph.get_components()\n",
    "        dataset = []\n",
    "        for idx,(a_scope_i,b_scope_i) in enumerate(zip(a_scope,b_scope)):\n",
    "            edge_index = [[],[]]\n",
    "            b2a_i = b2a[b_scope_i[0]:b_scope_i[0]+b_scope_i[1]]\n",
    "            b2revb_i = b2revb[b_scope_i[0]:b_scope_i[0]+b_scope_i[1]]\n",
    "\n",
    "            for i in range(b2a_i.size(0)):\n",
    "                edge_index[0].append(b2a_i[i].item()-a_scope_i[0])\n",
    "                edge_index[1].append(b2a_i[b2revb_i[i]-b_scope_i[0]]-a_scope_i[0])\n",
    "            \n",
    "            edge_index = torch.tensor(edge_index,dtype=torch.long)\n",
    "            w_atom = w_atoms[a_scope_i[0]:a_scope_i[0]+a_scope_i[1]]\n",
    "            w_bond = w_bonds[b_scope_i[0]:b_scope_i[0]+b_scope_i[1]]\n",
    "            edge_attr = f_bonds[b_scope_i[0]:b_scope_i[0]+b_scope_i[1]]\n",
    "            # pdb.set_trace()\n",
    "            data = Data(\n",
    "                x = f_atoms[a_scope_i[0]:a_scope_i[0]+a_scope_i[1]],\n",
    "                edge_index=edge_index,\n",
    "                edge_attr = edge_attr,\n",
    "                w_atoms = w_atom,\n",
    "                w_bonds = w_bond,\n",
    "                b2revb = b2revb[b_scope_i[0]:b_scope_i[0]+b_scope_i[1]]-b_scope_i[0],\n",
    "                distance = distances[idx]\n",
    "            )\n",
    "            dataset.append(data)\n",
    "        return Batch.from_data_list(dataset)\n"
   ]
  },
  {
   "cell_type": "code",
   "execution_count": 12,
   "metadata": {},
   "outputs": [],
   "source": [
    "class gcn_helper(nn.Module):\n",
    "    def __init__(self, args: TrainArgs, atom_fdim: int, bond_fdim: int):\n",
    "        super(gcn_helper, self).__init__()\n",
    "        self.mol_graph2data_layer = mol_graph2data(args)\n",
    "        self.mpn = GCN(in_channels=atom_fdim,hidden_channels=args.hidden_size,num_layers=args.depth,dropout=args.dropout,act=args.activation)\n",
    "    def forward(self,\n",
    "        mol_graph: BatchMolGraph,\n",
    "        atom_descriptors_batch: List[np.ndarray] = None) -> torch.FloatTensor:\n",
    "        data = self.mol_graph2data_layer(mol_graph)\n",
    "        x, edge_index, edge_attr,w_atoms,w_bonds, batch = (\n",
    "            data.x,\n",
    "            data.edge_index,\n",
    "            data.edge_attr,\n",
    "            data.w_atoms,\n",
    "            data.w_bonds,\n",
    "            data.batch,\n",
    "        )\n",
    "        output = self.mpn(x=x, edge_index=edge_index, edge_attr=edge_attr,edge_weight=w_bonds, batch=batch)\n",
    "        output = scatter_sum(output, batch, dim=0)\n",
    "        w_atoms = scatter_sum(w_atoms, batch, dim=0)\n",
    "        output = output / w_atoms.view(w_atoms.shape[0], 1)\n",
    "        return output\n"
   ]
  },
  {
   "cell_type": "code",
   "execution_count": 13,
   "metadata": {},
   "outputs": [],
   "source": [
    "gcn_helper_d = gcn_helper(args=TrainArgs, atom_fdim=get_atom_fdim(),bond_fdim=get_bond_fdim())"
   ]
  },
  {
   "cell_type": "code",
   "execution_count": 14,
   "metadata": {},
   "outputs": [
    {
     "name": "stdout",
     "output_type": "stream",
     "text": [
      "tensor([[ 0.2103, -0.0953, -0.1052,  ..., -0.2933, -0.0374,  0.1496],\n",
      "        [ 0.1318, -0.1148, -0.0232,  ..., -0.2832, -0.0111,  0.1191],\n",
      "        [ 0.1733, -0.1001, -0.1053,  ..., -0.2737, -0.0416,  0.1179],\n",
      "        [ 0.1594, -0.0924, -0.0979,  ..., -0.2729, -0.0244,  0.1120]],\n",
      "       grad_fn=<DivBackward0>)\n"
     ]
    }
   ],
   "source": [
    "print(gcn_helper_d(batch_mol2graph))"
   ]
  },
  {
   "cell_type": "code",
   "execution_count": 59,
   "metadata": {},
   "outputs": [],
   "source": [
    "gcn = GCN(in_channels=133,hidden_channels=300,num_layers=3,dropout=0.3,act=\"ReLU\")"
   ]
  },
  {
   "cell_type": "code",
   "execution_count": null,
   "metadata": {},
   "outputs": [
    {
     "name": "stdout",
     "output_type": "stream",
     "text": [
      "torch.Size([3, 300])\n",
      "torch.Size([1, 300])\n"
     ]
    }
   ],
   "source": [
    "for batch in loader:        # 这个和有helper的时候还不一样，数据预处理时两个b2rev减去的东西不一样\n",
    "    # print(batch)\n",
    "    # print(batch.edge_attr.view(-1, 1).shape)\n",
    "    print(batch.distance)\n",
    "    # output = gcn(  x = batch.x,\\\n",
    "    #             edge_index = batch.edge_index,\\\n",
    "    #             edge_weight = batch.w_bonds,\\\n",
    "    #             edge_attr = batch.edge_attr,\\\n",
    "    #             batch = batch.batch)\n",
    "    # output = scatter_sum(output, batch.batch, dim=0)\n",
    "    # w_atoms = scatter_sum(batch.w_atoms, batch.batch, dim=0)\n",
    "    # output = output / w_atoms.view(w_atoms.shape[0], 1)\n",
    "    # print(output.shape)"
   ]
  },
  {
   "cell_type": "code",
   "execution_count": 8,
   "metadata": {},
   "outputs": [],
   "source": [
    "import numpy as np\n",
    "import time\n",
    "import sys\n",
    "from sklearn.kernel_ridge import KernelRidge\n",
    "from sklearn.model_selection import GridSearchCV\n",
    "from sklearn.metrics import make_scorer\n",
    "from sklearn.neural_network import MLPRegressor\n",
    "from sklearn.ensemble import RandomForestRegressor\n",
    "from sklearn.ensemble import VotingRegressor\n",
    "import pandas as pd\n",
    "import sys\n",
    "sys.path.append(\"/home/chenlidong/polyAttn/notebooks\")\n",
    "start=time.time()"
   ]
  },
  {
   "cell_type": "code",
   "execution_count": 9,
   "metadata": {},
   "outputs": [],
   "source": [
    "# read file train.dat for training data\n",
    "\n",
    "inp=open('train.dat','r').readlines()\n",
    "X=[]\n",
    "y_train=np.array([])\n",
    "for i in range(1,len(inp)):  # from the second line to the last line\n",
    "\tline=str(inp[i]).split()\n",
    "\tfeat=[]\n",
    "\tfor j in range(2,len(line)):  # line[0]: name; line[1]: property; line[2] first feature\n",
    "\t\tfeat.append(float(line[j]))\n",
    "\tX.append(feat)\n",
    "\ty_train=np.append(y_train,float(line[1]))  # y_t: property data, n x 1 matrix (n lines, 1 column)\n",
    "X_train=np.array(X)  # X_t: features data, n x m matrixa (n lines, m columns)"
   ]
  },
  {
   "cell_type": "code",
   "execution_count": 10,
   "metadata": {},
   "outputs": [],
   "source": [
    "# read file test.dat for test data\n",
    "inptest=open('test.dat','r').readlines()\n",
    "X=[]\n",
    "y_test=np.array([])\n",
    "for i in range(1,len(inptest)):\n",
    "       line=str(inptest[i]).split()\n",
    "       feat=[]\n",
    "       for j in range(2,len(line)):\n",
    "               feat.append(float(line[j]))\n",
    "       X.append(feat)\n",
    "       y_test=np.append(y_test,float(line[1]))\n",
    "X_test=np.array(X)"
   ]
  },
  {
   "cell_type": "code",
   "execution_count": 11,
   "metadata": {},
   "outputs": [],
   "source": [
    "# 计算 train_data 的均值和标准差\n",
    "train_mean = np.mean(X_train, axis=0)\n",
    "train_std = np.std(X_train, axis=0)\n",
    "\n",
    "# 使用 train_data 的均值和标准差对 train_data 进行 Z-score 归一化\n",
    "X_train = (X_train - train_mean) / train_std\n",
    "\n",
    "# 使用 train_data 的均值和标准差对 test_data 进行 Z-score 归一化\n",
    "X_test = (X_test - train_mean) / train_std"
   ]
  },
  {
   "cell_type": "code",
   "execution_count": 12,
   "metadata": {},
   "outputs": [],
   "source": [
    "# define RMSE\n",
    "def rmse_score(y_true, y_pred):\n",
    "    return np.sqrt(np.mean((y_true-y_pred)**2))"
   ]
  },
  {
   "cell_type": "code",
   "execution_count": 13,
   "metadata": {},
   "outputs": [],
   "source": [
    "mlp = MLPRegressor(random_state=321,max_iter=200, solver=\"adam\")\n",
    "rf = RandomForestRegressor(n_jobs=-1,random_state=321)\n",
    "krr = KernelRidge()"
   ]
  },
  {
   "cell_type": "code",
   "execution_count": 31,
   "metadata": {},
   "outputs": [],
   "source": [
    "param_grid = {\n",
    "    'rf__max_depth': [3,4,5],\n",
    "    'rf__n_estimators': [50, 100,200],\n",
    "    'mlp__batch_size':[64,128,256],\n",
    "    'mlp__activation':[\"relu\",\"tanh\"],\n",
    "    \"mlp__hidden_layer_sizes\":[[16,32,16],[16,32,32,16]],\n",
    "    'krr__alpha':np.logspace(-1, 3, 3, base=10),\n",
    "    'krr__gamma':np.logspace(-3, 1, 3, base=10),\n",
    "    'krr__kernel':[\"linear\",'rbf','poly']\n",
    "}"
   ]
  },
  {
   "cell_type": "code",
   "execution_count": null,
   "metadata": {},
   "outputs": [],
   "source": [
    "def train():\n",
    "    root_mean_squared_error = make_scorer(rmse_score, greater_is_better=False)\n",
    "    clf = GridSearchCV(VotingRegressor(estimators=[('rf', rf), ('mlp', mlp), ('krr', krr)]),\n",
    "                       n_jobs=-1, verbose=2,cv=3,\n",
    "                       scoring=root_mean_squared_error,\n",
    "                       param_grid=param_grid,\n",
    "                       return_train_score=True)\n",
    "    return clf\n",
    "\n",
    "# start training\n",
    "clf=train()\n",
    "clf.fit(X_train, y_train)   # get the model parameters and coefficients"
   ]
  },
  {
   "cell_type": "code",
   "execution_count": 36,
   "metadata": {},
   "outputs": [
    {
     "name": "stdout",
     "output_type": "stream",
     "text": [
      "best cv score: \n",
      "-0.22347632814378915\n",
      "Test results :\n",
      "RMSE:  0.24027046681222064\n"
     ]
    }
   ],
   "source": [
    "# # print results\n",
    "# print(\"params: \")\n",
    "# print(clf.cv_results_['params'])   # all the parameters in the CV grid-search\n",
    "# print(\"mean_train_score: \")\n",
    "# print(clf.cv_results_['mean_train_score']) # all the training scores in the CV grid-search\n",
    "# print(\"mean_cv_score: \")\n",
    "# print(clf.cv_results_['mean_test_score']) # all the test scores in the CV grid-search\n",
    "print(\"best cv score: \")\n",
    "print(clf.best_score_) # the best score\n",
    "# print(\"best_params: \")\n",
    "# print(clf.best_params_) # the best parameters\n",
    "# print(\"best_estimator: \")\n",
    "# print(clf.best_estimator_) # setting of the best model\n",
    "\n",
    "def prediction(X_in,y_in):\n",
    "    y_pred=clf.predict(X_in)\n",
    "    # print(\" Y_true,   Y_pred \")\n",
    "    # for i in range(len(y_in)):\n",
    "    #       print(y_in[i],y_pred[i])\n",
    "    print(\"RMSE: \",np.sqrt(np.mean((y_in-y_pred)**2)))\n",
    "\n",
    "# print(\"All-data training results :\")\n",
    "# prediction(X_train,y_train)\n",
    "\n",
    "print(\"Test results :\")\n",
    "prediction(X_test,y_test)\n",
    "\n",
    "# end=time.time()\n",
    "# print(\"wall-clock time (seconds):\")\n",
    "# print(end-start)"
   ]
  },
  {
   "cell_type": "code",
   "execution_count": null,
   "metadata": {},
   "outputs": [],
   "source": [
    "class MPNEncoder_PyG(pnn.MessagePassing):\n",
    "    def __init__(self, args: TrainArgs, atom_fdim: int, bond_fdim: int):\n",
    "        \"\"\"\n",
    "        :param args: A :class:`~chemprop.args.TrainArgs` object containing model arguments.\n",
    "        :param atom_fdim: Atom feature vector dimension.\n",
    "        :param bond_fdim: Bond feature vector dimension.\n",
    "        \"\"\"\n",
    "        super(MPNEncoder_PyG, self).__init__()\n",
    "        self.atom_fdim = atom_fdim\n",
    "        self.bond_fdim = bond_fdim\n",
    "        self.atom_messages = args.atom_messages\n",
    "        self.hidden_size = args.hidden_size\n",
    "        # self.bias = args.bias\n",
    "        self.depth = args.depth\n",
    "        self.dropout = args.dropout\n",
    "        # self.layers_per_message = 1\n",
    "        self.directed = not args.undirected\n",
    "        self.device = args.device\n",
    "        self.aggregation = args.aggregation\n",
    "        self.aggregation_norm = args.aggregation_norm\n",
    "        self.with_pe = args.with_pe\n",
    "\n",
    "\n",
    "        # Dropout\n",
    "        self.dropout_layer = nn.Dropout(p=self.dropout)\n",
    "\n",
    "        # Activation\n",
    "        self.act_func = get_activation_function(args.activation)\n",
    "\n",
    "        # Input\n",
    "        input_dim = self.atom_fdim if self.atom_messages else self.bond_fdim\n",
    "        self.W_i = nn.Linear(input_dim, self.hidden_size)\n",
    "\n",
    "        if self.atom_messages:\n",
    "            w_h_input_size = self.hidden_size + self.bond_fdim\n",
    "        else:\n",
    "            w_h_input_size = self.hidden_size\n",
    "\n",
    "        # Shared weight matrix across depths (default)\n",
    "        self.W_h = nn.Linear(w_h_input_size, self.hidden_size)\n",
    "\n",
    "        self.W_o = nn.Linear(self.atom_fdim + self.hidden_size, self.hidden_size)\n",
    "        if self.with_pe:\n",
    "            self.attention_encoder = AttnEncoderXL(args)\n",
    "        # layer after concatenating the descriptors if args.atom_descriptors == descriptors\n",
    "        if args.atom_descriptors == 'descriptor':\n",
    "            self.atom_descriptors_size = args.atom_descriptors_size\n",
    "            self.atom_descriptors_layer = nn.Linear(self.hidden_size + self.atom_descriptors_size,\n",
    "                                                    self.hidden_size + self.atom_descriptors_size,)\n",
    "                                                \n",
    "    def forward(self, data):\n",
    "        x, edge_index, edge_attr,b2revb,w_atoms,w_bonds, batch,ptr,distance = (\n",
    "            data.x,\n",
    "            data.edge_index,\n",
    "            data.edge_attr,\n",
    "            data.b2revb,\n",
    "            data.w_atoms,\n",
    "            data.w_bonds,\n",
    "            data.batch,\n",
    "            data.ptr,\n",
    "            data.distance\n",
    "        )\n",
    "        a_message = x\n",
    "        b_message = edge_attr\n",
    "        if not self.directed:\n",
    "            input = self.W_i(a_message)\n",
    "            a_message = self.act_func(input)              # [num_atoms , hidden_size]\n",
    "        else:\n",
    "            input = self.W_i(b_message)\n",
    "            b_message = self.act_func(input)              # [num_bonds , hidden_size]\n",
    "\n",
    "        for depth in range(self.depth - 1):\n",
    "            message = self.propagate(\n",
    "                edge_index      =   edge_index,\\\n",
    "                x               =   a_message,\\\n",
    "                edge_attr       =   b_message,\\\n",
    "                b2revb          =   b2revb,\\\n",
    "                w_atoms         =   w_atoms,\\\n",
    "                w_bonds         =   w_bonds,\\\n",
    "                skip_connection =   False,\\\n",
    "                first           =   x)\n",
    "            if self.directed:\n",
    "                b_message = self.act_func(self.W_h(message)+input)\n",
    "            else:\n",
    "                a_message = self.act_func(self.W_h(message)+input)\n",
    "        \n",
    "\n",
    "        after_mp = self.propagate(\n",
    "                edge_index      =   edge_index,\\\n",
    "                x               =   a_message,\\\n",
    "                edge_attr       =   b_message,\\\n",
    "                b2revb          =   b2revb,\\\n",
    "                w_atoms         =   w_atoms,\\\n",
    "                w_bonds         =   w_bonds,\\\n",
    "                skip_connection =   True,\\\n",
    "                first           =   x)\n",
    "        poly_vec = self.act_func(self.W_o(after_mp))\n",
    "\n",
    "        # print(after_mp[:,0])\n",
    "        # print(b2revb)\n",
    "\n",
    "        # 按照batch聚合\n",
    "        \n",
    "        if self.with_pe:\n",
    "            lengths = ptr[1:] - ptr[:-1]\n",
    "            max_length = torch.max(lengths)\n",
    "            padded_tensor = pad_sequence(torch.split(poly_vec, lengths.tolist()), batch_first=True, padding_value=0)\n",
    "            poly_vec = self.attention_encoder(padded_tensor.permute(1,0,2),ptr[1:] - ptr[:-1],distance.view(data.ptr.shape[0]-1,distance.shape[-1],distance.shape[-1])[:,:max_length,:max_length])\n",
    "            poly_vec = torch.cat([poly_vec.permute(1,0,2)[i, :a,:] for i,a in enumerate(ptr[1:] - ptr[:-1])], dim=0)        #确定是对的吗\n",
    "        \n",
    "        poly_vec = w_atoms.view(w_atoms.shape[0], 1) * poly_vec\n",
    "        poly_vec = scatter_sum(poly_vec, batch, dim=0)\n",
    "        w_atoms = scatter_sum(w_atoms, batch, dim=0)\n",
    "        poly_vec = poly_vec / w_atoms.view(w_atoms.shape[0], 1)\n",
    "        # poly_vec = degree_of_polym[i] * poly_vec          # 目前数据没有用聚合度信息\n",
    "\n",
    "        return poly_vec\n",
    "\n",
    "    def update(self, aggr_out,edge_index,edge_attr,b2revb,w_bonds,skip_connection,first):\n",
    "        \n",
    "        if not skip_connection:\n",
    "            if self.directed:\n",
    "                # print(aggr_out[edge_index[0]][:,0])\n",
    "                # print(aggr_out[edge_index[0]][:,0])\n",
    "                # print(edge_attr[b2revb][:,0])\n",
    "                # print(b2revb)\n",
    "                message = aggr_out[edge_index[0]] - edge_attr[b2revb] * w_bonds[...,None]\n",
    "            else:\n",
    "                message = aggr_out\n",
    "        else:\n",
    "            message = torch.cat([first, aggr_out], dim=1)\n",
    "        return message\n",
    "\n",
    "    def message(self, x_i, x_j, edge_index,edge_attr,b2revb,w_bonds,skip_connection,first):\n",
    "        # x_i x_j   从i节点到j节点的边是edge_index\n",
    "        if not skip_connection:\n",
    "            if self.directed:\n",
    "                nei_a_message = edge_attr * w_bonds[..., None]\n",
    "            else:\n",
    "                nei_a_message = torch.cat((x_j,edge_attr),dim=1)\n",
    "        else:\n",
    "            if self.directed:\n",
    "                nei_a_message = edge_attr * w_bonds[..., None]\n",
    "            else:\n",
    "                nei_a_message = x_j * w_bonds[edge_index[0]][..., None]\n",
    "        return nei_a_message\n",
    "\n",
    "\n",
    "\n",
    "\n",
    "class MPNEncoder_PyG_helper(nn.Module):\n",
    "    def __init__(self, args: TrainArgs, atom_fdim: int, bond_fdim: int):\n",
    "        super(MPNEncoder_PyG_helper, self).__init__()\n",
    "        self.mol_graph2data_layer = mol_graph2data(args)\n",
    "        self.mpn = MPNEncoder_PyG(args= args, atom_fdim= atom_fdim, bond_fdim= bond_fdim)\n",
    "\n",
    "    def forward(self,\n",
    "        mol_graph: BatchMolGraph,\n",
    "        atom_descriptors_batch: List[np.ndarray] = None) -> torch.FloatTensor:\n",
    "        return self.mpn(self.mol_graph2data_layer(mol_graph))\n",
    "\n",
    "class polygnn_helper(nn.Module):\n",
    "    def __init__(self, args: TrainArgs, atom_fdim: int, bond_fdim: int):\n",
    "        super(polygnn_helper, self).__init__()\n",
    "        hps={\n",
    "            \"depth\" : args.depth,\n",
    "            \"ffn_capacity\":2,\n",
    "            \"activation\": nn.functional.leaky_relu,\n",
    "            \"readout_dim\": args.hidden_size\n",
    "        }\n",
    "        self.mol_graph2data_layer = mol_graph2data(args)\n",
    "        self.mpn = polygnn_mp(node_size= atom_fdim, edge_size= bond_fdim,hps=hps,normalize_embedding=True)\n",
    "\n",
    "    def forward(self,\n",
    "        mol_graph: BatchMolGraph,\n",
    "        atom_descriptors_batch: List[np.ndarray] = None) -> torch.FloatTensor:\n",
    "        data = self.mol_graph2data_layer(mol_graph)\n",
    "        x, edge_index, edge_attr,w_atoms,w_bonds, batch = (\n",
    "            data.x,\n",
    "            data.edge_index,\n",
    "            data.edge_attr,\n",
    "            data.w_atoms,\n",
    "            data.w_bonds,\n",
    "            data.batch,\n",
    "        )\n",
    "        return self.mpn(x, edge_index, edge_attr,w_atoms,w_bonds, batch)\n",
    "\n",
    "\n",
    "\n"
   ]
  },
  {
   "cell_type": "code",
   "execution_count": 77,
   "metadata": {},
   "outputs": [
    {
     "name": "stdout",
     "output_type": "stream",
     "text": [
      "Gamma (scale) parameter: tensor([[[23., 45., 23.],\n",
      "         [23., 12., 53.]]])\n",
      "Beta (shift) parameter: tensor([[[-3.5355,  7.0711, -3.5355],\n",
      "         [-1.8276, -5.0019,  6.8294]]], grad_fn=<NativeLayerNormBackward0>)\n"
     ]
    }
   ],
   "source": [
    "import torch\n",
    "import torch.nn as nn\n",
    "import torch.nn.functional as F\n",
    "# Example usage\n",
    "input_data = torch.tensor([\n",
    "    [\n",
    "        [23.,45.,23.],\n",
    "        [23.,12.,53.]\n",
    "    ]\n",
    "])  # Batch size of 3, 4 features, sequence length of 5\n",
    "\n",
    "weight = torch.nn.Parameter(torch.ones(input_data.size(-1))*5)\n",
    "bias = torch.nn.Parameter(torch.zeros(input_data.size(-1)))\n",
    "\n",
    "# 使用 layer_norm 进行归一化，提供了可学习的 weight 和 bias\n",
    "output_data = F.layer_norm(input_data, normalized_shape=(input_data.size(-1),), weight=weight, bias=bias, eps=1e-6)\n",
    "print(\"Gamma (scale) parameter:\", input_data)  # 应该是 None\n",
    "print(\"Beta (shift) parameter:\", output_data)      # 应该是 None\n"
   ]
  },
  {
   "cell_type": "code",
   "execution_count": 1,
   "metadata": {},
   "outputs": [
    {
     "name": "stderr",
     "output_type": "stream",
     "text": [
      "/home/chenlidong/.conda/envs/py_38_torch_113_pyg/lib/python3.8/site-packages/torch_geometric/typing.py:90: UserWarning: An issue occurred while importing 'torch-spline-conv'. Disabling its usage. Stacktrace: /lib64/libm.so.6: version `GLIBC_2.27' not found (required by /home/chenlidong/.conda/envs/py_38_torch_113_pyg/lib/python3.8/site-packages/torch_spline_conv/_basis_cuda.so)\n",
      "  warnings.warn(\n"
     ]
    },
    {
     "name": "stdout",
     "output_type": "stream",
     "text": [
      "---\n",
      "Parameter name: convs.0.nn.lins.0.weight, Shape: torch.Size([256, 100])\n",
      "Parameter name: convs.0.nn.lins.0.bias, Shape: torch.Size([256])\n",
      "Parameter name: convs.0.nn.lins.1.weight, Shape: torch.Size([256, 256])\n",
      "Parameter name: convs.0.nn.lins.1.bias, Shape: torch.Size([256])\n",
      "Parameter name: convs.1.nn.lins.0.weight, Shape: torch.Size([256, 256])\n",
      "Parameter name: convs.1.nn.lins.0.bias, Shape: torch.Size([256])\n",
      "Parameter name: convs.1.nn.lins.1.weight, Shape: torch.Size([256, 256])\n",
      "Parameter name: convs.1.nn.lins.1.bias, Shape: torch.Size([256])\n",
      "Parameter name: convs.2.nn.lins.0.weight, Shape: torch.Size([256, 256])\n",
      "Parameter name: convs.2.nn.lins.0.bias, Shape: torch.Size([256])\n",
      "Parameter name: convs.2.nn.lins.1.weight, Shape: torch.Size([256, 256])\n",
      "Parameter name: convs.2.nn.lins.1.bias, Shape: torch.Size([256])\n"
     ]
    }
   ],
   "source": [
    "from torch_geometric.nn.models import GCN,GAT,GraphSAGE,GIN,MLP\n",
    "from torch.nn import ReLU, Sequential as Seq, Linear\n",
    "from torch_geometric.nn import GINConv, GATConv, global_add_pool\n",
    "import torch.nn as nn\n",
    "model = GIN(in_channels=100,hidden_channels=256,num_layers=3,dropout=0.3,act=nn.ReLU())\n",
    "print(\"---\")\n",
    "for name, param in model.named_parameters():\n",
    "    print(f\"Parameter name: {name}, Shape: {param.shape}\")"
   ]
  },
  {
   "cell_type": "code",
   "execution_count": 36,
   "metadata": {},
   "outputs": [
    {
     "name": "stdout",
     "output_type": "stream",
     "text": [
      "Parameter name: nn.0.lins.0.weight, Shape: torch.Size([256, 100])\n",
      "Parameter name: nn.0.lins.0.bias, Shape: torch.Size([256])\n",
      "Parameter name: nn.0.lins.1.weight, Shape: torch.Size([256, 256])\n",
      "Parameter name: nn.0.lins.1.bias, Shape: torch.Size([256])\n",
      "Parameter name: nn.0.norms.0.module.weight, Shape: torch.Size([256])\n",
      "Parameter name: nn.0.norms.0.module.bias, Shape: torch.Size([256])\n"
     ]
    }
   ],
   "source": [
    "class GIN(BasicGNN):\n",
    "    r\"\"\"The Graph Neural Network from the `\"How Powerful are Graph Neural\n",
    "    Networks?\" <https://arxiv.org/abs/1810.00826>`_ paper, using the\n",
    "    :class:`~torch_geometric.nn.GINConv` operator for message passing.\n",
    "\n",
    "    Args:\n",
    "        in_channels (int): Size of each input sample.\n",
    "        hidden_channels (int): Size of each hidden sample.\n",
    "        num_layers (int): Number of message passing layers.\n",
    "        out_channels (int, optional): If not set to :obj:`None`, will apply a\n",
    "            final linear transformation to convert hidden node embeddings to\n",
    "            output size :obj:`out_channels`. (default: :obj:`None`)\n",
    "        dropout (float, optional): Dropout probability. (default: :obj:`0.`)\n",
    "        act (str or Callable, optional): The non-linear activation function to\n",
    "            use. (default: :obj:`\"relu\"`)\n",
    "        act_first (bool, optional): If set to :obj:`True`, activation is\n",
    "            applied before normalization. (default: :obj:`False`)\n",
    "        act_kwargs (Dict[str, Any], optional): Arguments passed to the\n",
    "            respective activation function defined by :obj:`act`.\n",
    "            (default: :obj:`None`)\n",
    "        norm (str or Callable, optional): The normalization function to\n",
    "            use. (default: :obj:`None`)\n",
    "        norm_kwargs (Dict[str, Any], optional): Arguments passed to the\n",
    "            respective normalization function defined by :obj:`norm`.\n",
    "            (default: :obj:`None`)\n",
    "        jk (str, optional): The Jumping Knowledge mode. If specified, the model\n",
    "            will additionally apply a final linear transformation to transform\n",
    "            node embeddings to the expected output feature dimensionality.\n",
    "            (:obj:`None`, :obj:`\"last\"`, :obj:`\"cat\"`, :obj:`\"max\"`,\n",
    "            :obj:`\"lstm\"`). (default: :obj:`None`)\n",
    "        **kwargs (optional): Additional arguments of\n",
    "            :class:`torch_geometric.nn.conv.GINConv`.\n",
    "    \"\"\"\n",
    "    supports_edge_weight: Final[bool] = False\n",
    "    supports_edge_attr: Final[bool] = False\n",
    "    supports_norm_batch: Final[bool]\n",
    "\n",
    "    def init_conv(self, in_channels: int, out_channels: int,\n",
    "                  **kwargs) -> MessagePassing:\n",
    "        mlp = MLP(\n",
    "            [in_channels, out_channels, out_channels],\n",
    "            act=self.act,\n",
    "            act_first=self.act_first,\n",
    "            norm=self.norm,\n",
    "            norm_kwargs=self.norm_kwargs,\n",
    "        )\n",
    "        return GINConv(mlp, **kwargs)"
   ]
  },
  {
   "cell_type": "markdown",
   "metadata": {},
   "source": [
    "# 以下为ffn修改代码"
   ]
  },
  {
   "cell_type": "code",
   "execution_count": 1,
   "metadata": {},
   "outputs": [
    {
     "name": "stderr",
     "output_type": "stream",
     "text": [
      "/home/chenlidong/.conda/envs/py_38_torch_113_pyg/lib/python3.8/site-packages/torch_geometric/typing.py:90: UserWarning: An issue occurred while importing 'torch-spline-conv'. Disabling its usage. Stacktrace: /lib64/libm.so.6: version `GLIBC_2.27' not found (required by /home/chenlidong/.conda/envs/py_38_torch_113_pyg/lib/python3.8/site-packages/torch_spline_conv/_basis_cuda.so)\n",
      "  warnings.warn(\n"
     ]
    }
   ],
   "source": [
    "import sys\n",
    "sys.path.append(\"/home/chenlidong/polymer-chemprop-master\")\n",
    "import torch\n",
    "import torch.nn as nn\n",
    "from chemprop.models.layers import ffn,get_unit_sequence,hidden_xavier_bn"
   ]
  },
  {
   "cell_type": "code",
   "execution_count": 6,
   "metadata": {},
   "outputs": [],
   "source": [
    "class ffn(nn.Module):\n",
    "    \"\"\"\n",
    "    A Feed-Forward neural Network that uses DenseHidden layers\n",
    "    Output layer with target mean (plus noise) on bias. Suggestion from: http://karpathy.github.io/2019/04/25/recipe/\n",
    "    \"\"\"\n",
    "\n",
    "    def __init__(self, input_dim, output_dim,dropout,act,ffn_num_layers,data_mean):\n",
    "        super().__init__()\n",
    "        assert len(data_mean) == output_dim\n",
    "        self.layers = nn.ModuleList()\n",
    "        unit_sequence = get_unit_sequence(\n",
    "            input_dim, output_dim, ffn_num_layers\n",
    "        )\n",
    "        # set up hidden layers\n",
    "        for ind, n_units in enumerate(unit_sequence[:-2]):\n",
    "            size_out_ = unit_sequence[ind + 1]\n",
    "            self.layers.append(\n",
    "                hidden_xavier_bn(\n",
    "                    size_in=n_units,\n",
    "                    size_out=size_out_,\n",
    "                    dropout=dropout,\n",
    "                    act=act\n",
    "                )\n",
    "            )\n",
    "        self.layers.append(\n",
    "            hidden_xavier_bn(\n",
    "                size_in=unit_sequence[-2]+1,\n",
    "                size_out=unit_sequence[-1],\n",
    "            )\n",
    "        )\n",
    "        if data_mean != None:\n",
    "            for i in range(len(data_mean)):\n",
    "                self.layers[-1].linear.bias.data[i] = float(data_mean[i])\n",
    "\n",
    "    def forward(self, x):\n",
    "        \"\"\"\n",
    "        Compute the forward pass of this model\n",
    "        \"\"\"\n",
    "        for layer in self.layers:\n",
    "            x = layer(x)\n",
    "\n",
    "        return x"
   ]
  },
  {
   "cell_type": "code",
   "execution_count": 8,
   "metadata": {},
   "outputs": [
    {
     "data": {
      "text/plain": [
       "ffn(\n",
       "  (layers): ModuleList(\n",
       "    (0): hidden_xavier_bn(\n",
       "      (linear): Linear(in_features=256, out_features=128, bias=True)\n",
       "      (activation): ReLU()\n",
       "      (bn): BatchNorm1d(128, eps=1e-05, momentum=0.1, affine=True, track_running_stats=True)\n",
       "      (dropout): Dropout(p=0.3, inplace=False)\n",
       "    )\n",
       "    (1): hidden_xavier_bn(\n",
       "      (linear): Linear(in_features=128, out_features=66, bias=True)\n",
       "      (activation): ReLU()\n",
       "      (bn): BatchNorm1d(66, eps=1e-05, momentum=0.1, affine=True, track_running_stats=True)\n",
       "      (dropout): Dropout(p=0.3, inplace=False)\n",
       "    )\n",
       "    (2): hidden_xavier_bn(\n",
       "      (linear): Linear(in_features=66, out_features=4, bias=True)\n",
       "      (activation): ReLU()\n",
       "      (bn): BatchNorm1d(4, eps=1e-05, momentum=0.1, affine=True, track_running_stats=True)\n",
       "      (dropout): Dropout(p=0.3, inplace=False)\n",
       "    )\n",
       "    (3): hidden_xavier_bn(\n",
       "      (linear): Linear(in_features=5, out_features=2, bias=True)\n",
       "    )\n",
       "  )\n",
       ")"
      ]
     },
     "execution_count": 8,
     "metadata": {},
     "output_type": "execute_result"
    }
   ],
   "source": [
    "model = ffn(256,2,0.3,nn.ReLU(),3,[0.4,0.2])\n",
    "model.to(\"cuda\")"
   ]
  },
  {
   "cell_type": "code",
   "execution_count": 25,
   "metadata": {},
   "outputs": [],
   "source": [
    "def create_ffn(self, args: TrainArgs) -> None:\n",
    "    \"\"\"\n",
    "    Creates the feed-forward layers for the model.\n",
    "\n",
    "    :param args: A :class:`~chemprop.args.TrainArgs` object containing model arguments.\n",
    "    \"\"\"\n",
    "    self.multiclass = args.dataset_type == 'multiclass'\n",
    "    if self.multiclass:\n",
    "        self.num_classes = args.multiclass_num_classes\n",
    "    if args.features_only:\n",
    "        first_linear_dim = args.features_size\n",
    "    else:\n",
    "        first_linear_dim = args.hidden_size * args.number_of_molecules\n",
    "        if args.use_input_features:\n",
    "            first_linear_dim += args.features_size\n",
    "\n",
    "    if args.atom_descriptors == 'descriptor':\n",
    "        first_linear_dim += args.atom_descriptors_size\n",
    "\n",
    "    self.ffn = ffn(input_dim = first_linear_dim, \\ \n",
    "                   output_dim = self.output_size, \\\n",
    "                   dropout = args.dropout \\\n",
    "                   act = get_activation_function(args.activation), \\\n",
    "                   ffn_num_layers = args.ffn_num_layers, \\ \n",
    "                   data_mean = args.data_mean)"
   ]
  },
  {
   "cell_type": "code",
   "execution_count": 15,
   "metadata": {},
   "outputs": [],
   "source": [
    "from onmt.modules.embeddings import PositionalEncoding\n",
    "import math\n",
    "encoder_pe = PositionalEncoding(\n",
    "            dim = 256,\n",
    "            max_len=1024,        # temporary hard-code. Seems that onmt fix the denominator as 10000.0\n",
    "            dropout=0.3\n",
    "            # enc_type=args.enc_type\n",
    "        )\n"
   ]
  },
  {
   "cell_type": "code",
   "execution_count": 12,
   "metadata": {},
   "outputs": [
    {
     "data": {
      "text/plain": [
       "tensor([[   0],\n",
       "        [   1],\n",
       "        [   2],\n",
       "        ...,\n",
       "        [1021],\n",
       "        [1022],\n",
       "        [1023]])"
      ]
     },
     "execution_count": 12,
     "metadata": {},
     "output_type": "execute_result"
    }
   ],
   "source": [
    "torch.arange(0, 1024).unsqueeze(1)"
   ]
  },
  {
   "cell_type": "code",
   "execution_count": 2,
   "metadata": {},
   "outputs": [
    {
     "ename": "ImportError",
     "evalue": "libgomp-a34b3233.so.1.0.0: cannot open shared object file: No such file or directory\n___________________________________________________________________________\nContents of /home/chenlidong/.conda/envs/graph2smiles/lib/python3.7/site-packages/sklearn/__check_build:\nsetup.py                  _check_build.py           __init__.py\n_check_build.cpython-37m-x86_64-linux-gnu.so__pycache__\n___________________________________________________________________________\nIt seems that scikit-learn has not been built correctly.\n\nIf you have installed scikit-learn from source, please do not forget\nto build the package before using it: run `python setup.py install` or\n`make` in the source directory.\n\nIf you have used an installer, please check that it is suited for your\nPython version, your operating system and your platform.",
     "output_type": "error",
     "traceback": [
      "\u001b[0;31m---------------------------------------------------------------------------\u001b[0m",
      "\u001b[0;31mImportError\u001b[0m                               Traceback (most recent call last)",
      "\u001b[0;32m/home/chenlidong/.conda/envs/graph2smiles/lib/python3.7/site-packages/sklearn/__check_build/__init__.py\u001b[0m in \u001b[0;36m<module>\u001b[0;34m\u001b[0m\n\u001b[1;32m     47\u001b[0m \u001b[0;32mtry\u001b[0m\u001b[0;34m:\u001b[0m\u001b[0;34m\u001b[0m\u001b[0;34m\u001b[0m\u001b[0m\n\u001b[0;32m---> 48\u001b[0;31m     \u001b[0;32mfrom\u001b[0m \u001b[0;34m.\u001b[0m\u001b[0m_check_build\u001b[0m \u001b[0;32mimport\u001b[0m \u001b[0mcheck_build\u001b[0m  \u001b[0;31m# noqa\u001b[0m\u001b[0;34m\u001b[0m\u001b[0;34m\u001b[0m\u001b[0m\n\u001b[0m\u001b[1;32m     49\u001b[0m \u001b[0;32mexcept\u001b[0m \u001b[0mImportError\u001b[0m \u001b[0;32mas\u001b[0m \u001b[0me\u001b[0m\u001b[0;34m:\u001b[0m\u001b[0;34m\u001b[0m\u001b[0;34m\u001b[0m\u001b[0m\n",
      "\u001b[0;31mImportError\u001b[0m: libgomp-a34b3233.so.1.0.0: cannot open shared object file: No such file or directory",
      "\nDuring handling of the above exception, another exception occurred:\n",
      "\u001b[0;31mImportError\u001b[0m                               Traceback (most recent call last)",
      "\u001b[0;32m/tmp/ipykernel_70483/1311064920.py\u001b[0m in \u001b[0;36m<module>\u001b[0;34m\u001b[0m\n\u001b[0;32m----> 1\u001b[0;31m \u001b[0;32mfrom\u001b[0m \u001b[0msklearn\u001b[0m\u001b[0;34m.\u001b[0m\u001b[0mmodel_selection\u001b[0m \u001b[0;32mimport\u001b[0m \u001b[0mKFold\u001b[0m\u001b[0;34m,\u001b[0m \u001b[0mtrain_test_split\u001b[0m\u001b[0;34m\u001b[0m\u001b[0;34m\u001b[0m\u001b[0m\n\u001b[0m\u001b[1;32m      2\u001b[0m \u001b[0;32mimport\u001b[0m \u001b[0mnumpy\u001b[0m \u001b[0;32mas\u001b[0m \u001b[0mnp\u001b[0m\u001b[0;34m\u001b[0m\u001b[0;34m\u001b[0m\u001b[0m\n\u001b[1;32m      3\u001b[0m \u001b[0;34m\u001b[0m\u001b[0m\n\u001b[1;32m      4\u001b[0m \u001b[0;31m# 假设 n 是长度为 n 的东西\u001b[0m\u001b[0;34m\u001b[0m\u001b[0;34m\u001b[0m\u001b[0;34m\u001b[0m\u001b[0m\n\u001b[1;32m      5\u001b[0m \u001b[0mn\u001b[0m \u001b[0;34m=\u001b[0m \u001b[0;36m100\u001b[0m\u001b[0;34m\u001b[0m\u001b[0;34m\u001b[0m\u001b[0m\n",
      "\u001b[0;32m/home/chenlidong/.conda/envs/graph2smiles/lib/python3.7/site-packages/sklearn/__init__.py\u001b[0m in \u001b[0;36m<module>\u001b[0;34m\u001b[0m\n\u001b[1;32m     79\u001b[0m     \u001b[0;31m# it and importing it first would fail if the OpenMP dll cannot be found.\u001b[0m\u001b[0;34m\u001b[0m\u001b[0;34m\u001b[0m\u001b[0;34m\u001b[0m\u001b[0m\n\u001b[1;32m     80\u001b[0m     \u001b[0;32mfrom\u001b[0m \u001b[0;34m.\u001b[0m \u001b[0;32mimport\u001b[0m \u001b[0m_distributor_init\u001b[0m  \u001b[0;31m# noqa: F401\u001b[0m\u001b[0;34m\u001b[0m\u001b[0;34m\u001b[0m\u001b[0m\n\u001b[0;32m---> 81\u001b[0;31m     \u001b[0;32mfrom\u001b[0m \u001b[0;34m.\u001b[0m \u001b[0;32mimport\u001b[0m \u001b[0m__check_build\u001b[0m  \u001b[0;31m# noqa: F401\u001b[0m\u001b[0;34m\u001b[0m\u001b[0;34m\u001b[0m\u001b[0m\n\u001b[0m\u001b[1;32m     82\u001b[0m     \u001b[0;32mfrom\u001b[0m \u001b[0;34m.\u001b[0m\u001b[0mbase\u001b[0m \u001b[0;32mimport\u001b[0m \u001b[0mclone\u001b[0m\u001b[0;34m\u001b[0m\u001b[0;34m\u001b[0m\u001b[0m\n\u001b[1;32m     83\u001b[0m     \u001b[0;32mfrom\u001b[0m \u001b[0;34m.\u001b[0m\u001b[0mutils\u001b[0m\u001b[0;34m.\u001b[0m\u001b[0m_show_versions\u001b[0m \u001b[0;32mimport\u001b[0m \u001b[0mshow_versions\u001b[0m\u001b[0;34m\u001b[0m\u001b[0;34m\u001b[0m\u001b[0m\n",
      "\u001b[0;32m/home/chenlidong/.conda/envs/graph2smiles/lib/python3.7/site-packages/sklearn/__check_build/__init__.py\u001b[0m in \u001b[0;36m<module>\u001b[0;34m\u001b[0m\n\u001b[1;32m     48\u001b[0m     \u001b[0;32mfrom\u001b[0m \u001b[0;34m.\u001b[0m\u001b[0m_check_build\u001b[0m \u001b[0;32mimport\u001b[0m \u001b[0mcheck_build\u001b[0m  \u001b[0;31m# noqa\u001b[0m\u001b[0;34m\u001b[0m\u001b[0;34m\u001b[0m\u001b[0m\n\u001b[1;32m     49\u001b[0m \u001b[0;32mexcept\u001b[0m \u001b[0mImportError\u001b[0m \u001b[0;32mas\u001b[0m \u001b[0me\u001b[0m\u001b[0;34m:\u001b[0m\u001b[0;34m\u001b[0m\u001b[0;34m\u001b[0m\u001b[0m\n\u001b[0;32m---> 50\u001b[0;31m     \u001b[0mraise_build_error\u001b[0m\u001b[0;34m(\u001b[0m\u001b[0me\u001b[0m\u001b[0;34m)\u001b[0m\u001b[0;34m\u001b[0m\u001b[0;34m\u001b[0m\u001b[0m\n\u001b[0m",
      "\u001b[0;32m/home/chenlidong/.conda/envs/graph2smiles/lib/python3.7/site-packages/sklearn/__check_build/__init__.py\u001b[0m in \u001b[0;36mraise_build_error\u001b[0;34m(e)\u001b[0m\n\u001b[1;32m     41\u001b[0m \u001b[0;31m`\u001b[0m\u001b[0mmake\u001b[0m\u001b[0;31m`\u001b[0m \u001b[0;32min\u001b[0m \u001b[0mthe\u001b[0m \u001b[0msource\u001b[0m \u001b[0mdirectory\u001b[0m\u001b[0;34m.\u001b[0m\u001b[0;34m\u001b[0m\u001b[0;34m\u001b[0m\u001b[0m\n\u001b[1;32m     42\u001b[0m %s\"\"\"\n\u001b[0;32m---> 43\u001b[0;31m         \u001b[0;34m%\u001b[0m \u001b[0;34m(\u001b[0m\u001b[0me\u001b[0m\u001b[0;34m,\u001b[0m \u001b[0mlocal_dir\u001b[0m\u001b[0;34m,\u001b[0m \u001b[0;34m\"\"\u001b[0m\u001b[0;34m.\u001b[0m\u001b[0mjoin\u001b[0m\u001b[0;34m(\u001b[0m\u001b[0mdir_content\u001b[0m\u001b[0;34m)\u001b[0m\u001b[0;34m.\u001b[0m\u001b[0mstrip\u001b[0m\u001b[0;34m(\u001b[0m\u001b[0;34m)\u001b[0m\u001b[0;34m,\u001b[0m \u001b[0mmsg\u001b[0m\u001b[0;34m)\u001b[0m\u001b[0;34m\u001b[0m\u001b[0;34m\u001b[0m\u001b[0m\n\u001b[0m\u001b[1;32m     44\u001b[0m     )\n\u001b[1;32m     45\u001b[0m \u001b[0;34m\u001b[0m\u001b[0m\n",
      "\u001b[0;31mImportError\u001b[0m: libgomp-a34b3233.so.1.0.0: cannot open shared object file: No such file or directory\n___________________________________________________________________________\nContents of /home/chenlidong/.conda/envs/graph2smiles/lib/python3.7/site-packages/sklearn/__check_build:\nsetup.py                  _check_build.py           __init__.py\n_check_build.cpython-37m-x86_64-linux-gnu.so__pycache__\n___________________________________________________________________________\nIt seems that scikit-learn has not been built correctly.\n\nIf you have installed scikit-learn from source, please do not forget\nto build the package before using it: run `python setup.py install` or\n`make` in the source directory.\n\nIf you have used an installer, please check that it is suited for your\nPython version, your operating system and your platform."
     ]
    }
   ],
   "source": [
    "from sklearn.model_selection import KFold, train_test_split\n",
    "import numpy as np\n",
    "\n",
    "# 假设 n 是长度为 n 的东西\n",
    "n = 100\n",
    "data = np.arange(n)\n",
    "\n",
    "# 设置 k 折交叉验证\n",
    "k = 5\n",
    "kf = KFold(n_splits=k, shuffle=True, random_state=42)\n",
    "\n",
    "# 创建空列表，用于存储每个 fold 中的 train、validation、test 索引\n",
    "fold_indices = []\n",
    "\n",
    "for train_test_idx, val_idx in kf.split(data):\n",
    "    # 将 train_test_idx 分割为 train 和 test，再次使用 train_test_split 对 train 进行二次划分为 train 和 validation\n",
    "    train_idx, test_idx = train_test_split(train_test_idx, test_size=0.2, random_state=42)\n",
    "    \n",
    "    # 将当前 fold 的索引存储为字典\n",
    "    fold_index = {'train_idx': train_idx, 'val_idx': val_idx, 'test_idx': test_idx}\n",
    "    \n",
    "    # 将当前 fold 的字典添加到列表中\n",
    "    fold_indices.append(fold_index)\n",
    "\n",
    "# 打印每个 fold 中的 train、validation、test 索引\n",
    "for i, fold_index in enumerate(fold_indices):\n",
    "    print(f\"Fold {i + 1}:\")\n",
    "    print(\"Train Index:\", fold_index['train_idx'])\n",
    "    print(\"Validation Index:\", fold_index['val_idx'])\n",
    "    print(\"Test Index:\", fold_index['test_idx'])\n",
    "    print()\n"
   ]
  },
  {
   "cell_type": "markdown",
   "metadata": {},
   "source": [
    "# 以下为Graphformer测试代码"
   ]
  },
  {
   "cell_type": "code",
   "execution_count": 164,
   "metadata": {},
   "outputs": [],
   "source": [
    "import sys\n",
    "sys.path.append(\"/home/chenlidong/polyAttn/graphormer-pyg-main\")\n",
    "from graphormer.functional import shortest_path_distance\n",
    "from graphormer.layers import SpatialEncoding, EdgeEncoding\n",
    "from torch_geometric.utils.convert import to_networkx"
   ]
  },
  {
   "cell_type": "code",
   "execution_count": 201,
   "metadata": {},
   "outputs": [
    {
     "name": "stderr",
     "output_type": "stream",
     "text": [
      "/home/chenlidong/polymer-chemprop-master/chemprop/features/utils.py:59: RuntimeWarning: invalid value encountered in cast\n",
      "  padded_distance[:atom_num, :atom_num] = nx.floyd_warshall_numpy(G)\n"
     ]
    }
   ],
   "source": [
    "smiles = \"OB(O)c1cc2ccc3cc(B(O)O)cc4ccc(c1)c2c34.CC(=O)Nc1cc(Br)cc(Br)c1\"\n",
    "smiles0 = \"OB(O)c1ccc(-c2ccc(B(O)O)s2)s1.Cn1cc(Br)nc1Br\"\n",
    "smiles1 = \"*Oc1ccc(cc1)c1ccc(cc1)C(=O)OCC(COC(=O)c1ccc(cc1)c1ccc(cc1)OC(CC*)C)C\"\n",
    "smiles2 = \"*OS(=O)(=O)c1ccc(cc1)*\"\n",
    "batch_mol2graph = mol2graph([smiles,smiles0,smiles1,smiles2],[1,1,2,0],[1,1,2,0])\n",
    "f_atoms, f_bonds, w_atoms, w_bonds, a2b, b2a, b2revb, a_scope, b_scope, _ ,distance, idx = batch_mol2graph.get_components()"
   ]
  },
  {
   "cell_type": "code",
   "execution_count": 235,
   "metadata": {},
   "outputs": [],
   "source": [
    "dataset = []\n",
    "\n",
    "for idx,(a_scope_i,b_scope_i) in enumerate(zip(a_scope,b_scope)):\n",
    "    edge_index = [[],[]]\n",
    "    b2a_i = b2a[b_scope_i[0]:b_scope_i[0]+b_scope_i[1]]\n",
    "    b2revb_i = b2revb[b_scope_i[0]:b_scope_i[0]+b_scope_i[1]]\n",
    "    for i in range(b2a_i.size(0)):\n",
    "        edge_index[0].append(b2a_i[i].item()-a_scope_i[0])\n",
    "        edge_index[1].append(b2a_i[b2revb_i[i]-b_scope_i[0]]-a_scope_i[0])\n",
    "    \n",
    "    edge_index = torch.tensor(edge_index,dtype=torch.long)\n",
    "    w_atom = w_atoms[a_scope_i[0]:a_scope_i[0]+a_scope_i[1]]\n",
    "    w_bond = w_bonds[b_scope_i[0]:b_scope_i[0]+b_scope_i[1]]\n",
    "    edge_attr = f_bonds[b_scope_i[0]:b_scope_i[0]+b_scope_i[1]]\n",
    "    data = Data(\n",
    "        x = f_atoms[a_scope_i[0]:a_scope_i[0]+a_scope_i[1]],\n",
    "        edge_index=edge_index,\n",
    "        edge_attr = edge_attr,\n",
    "        w_atoms = w_atom,\n",
    "        w_bonds = w_bond,\n",
    "        b2revb = b2revb[b_scope_i[0]:b_scope_i[0]+b_scope_i[1]]-b_scope_i[0],\n",
    "        distance = distance[idx]\n",
    "    )\n",
    "    # print(w_atom)\n",
    "    # print(b2a_i)\n",
    "    # print(b2revb[b_scope_i[0]:b_scope_i[0]+b_scope_i[1]]-b_scope_i[0])\n",
    "    # print(w_bond)\n",
    "    dataset.append(data)\n",
    "    # break\n"
   ]
  },
  {
   "cell_type": "code",
   "execution_count": 240,
   "metadata": {},
   "outputs": [
    {
     "data": {
      "text/plain": [
       "tensor([  0,  34,  58, 100, 112])"
      ]
     },
     "execution_count": 240,
     "metadata": {},
     "output_type": "execute_result"
    }
   ],
   "source": [
    "batch = Batch.from_data_list(dataset)\n",
    "batch.ptr"
   ]
  },
  {
   "cell_type": "code",
   "execution_count": 211,
   "metadata": {},
   "outputs": [
    {
     "data": {
      "text/plain": [
       "torch.Size([4, 42, 42])"
      ]
     },
     "execution_count": 211,
     "metadata": {},
     "output_type": "execute_result"
    }
   ],
   "source": [
    "import torch_geometric\n",
    "torch_geometric.utils.to_dense_adj(edge_index=batch.edge_index,batch=batch.batch).shape"
   ]
  },
  {
   "cell_type": "markdown",
   "metadata": {},
   "source": [
    "## 测试SpatialEncoding(最短距离)"
   ]
  },
  {
   "cell_type": "code",
   "execution_count": 232,
   "metadata": {},
   "outputs": [],
   "source": [
    "data = dataset[0]\n",
    "data.batch"
   ]
  },
  {
   "cell_type": "code",
   "execution_count": 168,
   "metadata": {},
   "outputs": [],
   "source": [
    "def get_distance_and_path(data,max_len=52,max_distance=100):\n",
    "    '''\n",
    "    获取邻接矩阵、最短距离、最短路径(节点和边)\n",
    "    '''\n",
    "    G = to_networkx(data)\n",
    "    atom_num = data.x.size(0)\n",
    "    bond_num = data.edge_index.size(1)\n",
    "\n",
    "    node_paths_tensor = torch.zeros(atom_num,atom_num,atom_num).bool()\n",
    "    edge_paths_tensor = torch.zeros(atom_num,atom_num,bond_num).bool()\n",
    "\n",
    "    padded_distance = np.ones((max_len, max_len), dtype=np.int32) * max_distance\n",
    "    distance_matrix = nx.floyd_warshall_numpy(G)\n",
    "    distance_matrix[np.isnan(distance_matrix) | np.isinf(distance_matrix)] = -1\n",
    "    padded_distance[:atom_num, :atom_num] = distance_matrix\n",
    "    \n",
    "    node_paths, edge_paths = shortest_path_distance(data)\n",
    "\n",
    "    node_row = []\n",
    "    node_col = []\n",
    "    edge_row = []\n",
    "    edge_col = []\n",
    "    for i in range(atom_num):\n",
    "        if i in node_paths.keys():\n",
    "            for j in range(atom_num):\n",
    "                if j in node_paths[i].keys():\n",
    "                    node_paths_tensor[i,j,node_paths[i][j]] = True\n",
    "            for j in range(bond_num):\n",
    "                if j in edge_paths[i].keys():\n",
    "                    edge_paths_tensor[i,j,edge_paths[i][j]] = True\n",
    "    \n",
    "\n",
    "    # 修正距离\n",
    "    # padded_distance = [[8 if x >=8 and x <15 else x for x in row] for row in padded_distance]\n",
    "    # padded_distance = [[9 if x < max_distance and x>=15 else x for x in row] for row in padded_distance]\n",
    "    # padded_distance = [[-1 if x == max_distance else x for x in row] for row in padded_distance]\n",
    "    \n",
    "    return torch.LongTensor(padded_distance),node_paths_tensor,edge_paths_tensor"
   ]
  },
  {
   "cell_type": "code",
   "execution_count": 238,
   "metadata": {},
   "outputs": [
    {
     "name": "stdout",
     "output_type": "stream",
     "text": [
      "torch.Size([4, 42, 133])\n"
     ]
    }
   ],
   "source": [
    "import torch\n",
    "from torch_geometric.utils import to_dense_batch\n",
    "\n",
    "# 假设 node_features 是节点特征的张量，batch 是指定节点属于哪个图的批次标识\n",
    "node_features = batch.x  # 100个节点，每个节点有32维特征\n",
    "batch = batch.batch # 假设有3个图\n",
    "\n",
    "# 使用 to_dense_batch 将稀疏图数据转换为稠密批次\n",
    "dense_batch, mask = to_dense_batch(torch.arange(poly_vec.size(0),device=\"cuda\"), batch=batch)\n",
    "\n",
    "# 获取每个图的节点数量\n",
    "node_count = torch.bincount(batch)\n",
    "\n",
    "# 将节点特征按照每个图的节点数量分割\n",
    "node_features_split = torch.split(poly_vec, node_count.tolist())\n",
    "\n",
    "# 使用堆叠操作将它们堆叠成 [batch_size, max_node_size, hidden_size] 的形状\n",
    "max_node_size = dense_batch.size(1)\n",
    "node_features_stacked = torch.stack([torch.cat([feat, torch.zeros(max_node_size - feat.size(0), feat.size(1))]) for feat in node_features_split])\n",
    "\n",
    "print(node_features_stacked.size())\n"
   ]
  },
  {
   "cell_type": "code",
   "execution_count": 242,
   "metadata": {},
   "outputs": [
    {
     "data": {
      "text/plain": [
       "tensor([[ True,  True,  True,  True,  True,  True,  True,  True,  True,  True,\n",
       "          True,  True,  True,  True,  True,  True,  True,  True,  True,  True,\n",
       "          True,  True,  True,  True,  True,  True,  True,  True,  True,  True,\n",
       "          True,  True,  True,  True, False, False, False, False, False, False,\n",
       "         False, False],\n",
       "        [ True,  True,  True,  True,  True,  True,  True,  True,  True,  True,\n",
       "          True,  True,  True,  True,  True,  True,  True,  True,  True,  True,\n",
       "          True,  True,  True,  True, False, False, False, False, False, False,\n",
       "         False, False, False, False, False, False, False, False, False, False,\n",
       "         False, False],\n",
       "        [ True,  True,  True,  True,  True,  True,  True,  True,  True,  True,\n",
       "          True,  True,  True,  True,  True,  True,  True,  True,  True,  True,\n",
       "          True,  True,  True,  True,  True,  True,  True,  True,  True,  True,\n",
       "          True,  True,  True,  True,  True,  True,  True,  True,  True,  True,\n",
       "          True,  True],\n",
       "        [ True,  True,  True,  True,  True,  True,  True,  True,  True,  True,\n",
       "          True,  True, False, False, False, False, False, False, False, False,\n",
       "         False, False, False, False, False, False, False, False, False, False,\n",
       "         False, False, False, False, False, False, False, False, False, False,\n",
       "         False, False]])"
      ]
     },
     "execution_count": 242,
     "metadata": {},
     "output_type": "execute_result"
    }
   ],
   "source": [
    "mask"
   ]
  },
  {
   "cell_type": "code",
   "execution_count": null,
   "metadata": {},
   "outputs": [],
   "source": [
    "class MultiHeadedRelAttention(nn.Module):\n",
    "    def __init__(self, args, head_count, model_dim, dropout, rel_pos_buckets):\n",
    "        super().__init__()\n",
    "        self.args = args\n",
    "        self.with_pe = args.with_pe\n",
    "        assert model_dim % head_count == 0\n",
    "        self.dim_per_head = model_dim // head_count\n",
    "        self.model_dim = model_dim\n",
    "        self.head_count = head_count\n",
    "\n",
    "        self.linear_keys = nn.Linear(model_dim, model_dim)\n",
    "        self.linear_values = nn.Linear(model_dim, model_dim)\n",
    "        self.linear_query = nn.Linear(model_dim, model_dim)\n",
    "\n",
    "        self.softmax = nn.Softmax(dim=-1)\n",
    "        self.dropout = nn.Dropout(dropout)\n",
    "        self.final_linear = nn.Linear(model_dim, model_dim)\n",
    "\n",
    "        self.edge_encoding = EdgeEncoding()\n",
    "\n",
    "        # self.u = nn.Parameter(torch.randn(model_dim), requires_grad=True)\n",
    "        # self.v = nn.Parameter(torch.randn(model_dim), requires_grad=True)\n",
    "\n",
    "    def forward(self, inputs, mask, distance=None, node_path=None ,edge_path=None):\n",
    "\n",
    "\n",
    "        batch_size = inputs.size(0)\n",
    "        max_a = inputs.size(1)\n",
    "        dim_per_head = self.dim_per_head        # 256 / 8\n",
    "        head_count = self.head_count            # 8\n",
    "\n",
    "        def shape(x):\n",
    "            \"\"\"Projection.\"\"\"\n",
    "            return x.view(batch_size, -1, head_count, dim_per_head).transpose(1, 2)\n",
    "\n",
    "        def unshape(x):\n",
    "            \"\"\"Compute context.\"\"\"\n",
    "            return x.transpose(1, 2).contiguous().view(batch_size, -1, head_count * dim_per_head)\n",
    "\n",
    "        # 1) Project key, value, and query. Seems that we don't need layer_cache here\n",
    "        query = self.linear_query(inputs)\n",
    "        key = self.linear_keys(inputs)\n",
    "        value = self.linear_values(inputs)\n",
    "\n",
    "        key = shape(key)                # (b, max_a, h) -> (b, head, max_a, h/head)\n",
    "        value = shape(value)\n",
    "        query = shape(query)            # (b, max_a, h) -> (b, head, max_a, h/head)\n",
    "\n",
    "        key_len = key.size(2)           # max_a\n",
    "        query_len = query.size(2)       # max_a\n",
    "\n",
    "        # 2) Calculate and scale scores.\n",
    "        query = query / math.sqrt(dim_per_head)\n",
    "\n",
    "        scores = torch.matmul(query, key.transpose(2, 3))                 # (b, head, t_q, t_k)\n",
    "\n",
    "        if:\n",
    "            \n",
    "            a = to_dense_adj(edge_index=edge_index,batch=batch) # adj       [batch, max_a, max_a]\n",
    "            \n",
    "            b = distance[:max_a,:max_a]                         # distance  [batch, max_a, max_a]\n",
    "\n",
    "            c = node_\n",
    "\n",
    "            d = edge_path\n",
    "        \n",
    "        \n",
    "        scores = scores.float()\n",
    "\n",
    "        mask = mask.unsqueeze(1)                            # (B, 1, 1, T_values)\n",
    "        scores = scores.masked_fill(mask, -1e18)\n",
    "\n",
    "        # 3) Apply attention dropout and compute context vectors.\n",
    "        attn = self.softmax(scores)\n",
    "        drop_attn = self.dropout(attn)\n",
    "\n",
    "        context_original = torch.matmul(drop_attn, value)   # -> (b, head, t_q, h/head)\n",
    "        context = unshape(context_original)                 # -> (b, t_q, h)\n",
    "\n",
    "        output = self.final_linear(context)\n",
    "        attns = attn.view(batch_size, head_count, query_len, key_len)\n",
    "\n",
    "        return output, attns\n",
    "\n"
   ]
  },
  {
   "cell_type": "code",
   "execution_count": 53,
   "metadata": {},
   "outputs": [
    {
     "data": {
      "text/plain": [
       "tensor([2., 1., 2., 0., 1., 2., 3., 4., 5., 6., 7., 8., 9., 9., 6., 5., 4., 3.,\n",
       "        2., 1., 3., 4., 0., 0., 0., 0., 0., 0., 0., 0., 0., 0., 0., 0.],\n",
       "       grad_fn=<SelectBackward0>)"
      ]
     },
     "execution_count": 53,
     "metadata": {},
     "output_type": "execute_result"
    }
   ],
   "source": [
    "spatial_encoding = SpatialEncoding(\n",
    "            max_path_distance=100,\n",
    ")\n",
    "spatial_encoding.b.data = torch.arange(34, dtype=torch.float32)\n",
    "spatial_encoding(data.x,shortest_path_distance(dataset[0])[0])[3]"
   ]
  },
  {
   "cell_type": "code",
   "execution_count": 147,
   "metadata": {},
   "outputs": [],
   "source": [
    "i = torch.tensor([[0, 1, 1],[2, 0, 2]])\n",
    "v = torch.tensor([3, 4, 5], dtype=torch.float32)\n",
    "test_data = [torch.sparse_coo_tensor(i, v, [2, 4]),\n",
    "            torch.sparse_coo_tensor(i, v, [3, 4])]"
   ]
  },
  {
   "cell_type": "code",
   "execution_count": 149,
   "metadata": {},
   "outputs": [
    {
     "data": {
      "text/plain": [
       "tensor(indices=tensor([[0, 1, 1],\n",
       "                       [2, 0, 2]]),\n",
       "       values=tensor([3., 4., 5.]),\n",
       "       size=(2, 4), nnz=3, layout=torch.sparse_coo)"
      ]
     },
     "execution_count": 149,
     "metadata": {},
     "output_type": "execute_result"
    }
   ],
   "source": [
    "test_data[0].coalesce()"
   ]
  },
  {
   "cell_type": "code",
   "execution_count": 163,
   "metadata": {},
   "outputs": [
    {
     "ename": "IndexError",
     "evalue": "index 29 is out of bounds for dimension 0 with size 24",
     "output_type": "error",
     "traceback": [
      "\u001b[0;31m---------------------------------------------------------------------------\u001b[0m",
      "\u001b[0;31mIndexError\u001b[0m                                Traceback (most recent call last)",
      "\u001b[1;32m/home/chenlidong/polyAttn/notebooks/model_test.ipynb Cell 82\u001b[0m line \u001b[0;36m1\n\u001b[0;32m----> <a href='vscode-notebook-cell://ssh-remote%2Bhk/home/chenlidong/polyAttn/notebooks/model_test.ipynb#Y225sdnNjb2RlLXJlbW90ZQ%3D%3D?line=0'>1</a>\u001b[0m get_distance_and_path(data)[\u001b[39m2\u001b[39;49m][\u001b[39m23\u001b[39;49m][\u001b[39m29\u001b[39;49m]\n",
      "\u001b[0;31mIndexError\u001b[0m: index 29 is out of bounds for dimension 0 with size 24"
     ]
    }
   ],
   "source": [
    "get_distance_and_path(data)[0]"
   ]
  },
  {
   "cell_type": "code",
   "execution_count": 131,
   "metadata": {},
   "outputs": [
    {
     "name": "stdout",
     "output_type": "stream",
     "text": [
      "0 1 2 2 3 4 5 6 7 8 9 10 11 11 8 7 6 5 4 3 5 6 -1 -1 -1 -1 -1 -1 -1 -1 -1 -1 -1 -1 100 100 100 100 100 100 100 100 100 100 100 100 100 100 100 100 100 100 \n",
      "1 0 1 1 2 3 4 5 6 7 8 9 10 10 7 6 5 4 3 2 4 5 -1 -1 -1 -1 -1 -1 -1 -1 -1 -1 -1 -1 100 100 100 100 100 100 100 100 100 100 100 100 100 100 100 100 100 100 \n",
      "2 1 0 2 3 4 5 6 7 8 9 10 11 11 8 7 6 5 4 3 5 6 -1 -1 -1 -1 -1 -1 -1 -1 -1 -1 -1 -1 100 100 100 100 100 100 100 100 100 100 100 100 100 100 100 100 100 100 \n",
      "2 1 2 0 1 2 3 4 5 6 7 8 9 9 6 5 4 3 2 1 3 4 -1 -1 -1 -1 -1 -1 -1 -1 -1 -1 -1 -1 100 100 100 100 100 100 100 100 100 100 100 100 100 100 100 100 100 100 \n",
      "3 2 3 1 0 1 2 3 4 5 6 7 8 8 5 4 5 4 3 2 2 3 -1 -1 -1 -1 -1 -1 -1 -1 -1 -1 -1 -1 100 100 100 100 100 100 100 100 100 100 100 100 100 100 100 100 100 100 \n",
      "4 3 4 2 1 0 1 2 3 4 5 6 7 7 4 3 4 3 2 3 1 2 -1 -1 -1 -1 -1 -1 -1 -1 -1 -1 -1 -1 100 100 100 100 100 100 100 100 100 100 100 100 100 100 100 100 100 100 \n",
      "5 4 5 3 2 1 0 1 2 3 4 5 6 6 5 4 5 4 3 4 2 3 -1 -1 -1 -1 -1 -1 -1 -1 -1 -1 -1 -1 100 100 100 100 100 100 100 100 100 100 100 100 100 100 100 100 100 100 \n",
      "6 5 6 4 3 2 1 0 1 2 3 4 5 5 4 3 4 5 4 5 3 2 -1 -1 -1 -1 -1 -1 -1 -1 -1 -1 -1 -1 100 100 100 100 100 100 100 100 100 100 100 100 100 100 100 100 100 100 \n",
      "7 6 7 5 4 3 2 1 0 1 2 3 4 4 3 2 3 4 3 4 2 1 -1 -1 -1 -1 -1 -1 -1 -1 -1 -1 -1 -1 100 100 100 100 100 100 100 100 100 100 100 100 100 100 100 100 100 100 \n",
      "8 7 8 6 5 4 3 2 1 0 1 2 3 3 2 3 4 5 4 5 3 2 -1 -1 -1 -1 -1 -1 -1 -1 -1 -1 -1 -1 100 100 100 100 100 100 100 100 100 100 100 100 100 100 100 100 100 100 \n",
      "9 8 9 7 6 5 4 3 2 1 0 1 2 2 1 2 3 4 5 6 4 3 -1 -1 -1 -1 -1 -1 -1 -1 -1 -1 -1 -1 100 100 100 100 100 100 100 100 100 100 100 100 100 100 100 100 100 100 \n",
      "10 9 10 8 7 6 5 4 3 2 1 0 1 1 2 3 4 5 6 7 5 4 -1 -1 -1 -1 -1 -1 -1 -1 -1 -1 -1 -1 100 100 100 100 100 100 100 100 100 100 100 100 100 100 100 100 100 100 \n",
      "11 10 11 9 8 7 6 5 4 3 2 1 0 2 3 4 5 6 7 8 6 5 -1 -1 -1 -1 -1 -1 -1 -1 -1 -1 -1 -1 100 100 100 100 100 100 100 100 100 100 100 100 100 100 100 100 100 100 \n",
      "11 10 11 9 8 7 6 5 4 3 2 1 2 0 3 4 5 6 7 8 6 5 -1 -1 -1 -1 -1 -1 -1 -1 -1 -1 -1 -1 100 100 100 100 100 100 100 100 100 100 100 100 100 100 100 100 100 100 \n",
      "8 7 8 6 5 4 5 4 3 2 1 2 3 3 0 1 2 3 4 5 3 2 -1 -1 -1 -1 -1 -1 -1 -1 -1 -1 -1 -1 100 100 100 100 100 100 100 100 100 100 100 100 100 100 100 100 100 100 \n",
      "7 6 7 5 4 3 4 3 2 3 2 3 4 4 1 0 1 2 3 4 2 1 -1 -1 -1 -1 -1 -1 -1 -1 -1 -1 -1 -1 100 100 100 100 100 100 100 100 100 100 100 100 100 100 100 100 100 100 \n",
      "6 5 6 4 5 4 5 4 3 4 3 4 5 5 2 1 0 1 2 3 3 2 -1 -1 -1 -1 -1 -1 -1 -1 -1 -1 -1 -1 100 100 100 100 100 100 100 100 100 100 100 100 100 100 100 100 100 100 \n",
      "5 4 5 3 4 3 4 5 4 5 4 5 6 6 3 2 1 0 1 2 2 3 -1 -1 -1 -1 -1 -1 -1 -1 -1 -1 -1 -1 100 100 100 100 100 100 100 100 100 100 100 100 100 100 100 100 100 100 \n",
      "4 3 4 2 3 2 3 4 3 4 5 6 7 7 4 3 2 1 0 1 1 2 -1 -1 -1 -1 -1 -1 -1 -1 -1 -1 -1 -1 100 100 100 100 100 100 100 100 100 100 100 100 100 100 100 100 100 100 \n",
      "3 2 3 1 2 3 4 5 4 5 6 7 8 8 5 4 3 2 1 0 2 3 -1 -1 -1 -1 -1 -1 -1 -1 -1 -1 -1 -1 100 100 100 100 100 100 100 100 100 100 100 100 100 100 100 100 100 100 \n",
      "5 4 5 3 2 1 2 3 2 3 4 5 6 6 3 2 3 2 1 2 0 1 -1 -1 -1 -1 -1 -1 -1 -1 -1 -1 -1 -1 100 100 100 100 100 100 100 100 100 100 100 100 100 100 100 100 100 100 \n",
      "6 5 6 4 3 2 3 2 1 2 3 4 5 5 2 1 2 3 2 3 1 0 -1 -1 -1 -1 -1 -1 -1 -1 -1 -1 -1 -1 100 100 100 100 100 100 100 100 100 100 100 100 100 100 100 100 100 100 \n",
      "-1 -1 -1 -1 -1 -1 -1 -1 -1 -1 -1 -1 -1 -1 -1 -1 -1 -1 -1 -1 -1 -1 0 1 2 2 3 4 5 6 6 5 6 4 100 100 100 100 100 100 100 100 100 100 100 100 100 100 100 100 100 100 \n",
      "-1 -1 -1 -1 -1 -1 -1 -1 -1 -1 -1 -1 -1 -1 -1 -1 -1 -1 -1 -1 -1 -1 1 0 1 1 2 3 4 5 5 4 5 3 100 100 100 100 100 100 100 100 100 100 100 100 100 100 100 100 100 100 \n",
      "-1 -1 -1 -1 -1 -1 -1 -1 -1 -1 -1 -1 -1 -1 -1 -1 -1 -1 -1 -1 -1 -1 2 1 0 2 3 4 5 6 6 5 6 4 100 100 100 100 100 100 100 100 100 100 100 100 100 100 100 100 100 100 \n",
      "-1 -1 -1 -1 -1 -1 -1 -1 -1 -1 -1 -1 -1 -1 -1 -1 -1 -1 -1 -1 -1 -1 2 1 2 0 1 2 3 4 4 3 4 2 100 100 100 100 100 100 100 100 100 100 100 100 100 100 100 100 100 100 \n",
      "-1 -1 -1 -1 -1 -1 -1 -1 -1 -1 -1 -1 -1 -1 -1 -1 -1 -1 -1 -1 -1 -1 3 2 3 1 0 1 2 3 3 2 3 1 100 100 100 100 100 100 100 100 100 100 100 100 100 100 100 100 100 100 \n",
      "-1 -1 -1 -1 -1 -1 -1 -1 -1 -1 -1 -1 -1 -1 -1 -1 -1 -1 -1 -1 -1 -1 4 3 4 2 1 0 1 2 2 3 4 2 100 100 100 100 100 100 100 100 100 100 100 100 100 100 100 100 100 100 \n",
      "-1 -1 -1 -1 -1 -1 -1 -1 -1 -1 -1 -1 -1 -1 -1 -1 -1 -1 -1 -1 -1 -1 5 4 5 3 2 1 0 1 1 2 3 3 100 100 100 100 100 100 100 100 100 100 100 100 100 100 100 100 100 100 \n",
      "-1 -1 -1 -1 -1 -1 -1 -1 -1 -1 -1 -1 -1 -1 -1 -1 -1 -1 -1 -1 -1 -1 6 5 6 4 3 2 1 0 2 3 4 4 100 100 100 100 100 100 100 100 100 100 100 100 100 100 100 100 100 100 \n",
      "-1 -1 -1 -1 -1 -1 -1 -1 -1 -1 -1 -1 -1 -1 -1 -1 -1 -1 -1 -1 -1 -1 6 5 6 4 3 2 1 2 0 1 2 2 100 100 100 100 100 100 100 100 100 100 100 100 100 100 100 100 100 100 \n",
      "-1 -1 -1 -1 -1 -1 -1 -1 -1 -1 -1 -1 -1 -1 -1 -1 -1 -1 -1 -1 -1 -1 5 4 5 3 2 3 2 3 1 0 1 1 100 100 100 100 100 100 100 100 100 100 100 100 100 100 100 100 100 100 \n",
      "-1 -1 -1 -1 -1 -1 -1 -1 -1 -1 -1 -1 -1 -1 -1 -1 -1 -1 -1 -1 -1 -1 6 5 6 4 3 4 3 4 2 1 0 2 100 100 100 100 100 100 100 100 100 100 100 100 100 100 100 100 100 100 \n",
      "-1 -1 -1 -1 -1 -1 -1 -1 -1 -1 -1 -1 -1 -1 -1 -1 -1 -1 -1 -1 -1 -1 4 3 4 2 1 2 3 4 2 1 2 0 100 100 100 100 100 100 100 100 100 100 100 100 100 100 100 100 100 100 \n",
      "100 100 100 100 100 100 100 100 100 100 100 100 100 100 100 100 100 100 100 100 100 100 100 100 100 100 100 100 100 100 100 100 100 100 100 100 100 100 100 100 100 100 100 100 100 100 100 100 100 100 100 100 \n",
      "100 100 100 100 100 100 100 100 100 100 100 100 100 100 100 100 100 100 100 100 100 100 100 100 100 100 100 100 100 100 100 100 100 100 100 100 100 100 100 100 100 100 100 100 100 100 100 100 100 100 100 100 \n",
      "100 100 100 100 100 100 100 100 100 100 100 100 100 100 100 100 100 100 100 100 100 100 100 100 100 100 100 100 100 100 100 100 100 100 100 100 100 100 100 100 100 100 100 100 100 100 100 100 100 100 100 100 \n",
      "100 100 100 100 100 100 100 100 100 100 100 100 100 100 100 100 100 100 100 100 100 100 100 100 100 100 100 100 100 100 100 100 100 100 100 100 100 100 100 100 100 100 100 100 100 100 100 100 100 100 100 100 \n",
      "100 100 100 100 100 100 100 100 100 100 100 100 100 100 100 100 100 100 100 100 100 100 100 100 100 100 100 100 100 100 100 100 100 100 100 100 100 100 100 100 100 100 100 100 100 100 100 100 100 100 100 100 \n",
      "100 100 100 100 100 100 100 100 100 100 100 100 100 100 100 100 100 100 100 100 100 100 100 100 100 100 100 100 100 100 100 100 100 100 100 100 100 100 100 100 100 100 100 100 100 100 100 100 100 100 100 100 \n",
      "100 100 100 100 100 100 100 100 100 100 100 100 100 100 100 100 100 100 100 100 100 100 100 100 100 100 100 100 100 100 100 100 100 100 100 100 100 100 100 100 100 100 100 100 100 100 100 100 100 100 100 100 \n",
      "100 100 100 100 100 100 100 100 100 100 100 100 100 100 100 100 100 100 100 100 100 100 100 100 100 100 100 100 100 100 100 100 100 100 100 100 100 100 100 100 100 100 100 100 100 100 100 100 100 100 100 100 \n",
      "100 100 100 100 100 100 100 100 100 100 100 100 100 100 100 100 100 100 100 100 100 100 100 100 100 100 100 100 100 100 100 100 100 100 100 100 100 100 100 100 100 100 100 100 100 100 100 100 100 100 100 100 \n",
      "100 100 100 100 100 100 100 100 100 100 100 100 100 100 100 100 100 100 100 100 100 100 100 100 100 100 100 100 100 100 100 100 100 100 100 100 100 100 100 100 100 100 100 100 100 100 100 100 100 100 100 100 \n",
      "100 100 100 100 100 100 100 100 100 100 100 100 100 100 100 100 100 100 100 100 100 100 100 100 100 100 100 100 100 100 100 100 100 100 100 100 100 100 100 100 100 100 100 100 100 100 100 100 100 100 100 100 \n",
      "100 100 100 100 100 100 100 100 100 100 100 100 100 100 100 100 100 100 100 100 100 100 100 100 100 100 100 100 100 100 100 100 100 100 100 100 100 100 100 100 100 100 100 100 100 100 100 100 100 100 100 100 \n",
      "100 100 100 100 100 100 100 100 100 100 100 100 100 100 100 100 100 100 100 100 100 100 100 100 100 100 100 100 100 100 100 100 100 100 100 100 100 100 100 100 100 100 100 100 100 100 100 100 100 100 100 100 \n",
      "100 100 100 100 100 100 100 100 100 100 100 100 100 100 100 100 100 100 100 100 100 100 100 100 100 100 100 100 100 100 100 100 100 100 100 100 100 100 100 100 100 100 100 100 100 100 100 100 100 100 100 100 \n",
      "100 100 100 100 100 100 100 100 100 100 100 100 100 100 100 100 100 100 100 100 100 100 100 100 100 100 100 100 100 100 100 100 100 100 100 100 100 100 100 100 100 100 100 100 100 100 100 100 100 100 100 100 \n",
      "100 100 100 100 100 100 100 100 100 100 100 100 100 100 100 100 100 100 100 100 100 100 100 100 100 100 100 100 100 100 100 100 100 100 100 100 100 100 100 100 100 100 100 100 100 100 100 100 100 100 100 100 \n",
      "100 100 100 100 100 100 100 100 100 100 100 100 100 100 100 100 100 100 100 100 100 100 100 100 100 100 100 100 100 100 100 100 100 100 100 100 100 100 100 100 100 100 100 100 100 100 100 100 100 100 100 100 \n",
      "100 100 100 100 100 100 100 100 100 100 100 100 100 100 100 100 100 100 100 100 100 100 100 100 100 100 100 100 100 100 100 100 100 100 100 100 100 100 100 100 100 100 100 100 100 100 100 100 100 100 100 100 \n"
     ]
    },
    {
     "name": "stderr",
     "output_type": "stream",
     "text": [
      "/tmp/ipykernel_321156/3721103336.py:8: RuntimeWarning: invalid value encountered in cast\n",
      "  padded_distance[:atom_num, :atom_num] = nx.floyd_warshall_numpy(G)\n"
     ]
    }
   ],
   "source": [
    "for i in get_adj_distance_path(data)['distance']:\n",
    "    for j in i:\n",
    "        print(f\"{j} \",end=\"\")\n",
    "    print()"
   ]
  },
  {
   "cell_type": "markdown",
   "metadata": {},
   "source": [
    "## 测试EdgeEncoding(最短路径)"
   ]
  },
  {
   "cell_type": "code",
   "execution_count": 68,
   "metadata": {},
   "outputs": [
    {
     "data": {
      "text/plain": [
       "tensor([[ 0.0000,  8.1600,  8.1341,  ...,  0.0000,  0.0000,  0.0000],\n",
       "        [ 8.1081,  0.0000,  8.1081,  ...,  0.0000,  0.0000,  0.0000],\n",
       "        [ 8.1081,  8.1081,  0.0000,  ...,  0.0000,  0.0000,  0.0000],\n",
       "        ...,\n",
       "        [ 0.0000,  0.0000,  0.0000,  ...,  0.0000, 11.1201,  9.1201],\n",
       "        [ 0.0000,  0.0000,  0.0000,  ...,  8.7990,  0.0000,  8.9596],\n",
       "        [ 0.0000,  0.0000,  0.0000,  ..., 11.1201, 11.1201,  0.0000]],\n",
       "       device='cuda:0', grad_fn=<NanToNumBackward0>)"
      ]
     },
     "execution_count": 68,
     "metadata": {},
     "output_type": "execute_result"
    }
   ],
   "source": [
    "edge_encoding = EdgeEncoding(147)\n",
    "edge_encoding.edge_lin.weight.data = torch.ones(147,device=\"cuda\")\n",
    "edge_encoding(data.x,data.edge_attr,shortest_path_distance(dataset[0])[1])"
   ]
  },
  {
   "cell_type": "code",
   "execution_count": 69,
   "metadata": {},
   "outputs": [],
   "source": [
    "w_atoms = torch.tensor([0.7500, 0.7500, 0.7500, 0.7500, 0.7500, 0.7500, 0.7500, 0.7500, 0.7500,\n",
    "        0.7500, 0.7500, 0.7500, 0.7500, 0.7500, 0.7500, 0.7500, 0.7500, 0.7500,\n",
    "        0.7500, 0.7500, 0.7500, 0.7500, 0.2500, 0.2500, 0.2500, 0.2500, 0.2500,\n",
    "        0.2500, 0.2500, 0.2500, 0.2500, 0.2500, 0.2500, 0.2500])\n",
    "edge_index = torch.tensor([[ 0,  1,  1,  2,  1,  3,  3,  4,  3, 19,  4,  5,  5,  6,  5, 20,  6,  7,\n",
    "          7,  8,  8,  9,  8, 21,  9, 10, 10, 11, 10, 14, 11, 12, 11, 13, 14, 15,\n",
    "         15, 16, 15, 21, 16, 17, 17, 18, 18, 19, 18, 20, 20, 21, 22, 23, 23, 24,\n",
    "         23, 25, 25, 26, 26, 27, 26, 33, 27, 28, 28, 29, 28, 30, 30, 31, 31, 32,\n",
    "         31, 33],\n",
    "        [ 1,  0,  2,  1,  3,  1,  4,  3, 19,  3,  5,  4,  6,  5, 20,  5,  7,  6,\n",
    "          8,  7,  9,  8, 21,  8, 10,  9, 11, 10, 14, 10, 12, 11, 13, 11, 15, 14,\n",
    "         16, 15, 21, 15, 17, 16, 18, 17, 19, 18, 20, 18, 21, 20, 23, 22, 24, 23,\n",
    "         25, 23, 26, 25, 27, 26, 33, 26, 28, 27, 29, 28, 30, 28, 31, 30, 32, 31,\n",
    "         33, 31]])\n",
    "w_bonds = torch.tensor([1., 1., 1., 1., 1., 1., 1., 1., 1., 1., 1., 1., 1., 1., 1., 1., 1., 1.,\n",
    "        1., 1., 1., 1., 1., 1., 1., 1., 1., 1., 1., 1., 1., 1., 1., 1., 1., 1.,\n",
    "        1., 1., 1., 1., 1., 1., 1., 1., 1., 1., 1., 1., 1., 1., 1., 1., 1., 1.,\n",
    "        1., 1., 1., 1., 1., 1., 1., 1., 1., 1., 1., 1., 1., 1., 1., 1., 1., 1.,\n",
    "        1., 1.])"
   ]
  },
  {
   "cell_type": "code",
   "execution_count": 135,
   "metadata": {},
   "outputs": [
    {
     "data": {
      "image/png": "[encoded data removed]",
      "text/plain": [
       "<Figure size 1600x1200 with 1 Axes>"
      ]
     },
     "metadata": {},
     "output_type": "display_data"
    }
   ],
   "source": [
    "import networkx as nx\n",
    "import matplotlib.pyplot as plt\n",
    "plt.figure(figsize=(16, 12))\n",
    "# 创建一个空的无向图\n",
    "G = nx.DiGraph()\n",
    "\n",
    "for i in range(w_atoms.shape[0]):\n",
    "    G.add_node(i, label=w_atoms[i])\n",
    "\n",
    "for i in range(edge_index.size(1)):\n",
    "    G.add_edge(edge_index[0][i].item(),edge_index[1][i].item(),color= \"black\" if w_bonds[i].item() == 1.0 else \"grey\",label=str(i))\n",
    "# G = to_networkx(data)\n",
    "pos = nx.spring_layout(G)\n",
    "node_labels = nx.get_node_attributes(G, 'label')\n",
    "edge_labels = nx.get_edge_attributes(G, 'label')\n",
    "# edge_labels = {(u, v): i for i, (u, v) in enumerate(G.edges(), 1)}\n",
    "node_colors = [\"red\" if G.nodes[node]['label'] == 0.25 else \"green\"  for node in G.nodes]\n",
    "edge_colors = [G.edges[edge]['color'] for edge in G.edges]\n",
    "nx.draw_networkx_nodes(G, pos, node_size=700, node_color=node_colors)\n",
    "nx.draw_networkx_edges(G, pos, edgelist=G.edges(), width=3, edge_color=[G[u][v][\"color\"] for u, v in G.edges()], arrows=True)\n",
    "# nx.draw_networkx_nodes(G, pos, node_size=700)\n",
    "# nx.draw_networkx_edges(G, pos, edgelist=G.edges(), width=3, arrows=True)\n",
    "nx.draw_networkx_labels(G, pos, font_size=25, font_family='sans-serif')\n",
    "nx.draw_networkx_edge_labels(G, pos, edge_labels,font_size=10, font_color='black', label_pos=0.3)\n",
    "\n",
    "plt.show()"
   ]
  },
  {
   "cell_type": "code",
   "execution_count": 30,
   "metadata": {},
   "outputs": [
    {
     "name": "stdout",
     "output_type": "stream",
     "text": [
      "Dihedral Angle Matrix:\n",
      "34\n"
     ]
    },
    {
     "name": "stderr",
     "output_type": "stream",
     "text": [
      "[18:18:17] Molecule does not have explicit Hs. Consider calling AddHs()\n"
     ]
    }
   ],
   "source": [
    "from rdkit import Chem\n",
    "from rdkit.Chem import AllChem\n",
    "import numpy as np\n",
    "\n",
    "def calculate_dihedral(mol, atom_indices):\n",
    "    \"\"\"\n",
    "    Calculate dihedral angle given a molecule and a list of atom indices.\n",
    "    \"\"\"\n",
    "    conf = mol.GetConformer()\n",
    "    return AllChem.GetDihedralDeg(conf, *atom_indices)\n",
    "\n",
    "def dihedral_angle_matrix(mol):\n",
    "    \"\"\"\n",
    "    Generate the dihedral angle matrix for a molecule.\n",
    "    \"\"\"\n",
    "    num_atoms = mol.GetNumAtoms()\n",
    "    dihedral_matrix = np.zeros((num_atoms, num_atoms))\n",
    "\n",
    "    for i in range(num_atoms - 3):\n",
    "        for j in range(i + 1, num_atoms - 2):\n",
    "            for k in range(j + 1, num_atoms - 1):\n",
    "                for l in range(k + 1, num_atoms):\n",
    "                    dihedral_angle = calculate_dihedral(mol, [i, j, k, l])\n",
    "                    dihedral_matrix[i, l] = dihedral_angle\n",
    "                    dihedral_matrix[l, i] = dihedral_angle\n",
    "\n",
    "    return dihedral_matrix\n",
    "\n",
    "# Example usage\n",
    "smiles = \"OB(O)c1cc2ccc3cc(B(O)O)cc4ccc(c1)c2c34.Nc1c(Br)cc2[nH]cnc2c1Br\"\n",
    "mol = Chem.MolFromSmiles(smiles)\n",
    "# mol = Chem.AddHs(mol)  # 添加氢原子，以获得更准确的二面角信息\n",
    "AllChem.EmbedMolecule(mol)  # 三维构象生成\n",
    "\n",
    "# 获取自由度矩阵\n",
    "dihedral_matrix = dihedral_angle_matrix(mol)\n",
    "print(\"Dihedral Angle Matrix:\")\n",
    "print(len(dihedral_matrix))\n"
   ]
  }
 ],
 "metadata": {
  "kernelspec": {
   "display_name": "pyG",
   "language": "python",
   "name": "py_38_torch_113_pyg"
  },
  "language_info": {
   "codemirror_mode": {
    "name": "ipython",
    "version": 3
   },
   "file_extension": ".py",
   "mimetype": "text/x-python",
   "name": "python",
   "nbconvert_exporter": "python",
   "pygments_lexer": "ipython3",
   "version": "3.8.17"
  },
  "orig_nbformat": 4,
  "vscode": {
   "interpreter": {
    "hash": "259b0346d4ea5ccf3800359ee960557622a70f2fb0a7fa2d36a22b19866c8ad4"
   }
  }
 },
 "nbformat": 4,
 "nbformat_minor": 2
}
