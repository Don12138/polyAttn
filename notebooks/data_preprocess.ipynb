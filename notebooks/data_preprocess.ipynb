{
 "cells": [
  {
   "cell_type": "code",
   "execution_count": 62,
   "metadata": {},
   "outputs": [],
   "source": [
    "import sys\n",
    "sys.path.append(\"/home/chenlidong/polyAttn\")\n",
    "import numpy as np\n",
    "import pandas as pd\n",
    "from rdkit import Chem\n",
    "# from utils import molecule2graph"
   ]
  },
  {
   "cell_type": "code",
   "execution_count": 63,
   "metadata": {},
   "outputs": [],
   "source": [
    "element_names = ['*', 'C', 'N', 'O', 'S', 'F', 'Si', 'P', 'Cl', 'Br','I','H']"
   ]
  },
  {
   "cell_type": "code",
   "execution_count": 3,
   "metadata": {},
   "outputs": [],
   "source": [
    "homopolymer_data = pd.read_csv(\"/home/chenlidong/polyAttn/data/homopolymer/homopolymer.csv\")\n",
    "copolymer_data = pd.read_csv(\"/home/chenlidong/polyAttn/data/copolymer/copolymer.csv\")"
   ]
  },
  {
   "cell_type": "code",
   "execution_count": 4,
   "metadata": {},
   "outputs": [],
   "source": [
    "Egc_data = pd.read_csv('/home/chenlidong/polymer-chemprop-master/data/polymer-chemprop-data-main/homopolymer/Egc.csv')"
   ]
  },
  {
   "cell_type": "code",
   "execution_count": 5,
   "metadata": {},
   "outputs": [],
   "source": [
    "Exp96_data = pd.read_csv(\"/home/chenlidong/polymer-chemprop-master/data/polymer-chemprop-data-main/homopolymer/96_homopolymer_MD_Exper.csv\")"
   ]
  },
  {
   "cell_type": "code",
   "execution_count": 5,
   "metadata": {},
   "outputs": [],
   "source": [
    "def get_info_from_copolymer_format(copolymer_str):\n",
    "    info = copolymer_str.split(\"|\")\n",
    "    return info"
   ]
  },
  {
   "cell_type": "code",
   "execution_count": 5,
   "metadata": {},
   "outputs": [
    {
     "data": {
      "text/html": [
       "<div>\n",
       "<style scoped>\n",
       "    .dataframe tbody tr th:only-of-type {\n",
       "        vertical-align: middle;\n",
       "    }\n",
       "\n",
       "    .dataframe tbody tr th {\n",
       "        vertical-align: top;\n",
       "    }\n",
       "\n",
       "    .dataframe thead th {\n",
       "        text-align: right;\n",
       "    }\n",
       "</style>\n",
       "<table border=\"1\" class=\"dataframe\">\n",
       "  <thead>\n",
       "    <tr style=\"text-align: right;\">\n",
       "      <th></th>\n",
       "      <th>smiles</th>\n",
       "      <th>value</th>\n",
       "      <th>type</th>\n",
       "      <th>copolymer_type</th>\n",
       "    </tr>\n",
       "  </thead>\n",
       "  <tbody>\n",
       "    <tr>\n",
       "      <th>0</th>\n",
       "      <td>[*]C[*]</td>\n",
       "      <td>6.8972</td>\n",
       "      <td>0</td>\n",
       "      <td>0</td>\n",
       "    </tr>\n",
       "    <tr>\n",
       "      <th>1</th>\n",
       "      <td>[*]CC([*])C</td>\n",
       "      <td>6.5196</td>\n",
       "      <td>0</td>\n",
       "      <td>0</td>\n",
       "    </tr>\n",
       "    <tr>\n",
       "      <th>2</th>\n",
       "      <td>[*]CC([*])CC</td>\n",
       "      <td>6.5170</td>\n",
       "      <td>0</td>\n",
       "      <td>0</td>\n",
       "    </tr>\n",
       "    <tr>\n",
       "      <th>3</th>\n",
       "      <td>[*]CC([*])CCC</td>\n",
       "      <td>6.7336</td>\n",
       "      <td>0</td>\n",
       "      <td>0</td>\n",
       "    </tr>\n",
       "    <tr>\n",
       "      <th>4</th>\n",
       "      <td>[*]CC([*])CC(C)C</td>\n",
       "      <td>6.7394</td>\n",
       "      <td>0</td>\n",
       "      <td>0</td>\n",
       "    </tr>\n",
       "  </tbody>\n",
       "</table>\n",
       "</div>"
      ],
      "text/plain": [
       "             smiles   value  type  copolymer_type\n",
       "0           [*]C[*]  6.8972     0               0\n",
       "1       [*]CC([*])C  6.5196     0               0\n",
       "2      [*]CC([*])CC  6.5170     0               0\n",
       "3     [*]CC([*])CCC  6.7336     0               0\n",
       "4  [*]CC([*])CC(C)C  6.7394     0               0"
      ]
     },
     "execution_count": 5,
     "metadata": {},
     "output_type": "execute_result"
    }
   ],
   "source": [
    "Egc_data.head()"
   ]
  },
  {
   "cell_type": "markdown",
   "metadata": {},
   "source": [
    "# 下面的代码用于统计两个数据集里的元素组成"
   ]
  },
  {
   "cell_type": "code",
   "execution_count": 6,
   "metadata": {},
   "outputs": [
    {
     "name": "stderr",
     "output_type": "stream",
     "text": [
      "/tmp/ipykernel_197681/2073883479.py:7: FutureWarning: iteritems is deprecated and will be removed in a future version. Use .items instead.\n",
      "  for index, row in first_column.iteritems():\n"
     ]
    },
    {
     "name": "stdout",
     "output_type": "stream",
     "text": [
      "set()\n",
      "[3380, 3379, 1835, 2703, 691, 245, 23, 35, 138, 50, 5, 13]\n",
      "[3, 5, 6, 7, 8, 8, 13, 7, 6, 4, 8, 12, 14, 10, 8, 6, 9, 9, 10, 9, 14, 11, 11, 16, 26, 20, 20, 17, 19, 19, 18, 11, 12, 12, 12, 12, 16, 14, 15, 12, 12, 12, 13, 20, 14, 10, 11, 11, 13, 18, 5, 6, 7, 17, 6, 10, 8, 9, 7, 12, 11, 8, 13, 13, 17, 7, 8, 6, 10, 13, 4, 7, 15, 11, 11, 12, 6, 8, 15, 14, 17, 14, 14, 17, 14, 20, 15, 13, 11, 10, 10, 9, 8, 12, 12, 13, 14, 9, 13, 13, 10, 7, 9, 10, 11, 21, 10, 12, 17, 18, 21, 30, 12, 19, 9, 10, 14, 14, 16, 18, 11, 13, 15, 17, 18, 11, 13, 14, 9, 10, 7, 12, 13, 10, 13, 11, 9, 13, 13, 13, 15, 17, 14, 15, 15, 11, 14, 12, 21, 9, 10, 14, 28, 15, 11, 10, 25, 14, 13, 12, 16, 11, 9, 5, 5, 6, 6, 7, 7, 9, 8, 5, 10, 10, 6, 14, 16, 9, 10, 9, 21, 15, 18, 12, 8, 14, 7, 7, 8, 8, 9, 8, 5, 8, 10, 18, 14, 8, 8, 7, 4, 5, 6, 6, 7, 8, 8, 10, 5, 6, 7, 9, 7, 7, 7, 7, 8, 7, 8, 9, 9, 9, 10, 10, 11, 11, 13, 11, 14, 14, 16, 7, 9, 6, 8, 10, 10, 7, 9, 11, 12, 13, 15, 12, 9, 9, 11, 13, 21, 16, 11, 13, 7, 9, 10, 11, 14, 15, 19, 23, 22, 27, 29, 30, 31, 11, 9, 11, 16, 23, 21, 29, 20, 21, 24, 15, 19, 23, 30, 17, 21, 23, 25, 27, 31, 20, 19, 26, 28, 29, 31, 33, 28, 29, 30, 32, 34, 36, 24, 27, 27, 15, 18, 19, 21, 24, 16, 16, 15, 16, 17, 17, 20, 23, 24, 25, 26, 27, 24, 26, 19, 41, 47, 47, 18, 11, 13, 14, 15, 17, 21, 15, 16, 18, 19, 29, 35, 29, 35, 29, 29, 47, 41, 15, 15, 7, 7, 10, 17, 13, 9, 10, 12, 14, 22, 25, 27, 9, 24, 25, 25, 27, 33, 23, 19, 20, 25, 26, 15, 17, 20, 24, 28, 24, 33, 22, 33, 10, 33, 8, 11, 8, 38, 31, 20, 23, 22, 17, 16, 21, 22, 18, 26, 13, 14, 15, 15, 15, 15, 20, 27, 9, 7, 26, 16, 24, 22, 31, 47, 60, 59, 34, 14, 15, 23, 32, 27, 17, 14, 37, 47, 41, 47, 35, 35, 36, 29, 14, 17, 10, 9, 14, 11, 39, 25, 38, 38, 25, 27, 40, 24, 37, 69, 17, 16, 53, 33, 38, 44, 9, 26, 13, 4, 6, 16, 12, 13, 15, 28, 20, 22, 22, 23, 25, 26, 27, 24, 26, 27, 28, 21, 9, 27, 29, 9, 14, 19, 21, 19, 20, 25, 16, 21, 26, 20, 22, 26, 47, 7, 27, 37, 11, 20, 16, 23, 22, 22, 20, 16, 15, 29, 20, 19, 21, 13, 11, 24, 10, 18, 12, 13, 20, 14, 21, 14, 15, 22, 16, 17, 24, 18, 25, 18, 19, 20, 22, 23, 26, 16, 16, 18, 27, 20, 10, 16, 16, 17, 18, 20, 20, 20, 36, 6, 8, 9, 10, 15, 17, 19, 11, 12, 13, 14, 16, 18, 20, 20, 22, 34, 24, 26, 28, 28, 30, 18, 12, 24, 24, 20, 24, 26, 27, 28, 33, 19, 31, 20, 18, 15, 14, 11, 8, 7, 7, 9, 11, 9, 9, 10, 10, 8, 11, 11, 21, 27, 20, 8, 15, 16, 17, 23, 22, 26, 19, 16, 24, 21, 24, 22, 20, 19, 19, 23, 22, 29, 40, 32, 33, 35, 31, 29, 28, 34, 33, 36, 34, 30, 15, 30, 18, 16, 21, 14, 17, 23, 18, 40, 34, 34, 21, 17, 19, 25, 10, 8, 9, 12, 12, 11, 15, 11, 13, 23, 37, 13, 24, 30, 16, 20, 25, 11, 45, 13, 12, 15, 20, 23, 45, 19, 19, 19, 17, 20, 17, 17, 18, 12, 15, 11, 15, 13, 19, 21, 19, 23, 19, 26, 22, 21, 24, 18, 14, 28, 12, 31, 32, 35, 22, 25, 22, 22, 18, 21, 19, 29, 35, 33, 39, 26, 22, 16, 20, 19, 17, 13, 21, 22, 14, 12, 18, 35, 12, 24, 42, 24, 28, 31, 34, 11, 7, 10, 19, 20, 21, 22, 24, 11, 12, 24, 26, 13, 21, 14, 15, 16, 36, 17, 25, 23, 26, 22, 26, 26, 31, 29, 26, 20, 22, 22, 21, 26, 22, 24, 26, 26, 22, 26, 29, 9, 19, 21, 24, 20, 20, 20, 26, 23, 21, 27, 24, 22, 6, 12, 18, 20, 16, 20, 20, 24, 25, 9, 12, 12, 12, 8, 8, 11, 9, 21, 13, 17, 14, 18, 20, 17, 18, 19, 21, 22, 14, 18, 19, 21, 25, 17, 30, 22, 24, 28, 34, 22, 25, 26, 28, 24, 30, 34, 38, 23, 27, 24, 28, 30, 40, 30, 32, 36, 9, 11, 11, 17, 18, 22, 22, 12, 13, 23, 18, 25, 19, 21, 22, 23, 24, 26, 32, 18, 20, 20, 22, 22, 8, 16, 17, 26, 22, 13, 9, 11, 20, 18, 13, 18, 18, 19, 11, 22, 16, 7, 24, 20, 20, 20, 20, 22, 22, 22, 31, 26, 24, 29, 28, 22, 26, 14, 16, 12, 18, 23, 18, 18, 15, 16, 26, 26, 13, 8, 16, 11, 26, 19, 10, 10, 11, 24, 10, 12, 10, 11, 11, 26, 22, 10, 17, 15, 19, 14, 14, 25, 27, 11, 26, 21, 14, 30, 34, 31, 30, 20, 26, 29, 26, 29, 32, 21, 17, 26, 29, 18, 28, 27, 28, 36, 31, 40, 19, 22, 28, 13, 35, 36, 22, 32, 40, 14, 11, 11, 12, 18, 21, 22, 19, 20, 17, 28, 21, 18, 29, 19, 30, 22, 23, 24, 28, 25, 30, 28, 32, 36, 21, 18, 19, 20, 24, 32, 27, 35, 30, 38, 19, 20, 21, 22, 23, 26, 27, 22, 26, 28, 30, 34, 35, 14, 16, 17, 16, 20, 23, 20, 18, 18, 16, 18, 18, 18, 21, 19, 20, 21, 21, 22, 18, 20, 26, 22, 27, 30, 20, 20, 22, 22, 20, 28, 32, 26, 22, 30, 12, 15, 16, 18, 19, 20, 21, 23, 24, 25, 26, 28, 32, 38, 20, 28, 21, 24, 22, 22, 15, 13, 31, 38, 49, 56, 31, 26, 27, 31, 51, 61, 46, 57, 51, 58, 58, 60, 31, 39, 32, 36, 24, 30, 25, 54, 38, 47, 37, 37, 31, 38, 30, 53, 31, 37, 40, 41, 42, 47, 48, 33, 42, 44, 39, 39, 39, 39, 32, 32, 42, 45, 48, 52, 47, 45, 45, 33, 27, 49, 42, 49, 28, 28, 27, 43, 35, 42, 47, 45, 42, 50, 41, 30, 41, 43, 11, 14, 17, 17, 19, 25, 22, 20, 23, 24, 15, 17, 12, 15, 13, 14, 13, 19, 23, 18, 22, 16, 23, 13, 13, 13, 11, 12, 14, 19, 25, 21, 27, 22, 23, 23, 26, 31, 27, 25, 27, 10, 16, 11, 20, 14, 14, 22, 23, 23, 22, 26, 26, 26, 27, 27, 12, 19, 22, 5, 14, 20, 15, 9, 28, 40, 40, 42, 31, 22, 34, 34, 30, 31, 28, 22, 43, 34, 6, 42, 46, 34, 28, 24, 24, 24, 11, 26, 40, 40, 27, 29, 17, 6, 6, 17, 12, 11, 10, 12, 11, 11, 12, 8, 10, 20, 16, 13, 17, 24, 12, 14, 14, 9, 10, 12, 12, 12, 7, 11, 9, 10, 22, 7, 9, 10, 16, 13, 16, 9, 11, 12, 14, 12, 14, 14, 12, 17, 18, 12, 18, 16, 18, 11, 14, 8, 14, 6, 11, 16, 14, 11, 13, 12, 13, 13, 11, 6, 9, 6, 18, 11, 10, 10, 13, 19, 16, 19, 7, 12, 12, 12, 11, 11, 21, 5, 28, 8, 13, 13, 7, 10, 12, 12, 11, 24, 19, 6, 14, 8, 13, 17, 9, 9, 23, 7, 8, 6, 7, 8, 26, 22, 5, 8, 11, 13, 14, 6, 13, 9, 13, 18, 27, 17, 23, 12, 18, 24, 15, 13, 11, 20, 16, 19, 16, 24, 8, 9, 10, 11, 13, 15, 14, 23, 12, 9, 19, 9, 10, 25, 15, 15, 15, 26, 15, 21, 24, 16, 24, 18, 34, 25, 14, 12, 16, 20, 14, 17, 20, 25, 17, 16, 19, 16, 17, 8, 12, 8, 17, 6, 24, 7, 9, 12, 18, 24, 15, 14, 12, 8, 8, 12, 12, 11, 6, 31, 15, 12, 33, 14, 26, 25, 25, 15, 32, 23, 23, 40, 44, 25, 9, 12, 22, 38, 7, 9, 23, 18, 19, 24, 6, 7, 18, 18, 13, 20, 20, 13, 12, 13, 22, 47, 23, 41, 41, 20, 8, 12, 25, 12, 8, 8, 11, 27, 23, 36, 14, 18, 53, 12, 10, 23, 18, 26, 13, 24, 18, 17, 8, 11, 10, 11, 26, 26, 25, 9, 17, 25, 11, 26, 26, 28, 11, 12, 14, 19, 22, 14, 13, 18, 25, 24, 27, 9, 20, 11, 12, 7, 19, 10, 15, 6, 34, 11, 27, 29, 32, 35, 41, 10, 31, 21, 26, 45, 25, 22, 27, 10, 29, 10, 10, 11, 12, 12, 14, 10, 53, 12, 14, 16, 16, 18, 20, 20, 22, 24, 15, 16, 19, 15, 26, 27, 28, 27, 28, 26, 27, 25, 41, 43, 49, 35, 35, 14, 42, 21, 42, 47, 54, 16, 22, 9, 9, 16, 22, 17, 21, 14, 32, 29, 29, 31, 22, 11, 18, 23, 51, 18, 21, 24, 27, 19, 20, 21, 23, 42, 43, 45, 44, 44, 50, 39, 25, 24, 28, 18, 19, 25, 47, 52, 36, 11, 30, 17, 40, 28, 33, 11, 31, 33, 29, 18, 53, 13, 29, 53, 47, 51, 37, 11, 21, 27, 27, 23, 26, 14, 19, 50, 17, 19, 11, 22, 52, 45, 52, 51, 13, 15, 15, 18, 17, 18, 17, 16, 22, 20, 13, 16, 21, 23, 23, 19, 23, 23, 17, 42, 48, 36, 14, 35, 39, 42, 28, 13, 38, 22, 27, 24, 24, 47, 22, 19, 13, 19, 19, 27, 39, 23, 31, 24, 28, 29, 41, 32, 36, 28, 24, 20, 17, 53, 28, 30, 32, 13, 54, 19, 25, 23, 19, 25, 13, 43, 24, 26, 24, 27, 50, 48, 50, 36, 51, 48, 34, 44, 22, 26, 28, 23, 26, 29, 14, 14, 23, 23, 31, 38, 44, 34, 28, 29, 29, 32, 55, 31, 39, 22, 18, 18, 21, 33, 40, 22, 23, 36, 25, 24, 18, 19, 30, 24, 30, 21, 25, 7, 8, 21, 9, 26, 25, 26, 13, 8, 7, 13, 10, 10, 19, 18, 7, 17, 13, 15, 32, 24, 21, 23, 34, 39, 35, 27, 15, 16, 14, 11, 16, 30, 31, 11, 24, 23, 23, 11, 14, 24, 16, 11, 16, 16, 15, 15, 15, 9, 11, 18, 9, 22, 24, 9, 9, 12, 25, 12, 13, 14, 29, 16, 36, 24, 30, 17, 13, 24, 15, 24, 18, 15, 17, 19, 22, 26, 44, 26, 15, 23, 26, 18, 23, 20, 22, 27, 12, 14, 18, 14, 26, 18, 18, 34, 52, 13, 18, 15, 19, 18, 13, 9, 19, 18, 30, 29, 14, 16, 20, 12, 24, 17, 30, 11, 21, 20, 28, 36, 26, 33, 24, 14, 20, 19, 14, 15, 25, 28, 26, 34, 13, 29, 22, 24, 30, 21, 51, 27, 30, 15, 32, 36, 14, 26, 11, 30, 32, 24, 19, 29, 15, 18, 20, 22, 28, 24, 24, 22, 32, 26, 15, 33, 41, 46, 16, 26, 16, 18, 14, 23, 25, 20, 23, 33, 20, 25, 37, 41, 41, 42, 21, 20, 31, 20, 16, 23, 17, 21, 11, 15, 12, 13, 14, 15, 17, 19, 22, 22, 30, 14, 15, 16, 17, 18, 19, 18, 19, 20, 22, 26, 19, 24, 34, 17, 17, 34, 27, 32, 22, 22, 18, 23, 21, 21, 19, 23, 10, 16, 22, 15, 24, 17, 22, 34, 15, 41, 27, 12, 9, 13, 10, 11, 17, 15, 15, 12, 35, 43, 35, 21, 28, 29, 30, 31, 18, 16, 29, 10, 12, 28, 21, 30, 32, 34, 36, 38, 14, 36, 24, 46, 24, 30, 28, 43, 18, 20, 22, 24, 26, 20, 28, 46, 18, 38, 40, 27, 38, 37, 48, 27, 29, 30, 27, 28, 11, 12, 44, 15, 17, 36, 41, 40, 39, 40, 42, 22, 16, 22, 21, 45, 18, 8, 35, 28, 30, 32, 13, 39, 29, 31, 10, 32, 20, 17, 36, 20, 21, 25, 23, 24, 26, 28, 24, 14, 18, 22, 28, 36, 30, 28, 14, 22, 27, 28, 23, 11, 21, 34, 13, 23, 17, 21, 22, 14, 26, 28, 34, 30, 32, 14, 10, 8, 33, 12, 41, 39, 40, 34, 21, 19, 22, 16, 11, 24, 24, 29, 20, 44, 8, 18, 20, 24, 26, 24, 29, 19, 24, 20, 20, 24, 28, 26, 26, 14, 14, 26, 26, 14, 14, 16, 26, 29, 21, 23, 24, 25, 16, 17, 7, 8, 15, 10, 13, 15, 11, 21, 22, 23, 12, 18, 22, 30, 38, 26, 28, 29, 30, 32, 9, 12, 28, 27, 18, 12, 19, 19, 19, 19, 23, 20, 14, 12, 15, 19, 13, 15, 17, 21, 22, 8, 11, 12, 14, 16, 18, 22, 14, 20, 18, 20, 16, 18, 16, 17, 19, 21, 26, 14, 24, 28, 28, 38, 41, 37, 13, 13, 16, 17, 19, 21, 23, 26, 19, 19, 13, 6, 8, 29, 29, 35, 36, 20, 8, 19, 24, 26, 10, 14, 22, 22, 23, 28, 16, 13, 13, 13, 23, 25, 15, 24, 26, 28, 30, 32, 34, 32, 39, 28, 33, 31, 29, 34, 10, 42, 48, 46, 29, 9, 18, 25, 11, 26, 28, 21, 46, 29, 38, 38, 38, 47, 47, 38, 47, 47, 41, 49, 49, 38, 47, 47, 11, 16, 16, 17, 42, 12, 19, 24, 31, 24, 14, 29, 22, 22, 27, 24, 9, 43, 18, 19, 20, 23, 30, 24, 30, 10, 13, 10, 39, 22, 23, 10, 34, 28, 18, 36, 23, 19, 7, 20, 11, 13, 26, 36, 23, 11, 21, 22, 48, 41, 33, 49, 56, 58, 47, 52, 49, 46, 50, 50, 34, 20, 23, 29, 33, 34, 41, 32, 26, 54, 48, 39, 16, 37, 43, 45, 46, 37, 24, 31, 44, 45, 40, 39, 40, 20, 47, 47, 54, 47, 40, 26, 31, 38, 40, 55, 46, 33, 32, 31, 31, 31, 31, 22, 23, 25, 35, 14, 21, 21, 29, 38, 42, 38, 40, 13, 33, 35, 36, 23, 39, 51, 47, 52, 40, 33, 33, 24, 13, 41, 40, 40, 41, 41, 47, 31, 32, 40, 46, 50, 47, 43, 47, 37, 34, 36, 38, 39, 31, 33, 41, 42, 21, 21, 21, 49, 55, 26, 26, 39, 39, 32, 47, 50, 53, 55, 53, 55, 29, 37, 40, 46, 22, 38, 31, 37, 20, 49, 15, 30, 20, 48, 42, 38, 39, 42, 42, 45, 48, 49, 40, 22, 23, 17, 42, 33, 34, 45, 31, 46, 51, 33, 38, 46, 28, 50, 49, 39, 45, 47, 46, 41, 23, 40, 44, 36, 40, 34, 53, 53, 33, 33, 39, 41, 39, 30, 37, 41, 32, 33, 41, 42, 41, 42, 44, 28, 36, 38, 37, 51, 51, 42, 42, 15, 15, 17, 15, 15, 18, 25, 26, 29, 29, 25, 38, 26, 22, 31, 31, 15, 9, 27, 12, 22, 8, 26, 22, 20, 12, 16, 18, 26, 9, 21, 22, 23, 29, 30, 31, 11, 21, 24, 22, 23, 23, 27, 25, 37, 40, 38, 14, 22, 32, 28, 14, 20, 12, 29, 22, 33, 31, 14, 14, 14, 42, 19, 24, 22, 22, 9, 16, 18, 15, 14, 13, 12, 10, 8, 20, 40, 40, 18, 18, 24, 24, 7, 18, 8, 9, 10, 10, 20, 20, 18, 27, 21, 16, 17, 15, 16, 11, 22, 10, 16, 36, 17, 17, 34, 11, 10, 8, 10, 11, 8, 23, 7, 11, 10, 10, 12, 8, 11, 10, 10, 24, 46, 26, 24, 40, 40, 52, 10, 15, 21, 24, 24, 10, 11, 19, 40, 15, 8, 17, 11, 11, 13, 15, 12, 13, 14, 11, 12, 22, 20, 21, 19, 21, 20, 13, 15, 17, 11, 15, 18, 19, 14, 9, 9, 9, 16, 14, 26, 11, 20, 18, 13, 11, 15, 24, 24, 11, 17, 21, 10, 11, 11, 11, 11, 11, 10, 15, 21, 16, 13, 19, 17, 18, 19, 20, 10, 18, 12, 11, 16, 10, 12, 16, 26, 24, 10, 38, 13, 23, 13, 36, 16, 14, 19, 11, 10, 19, 10, 18, 11, 10, 12, 55, 15, 17, 13, 14, 13, 12, 13, 13, 19, 23, 22, 9, 10, 24, 18, 17, 14, 15, 15, 15, 16, 17, 12, 37, 22, 27, 12, 7, 20, 18, 26, 25, 25, 21, 22, 23, 24, 15, 13, 7, 11, 16, 17, 19, 14, 34, 11, 16, 16, 22, 11, 10, 20, 18, 16, 12, 9, 18, 17, 23, 11, 11, 16, 17, 21, 17, 17, 18, 36, 18, 12, 24, 14, 18, 10, 12, 12, 28, 11, 33, 13, 11, 11, 11, 19, 21, 20, 19, 19, 12, 48, 38, 29, 11, 20, 18, 19, 23, 18, 21, 52, 16, 15, 35, 7, 20, 25, 19, 34, 27, 23, 10, 11, 23, 20, 22, 13, 34, 12, 26, 19, 18, 15, 15, 12, 14, 11, 23, 19, 24, 21, 20, 20, 19, 16, 20, 25, 26, 22, 21, 17, 17, 16, 18, 17, 13, 15, 16, 16, 12, 18, 15, 14, 19, 16, 15, 14, 11, 15, 12, 11, 15, 11, 14, 11, 10, 14, 11, 19, 20, 16, 20, 21, 17, 16, 15, 16, 12, 16, 17, 13, 16, 17, 12, 15, 16, 12, 11, 15, 12, 14, 11, 10, 15, 12, 11, 10, 11, 7, 7, 11, 12, 8, 7, 10, 11, 7, 6, 15, 16, 12, 12, 11, 16, 17, 13, 13, 12, 11, 12, 8, 8, 7, 12, 13, 9, 8, 11, 12, 8, 8, 11, 8, 8, 12, 11, 13, 12, 12, 8, 7, 9, 8, 8, 7, 8, 15, 11, 11, 10, 10, 15, 12, 11, 11, 10, 11, 7, 7, 6, 6, 11, 8, 11, 12, 8, 7, 7, 10, 11, 7, 6, 15, 10, 11, 7, 7, 7, 6, 19, 16, 15, 20, 17, 16, 16, 13, 12, 12, 15, 12, 21, 16, 22, 18, 17, 18, 14, 13, 16, 13, 9, 12, 11, 13, 8, 8, 18, 14, 15, 15, 19, 16, 15, 12, 15, 16, 14, 11, 14, 11, 19, 20, 16, 20, 21, 16, 17, 16, 16, 13, 12, 17, 15, 11, 15, 16, 12, 16, 12, 12, 11, 16, 17, 13, 12, 12, 13, 9, 8, 11, 12, 8, 8, 7, 11, 12, 8, 12, 11, 12, 8, 12, 8, 7, 8, 7, 7, 29, 29, 19, 22, 13, 8, 9, 17, 17, 10, 12, 11, 12, 10, 11, 24, 13, 12, 17, 13, 11, 22, 18, 15, 14, 19, 20, 16, 15, 15, 14, 19, 20, 16, 15, 15, 11, 11, 10, 10, 15, 16, 12, 11, 14, 15, 11, 11, 10, 14, 15, 11, 11, 10, 10, 12, 11, 11, 14, 15, 11, 11, 10, 10, 10, 8, 16, 24, 32, 22, 28, 6, 24, 21, 20, 10, 16, 20, 17, 21, 17, 18, 11, 17, 36, 45, 48, 36, 36, 52, 42, 41, 44, 43, 43, 45, 52, 48, 51, 47, 23, 43, 33, 13, 11, 9, 20, 8, 8, 32, 21, 9, 47, 47, 40, 26, 56, 40, 29, 37, 43, 36, 39, 38, 31, 37, 13, 18, 20, 13, 10, 20, 21, 17, 16, 37, 35, 30, 26, 26, 24, 20, 25, 19, 35, 31, 24, 5, 26, 28, 24, 24, 48, 10, 38, 8, 34, 14, 28, 19, 38, 48, 48, 18, 13, 19, 16, 9, 32, 21, 19, 13, 12, 11, 18, 39, 16, 33, 31, 34, 16, 5, 4, 22, 20, 24, 20, 13, 32, 9, 27, 22, 15, 14, 22, 14, 13, 14, 13, 18, 12, 29, 33, 40, 20, 9, 11, 15, 22, 11, 24, 14, 19, 13, 17, 22, 30, 18]\n"
     ]
    }
   ],
   "source": [
    "df = Egc_data\n",
    "# df = copolymer_data\n",
    "additional_set = set()\n",
    "num = [0] * len(element_names)\n",
    "atom_num = []\n",
    "first_column = df.iloc[:, 0]\n",
    "for index, row in first_column.iteritems():\n",
    "    mol = Chem.MolFromSmiles(row)\n",
    "    atom_elements = set([atom.GetSymbol() for atom in mol.GetAtoms()])\n",
    "    atom_num.append(len(mol.GetAtoms()))\n",
    "\n",
    "    for element in atom_elements:\n",
    "        if element in element_names:\n",
    "            index = element_names.index(element)\n",
    "        else:\n",
    "            index = len(element_names) - 1\n",
    "            additional_set.add(element)\n",
    "        num[index] += 1\n",
    "print(additional_set)\n",
    "print(num)\n",
    "print(atom_num)"
   ]
  },
  {
   "cell_type": "code",
   "execution_count": 7,
   "metadata": {},
   "outputs": [
    {
     "data": {
      "text/plain": [
       "21.46153846153846"
      ]
     },
     "execution_count": 7,
     "metadata": {},
     "output_type": "execute_result"
    }
   ],
   "source": [
    "np.mean(atom_num)"
   ]
  },
  {
   "cell_type": "code",
   "execution_count": 11,
   "metadata": {},
   "outputs": [
    {
     "data": {
      "text/plain": [
       "'*C([2H])=C(*)[2H]'"
      ]
     },
     "execution_count": 11,
     "metadata": {},
     "output_type": "execute_result"
    }
   ],
   "source": [
    "smiles_with_hydrogens = \"[*]C([2H])=C([*])[2H]\"\n",
    "mol = Chem.MolFromSmiles(smiles_with_hydrogens)\n",
    "mol_no_hydrogens = Chem.RemoveHs(mol)\n",
    "\n",
    "smiles_without_hydrogens = Chem.MolToSmiles(mol_no_hydrogens)\n",
    "smiles_without_hydrogens"
   ]
  },
  {
   "cell_type": "code",
   "execution_count": 15,
   "metadata": {},
   "outputs": [
    {
     "data": {
      "text/plain": [
       "['ClearProp',\n",
       " 'DescribeQuery',\n",
       " 'GetAtomMapNum',\n",
       " 'GetAtomicNum',\n",
       " 'GetBonds',\n",
       " 'GetBoolProp',\n",
       " 'GetChiralTag',\n",
       " 'GetDegree',\n",
       " 'GetDoubleProp',\n",
       " 'GetExplicitBitVectProp',\n",
       " 'GetExplicitValence',\n",
       " 'GetFormalCharge',\n",
       " 'GetHybridization',\n",
       " 'GetIdx',\n",
       " 'GetImplicitValence',\n",
       " 'GetIntProp',\n",
       " 'GetIsAromatic',\n",
       " 'GetIsotope',\n",
       " 'GetMass',\n",
       " 'GetMonomerInfo',\n",
       " 'GetNeighbors',\n",
       " 'GetNoImplicit',\n",
       " 'GetNumExplicitHs',\n",
       " 'GetNumImplicitHs',\n",
       " 'GetNumRadicalElectrons',\n",
       " 'GetOwningMol',\n",
       " 'GetPDBResidueInfo',\n",
       " 'GetProp',\n",
       " 'GetPropNames',\n",
       " 'GetPropsAsDict',\n",
       " 'GetQueryType',\n",
       " 'GetSmarts',\n",
       " 'GetSymbol',\n",
       " 'GetTotalDegree',\n",
       " 'GetTotalNumHs',\n",
       " 'GetTotalValence',\n",
       " 'GetUnsignedProp',\n",
       " 'HasOwningMol',\n",
       " 'HasProp',\n",
       " 'HasQuery',\n",
       " 'InvertChirality',\n",
       " 'IsInRing',\n",
       " 'IsInRingSize',\n",
       " 'Match',\n",
       " 'NeedsUpdatePropertyCache',\n",
       " 'SetAtomMapNum',\n",
       " 'SetAtomicNum',\n",
       " 'SetBoolProp',\n",
       " 'SetChiralTag',\n",
       " 'SetDoubleProp',\n",
       " 'SetExplicitBitVectProp',\n",
       " 'SetFormalCharge',\n",
       " 'SetHybridization',\n",
       " 'SetIntProp',\n",
       " 'SetIsAromatic',\n",
       " 'SetIsotope',\n",
       " 'SetMonomerInfo',\n",
       " 'SetNoImplicit',\n",
       " 'SetNumExplicitHs',\n",
       " 'SetNumRadicalElectrons',\n",
       " 'SetPDBResidueInfo',\n",
       " 'SetProp',\n",
       " 'SetUnsignedProp',\n",
       " 'UpdatePropertyCache',\n",
       " '__class__',\n",
       " '__copy__',\n",
       " '__delattr__',\n",
       " '__dict__',\n",
       " '__dir__',\n",
       " '__doc__',\n",
       " '__eq__',\n",
       " '__format__',\n",
       " '__ge__',\n",
       " '__getattribute__',\n",
       " '__gt__',\n",
       " '__hash__',\n",
       " '__init__',\n",
       " '__init_subclass__',\n",
       " '__instance_size__',\n",
       " '__le__',\n",
       " '__lt__',\n",
       " '__module__',\n",
       " '__ne__',\n",
       " '__new__',\n",
       " '__reduce__',\n",
       " '__reduce_ex__',\n",
       " '__repr__',\n",
       " '__setattr__',\n",
       " '__sizeof__',\n",
       " '__str__',\n",
       " '__subclasshook__',\n",
       " '__weakref__']"
      ]
     },
     "execution_count": 15,
     "metadata": {},
     "output_type": "execute_result"
    }
   ],
   "source": [
    "mol = Chem.MolFromSmiles(\"[*]C([2H])=C([*])[2H]\")\n",
    "dir(mol.GetAtoms()[0])"
   ]
  },
  {
   "cell_type": "markdown",
   "metadata": {},
   "source": [
    "# 下面的代码是统计数据集里两个目标的平均数和误差"
   ]
  },
  {
   "cell_type": "markdown",
   "metadata": {},
   "source": [
    "# 下面的代码是polygnn里的数据增强"
   ]
  },
  {
   "cell_type": "code",
   "execution_count": 25,
   "metadata": {},
   "outputs": [],
   "source": [
    "def n_to_subtract(atoms_removed_inds, atom_ind):\n",
    "    return int(np.argwhere(np.sort(atoms_removed_inds + [atom_ind]) == atom_ind)[0][0])"
   ]
  },
  {
   "cell_type": "code",
   "execution_count": 26,
   "metadata": {},
   "outputs": [],
   "source": [
    "def bind_frags(\n",
    "    m1,\n",
    "    m1_tails,\n",
    "    m2,\n",
    "    m2_heads,\n",
    "    m1_connectors,\n",
    "    m2_connectors,\n",
    "    bond_types,\n",
    "):\n",
    "    \"\"\"\n",
    "    Bind *mol* objects, m1 and m2, together with a bond of type 'bond_type' at connection points m1_tail and m2_head\n",
    "    \"\"\"\n",
    "\n",
    "    combo_mol = Chem.rdmolops.CombineMols(m1, m2)\n",
    "    em = Chem.EditableMol(combo_mol)\n",
    "    removed_atoms = [np.inf]  # init with 'inf' so that n_to_subtract will be 0 to start\n",
    "    for (m1_connector, m2_connector, m1_tail, m2_head, bond_type) in zip(\n",
    "        m1_connectors, m2_connectors, m1_tails, m2_heads, bond_types\n",
    "    ):\n",
    "        em.AddBond(\n",
    "            m1_connector - n_to_subtract(removed_atoms, m1_connector),\n",
    "            m2_connector\n",
    "            + m1.GetNumAtoms()\n",
    "            - n_to_subtract(removed_atoms, m2_connector + m1.GetNumAtoms()),\n",
    "            bond_type,\n",
    "        )\n",
    "        em.RemoveAtom(m1_tail - n_to_subtract(removed_atoms, m1_tail))\n",
    "        removed_atoms.append(m1_tail)\n",
    "        em.RemoveAtom(\n",
    "            m2_head\n",
    "            + m1.GetNumAtoms()\n",
    "            - n_to_subtract(removed_atoms, m2_head + m1.GetNumAtoms())\n",
    "        )\n",
    "        removed_atoms.append(m2_head + m1.GetNumAtoms())\n",
    "\n",
    "    new_mol = em.GetMol()\n",
    "    try:\n",
    "        Chem.SanitizeMol(new_mol)\n",
    "        return new_mol\n",
    "    except:\n",
    "        print(f\"!!! Binding failed for {Chem.MolToSmiles(combo_mol)} !!!\")\n",
    "        return None"
   ]
  },
  {
   "cell_type": "code",
   "execution_count": 27,
   "metadata": {},
   "outputs": [],
   "source": [
    "def get_star_inds(mol):\n",
    "    if type(mol) == str:\n",
    "        mol = Chem.MolFromSmiles(mol)\n",
    "    inds = tuple(mol.GetSubstructMatches(Chem.MolFromSmarts(\"[#0]~*\")))\n",
    "    inds = tuple(zip(*inds))\n",
    "    if len(inds[0]) != 2:\n",
    "        raise ValueError(\n",
    "            \"Invalid repeat unit. It is likely that at least one star contains more than one bond.\"\n",
    "        )\n",
    "    return list(inds[0]), list(inds[1])"
   ]
  },
  {
   "cell_type": "code",
   "execution_count": 33,
   "metadata": {},
   "outputs": [],
   "source": [
    "class LinearPol(Chem.rdchem.Mol):\n",
    "    \"\"\"\n",
    "    Linear Polymer class.\n",
    "\n",
    "    Attributes:\n",
    "        mol (Chem.rdchem.Mol): The RDKit molecule of the parent polymer.\n",
    "        star_inds (list): List of star atom indices in the parent polymer. Sorted from smallest to largest index.\n",
    "        connector_inds (list): List of connector atom indices in the parent polymer. Sorted from smallest to largest index.\n",
    "        periodic_bond_type (Chem.rdchem.BondType): The bond type of the periodic bond in the parent polymer.\n",
    "    \"\"\"\n",
    "\n",
    "    def __init__(self, mol):\n",
    "        \"\"\"\n",
    "        Initializes the LinearPol object.\n",
    "\n",
    "        Args:\n",
    "            mol (str or Chem.rdchem.Mol): SMILES string or RDKit molecule of the parent polymer.\n",
    "        \"\"\"\n",
    "        if isinstance(mol, str):\n",
    "            self.SMILES = mol\n",
    "            self.mol = Chem.MolFromSmiles(mol)\n",
    "        else:\n",
    "            self.mol = mol\n",
    "\n",
    "        self.star_inds, self.connector_inds = get_star_inds(self.mol)\n",
    "        self.periodic_bond_type = self.get_pbond_type()\n",
    "\n",
    "    def get_pbond_type(self):\n",
    "        \"\"\"\n",
    "        Returns the bond type of the periodic bond.\n",
    "\n",
    "        Returns:\n",
    "            Chem.rdchem.BondType: The bond type of the periodic bond.\n",
    "\n",
    "        Raises:\n",
    "            ValueError: If the bond types of the periodic bond are mismatching.\n",
    "        \"\"\"\n",
    "        bond1_type = self.mol.GetBondBetweenAtoms(self.star_inds[0], self.connector_inds[0]).GetBondType()\n",
    "        bond2_type = self.mol.GetBondBetweenAtoms(self.star_inds[1], self.connector_inds[1]).GetBondType()\n",
    "        if bond1_type != bond2_type:\n",
    "            raise ValueError(\"Invalid repeat unit. Periodic bond types are mismatching.\")\n",
    "        return bond1_type\n",
    "\n",
    "    def multiply(self, n):\n",
    "        \"\"\"\n",
    "        Return a LinearPol which is n times repeated from itself\n",
    "        \"\"\"\n",
    "        add_lp = LinearPol(self.mol)\n",
    "        for _ in range(n - 1):\n",
    "            add_lp = LinearPol(\n",
    "                bind_frags(\n",
    "                    self.mol,\n",
    "                    [self.star_inds[1]],\n",
    "                    add_lp.mol,\n",
    "                    [add_lp.star_inds[0]],\n",
    "                    [self.connector_inds[1]],\n",
    "                    [add_lp.connector_inds[0]],\n",
    "                    [self.periodic_bond_type],\n",
    "                )\n",
    "            )\n",
    "        return add_lp"
   ]
  },
  {
   "cell_type": "code",
   "execution_count": 37,
   "metadata": {},
   "outputs": [
    {
     "data": {
      "text/plain": [
       "'*Oc1ccc(-c2ccc(C(=O)Oc3ccc(-c4ccc(C(=O)Oc5ccc(-c6ccc(C(*)=O)cc6)cc5)cc4)cc3)cc2)cc1'"
      ]
     },
     "execution_count": 37,
     "metadata": {},
     "output_type": "execute_result"
    }
   ],
   "source": [
    "lp = LinearPol(\"[*]Oc1ccc(-c2ccc(C([*])=O)cc2)cc1\")\n",
    "pm = lp.multiply(3).mol\n",
    "Chem.MolToSmiles(pm)"
   ]
  },
  {
   "cell_type": "markdown",
   "metadata": {},
   "source": [
    "# 下面的代码是测试概率边"
   ]
  },
  {
   "cell_type": "code",
   "execution_count": 142,
   "metadata": {},
   "outputs": [],
   "source": [
    "smiles_list = copolymer_data.iloc[0:5,:].SMILES.to_list()"
   ]
  },
  {
   "cell_type": "code",
   "execution_count": 145,
   "metadata": {},
   "outputs": [],
   "source": [
    "graph = molecule2graph.mol2graph(smiles_list)"
   ]
  },
  {
   "cell_type": "code",
   "execution_count": 149,
   "metadata": {},
   "outputs": [
    {
     "data": {
      "text/plain": [
       "[(1, 42), (43, 54), (97, 54), (151, 42), (193, 54)]"
      ]
     },
     "execution_count": 149,
     "metadata": {},
     "output_type": "execute_result"
    }
   ],
   "source": [
    "graph.get_components()[-2]"
   ]
  },
  {
   "cell_type": "markdown",
   "metadata": {},
   "source": [
    "# 以下代码用于测试4w数据集里最多有多少个原子"
   ]
  },
  {
   "cell_type": "code",
   "execution_count": 91,
   "metadata": {},
   "outputs": [],
   "source": [
    "monomer0_path = \"/home/chenlidong/polymer-chemprop-master/data/polymer-chemprop-data-main/homopolymer/Egc_aug.csv\"\n",
    "monomer1_path = \"/home/chenlidong/polymer-chemprop-master/data/polymer-chemprop-data-main/homopolymer/Egc.csv\""
   ]
  },
  {
   "cell_type": "code",
   "execution_count": 92,
   "metadata": {},
   "outputs": [],
   "source": [
    "monomer_0 = pd.read_csv(monomer0_path)\n",
    "monomer_1 = pd.read_csv(monomer1_path)"
   ]
  },
  {
   "cell_type": "code",
   "execution_count": 96,
   "metadata": {},
   "outputs": [],
   "source": [
    "smiles_list = monomer_0.iloc[:,0].to_list()"
   ]
  },
  {
   "cell_type": "code",
   "execution_count": 94,
   "metadata": {},
   "outputs": [],
   "source": [
    "smiles_list = monomer_1.iloc[:,0].to_list()"
   ]
  },
  {
   "cell_type": "code",
   "execution_count": 97,
   "metadata": {},
   "outputs": [
    {
     "name": "stdout",
     "output_type": "stream",
     "text": [
      "OB(O)c1cc2ccc3cc(B(O)O)cc4ccc(c1)c2c34\n",
      "22\n"
     ]
    }
   ],
   "source": [
    "max_num = 0\n",
    "for smiles in smiles_list:\n",
    "    mol = Chem.MolFromSmiles(smiles)\n",
    "    num_atoms = mol.GetNumAtoms()\n",
    "    if num_atoms == 22:\n",
    "        print(smiles)\n",
    "    max_num = max(max_num,num_atoms)\n",
    "print(max_num)"
   ]
  },
  {
   "cell_type": "code",
   "execution_count": null,
   "metadata": {},
   "outputs": [],
   "source": [
    "\"Brc1c2ccccc2c(-c2c3ccccc3c(Br)c3ccccc23)c2ccccc12\"\n",
    "\"OB(O)c1cc2ccc3cc(B(O)O)cc4ccc(c1)c2c34\""
   ]
  },
  {
   "cell_type": "markdown",
   "metadata": {},
   "source": [
    "# 以下代码为统计数据分布"
   ]
  },
  {
   "cell_type": "code",
   "execution_count": 2,
   "metadata": {},
   "outputs": [],
   "source": [
    "from glob import glob\n",
    "import pandas as pd\n",
    "import numpy as np\n",
    "path = \"/home/chenlidong/polymer-chemprop-master/data/polymer-chemprop-data-main/results/vipea/cv9-monomer/polymer\"\n",
    "a = glob(f'{path}/input_test_?.csv')"
   ]
  },
  {
   "cell_type": "code",
   "execution_count": 4,
   "metadata": {},
   "outputs": [],
   "source": [
    "all_path = \"/home/chenlidong/polymer-chemprop-master/data/polymer-chemprop-data-main/results/vipea/cv9-monomer/master/dataset-master_chemprop.csv\"\n",
    "df = pd.read_csv(all_path)"
   ]
  },
  {
   "cell_type": "code",
   "execution_count": 8,
   "metadata": {},
   "outputs": [
    {
     "data": {
      "text/html": [
       "<div>\n",
       "<style scoped>\n",
       "    .dataframe tbody tr th:only-of-type {\n",
       "        vertical-align: middle;\n",
       "    }\n",
       "\n",
       "    .dataframe tbody tr th {\n",
       "        vertical-align: top;\n",
       "    }\n",
       "\n",
       "    .dataframe thead th {\n",
       "        text-align: right;\n",
       "    }\n",
       "</style>\n",
       "<table border=\"1\" class=\"dataframe\">\n",
       "  <thead>\n",
       "    <tr style=\"text-align: right;\">\n",
       "      <th></th>\n",
       "      <th>master_chemprop_input</th>\n",
       "      <th>EA vs SHE (eV)</th>\n",
       "      <th>IP vs SHE (eV)</th>\n",
       "      <th>type</th>\n",
       "      <th>copolymer_type</th>\n",
       "    </tr>\n",
       "  </thead>\n",
       "  <tbody>\n",
       "    <tr>\n",
       "      <th>0</th>\n",
       "      <td>OB(O)c1cc(F)c(B(O)O)cc1F.Oc1cc(O)c(Br)c(O)c1Br</td>\n",
       "      <td>-3.406210</td>\n",
       "      <td>1.808017</td>\n",
       "      <td>0</td>\n",
       "      <td>0</td>\n",
       "    </tr>\n",
       "    <tr>\n",
       "      <th>1</th>\n",
       "      <td>OB(O)c1cc(F)c(B(O)O)cc1F.Oc1cc(O)c(Br)c(O)c1Br</td>\n",
       "      <td>-2.991909</td>\n",
       "      <td>1.761062</td>\n",
       "      <td>0</td>\n",
       "      <td>1</td>\n",
       "    </tr>\n",
       "    <tr>\n",
       "      <th>2</th>\n",
       "      <td>OB(O)c1cc(F)c(B(O)O)cc1F.Oc1cc(O)c(Br)c(O)c1Br</td>\n",
       "      <td>-3.196570</td>\n",
       "      <td>1.817267</td>\n",
       "      <td>0</td>\n",
       "      <td>2</td>\n",
       "    </tr>\n",
       "    <tr>\n",
       "      <th>3</th>\n",
       "      <td>OB(O)c1cc(F)c(B(O)O)cc1F.N#Cc1cc(Br)c(F)cc1Br</td>\n",
       "      <td>-2.472685</td>\n",
       "      <td>2.635116</td>\n",
       "      <td>0</td>\n",
       "      <td>0</td>\n",
       "    </tr>\n",
       "    <tr>\n",
       "      <th>4</th>\n",
       "      <td>OB(O)c1cc(F)c(B(O)O)cc1F.N#Cc1cc(Br)c(F)cc1Br</td>\n",
       "      <td>-2.469582</td>\n",
       "      <td>2.608899</td>\n",
       "      <td>0</td>\n",
       "      <td>1</td>\n",
       "    </tr>\n",
       "  </tbody>\n",
       "</table>\n",
       "</div>"
      ],
      "text/plain": [
       "                            master_chemprop_input  EA vs SHE (eV)  \\\n",
       "0  OB(O)c1cc(F)c(B(O)O)cc1F.Oc1cc(O)c(Br)c(O)c1Br       -3.406210   \n",
       "1  OB(O)c1cc(F)c(B(O)O)cc1F.Oc1cc(O)c(Br)c(O)c1Br       -2.991909   \n",
       "2  OB(O)c1cc(F)c(B(O)O)cc1F.Oc1cc(O)c(Br)c(O)c1Br       -3.196570   \n",
       "3   OB(O)c1cc(F)c(B(O)O)cc1F.N#Cc1cc(Br)c(F)cc1Br       -2.472685   \n",
       "4   OB(O)c1cc(F)c(B(O)O)cc1F.N#Cc1cc(Br)c(F)cc1Br       -2.469582   \n",
       "\n",
       "   IP vs SHE (eV)  type  copolymer_type  \n",
       "0        1.808017     0               0  \n",
       "1        1.761062     0               1  \n",
       "2        1.817267     0               2  \n",
       "3        2.635116     0               0  \n",
       "4        2.608899     0               1  "
      ]
     },
     "execution_count": 8,
     "metadata": {},
     "output_type": "execute_result"
    }
   ],
   "source": [
    "df.head()"
   ]
  },
  {
   "cell_type": "code",
   "execution_count": 6,
   "metadata": {},
   "outputs": [
    {
     "data": {
      "text/plain": [
       "-2.541360351065899"
      ]
     },
     "execution_count": 6,
     "metadata": {},
     "output_type": "execute_result"
    }
   ],
   "source": [
    "np.mean(df.iloc[:,1])"
   ]
  },
  {
   "cell_type": "code",
   "execution_count": 7,
   "metadata": {},
   "outputs": [
    {
     "data": {
      "text/plain": [
       "1.4534074661951963"
      ]
     },
     "execution_count": 7,
     "metadata": {},
     "output_type": "execute_result"
    }
   ],
   "source": [
    "np.mean(df.iloc[:,2])"
   ]
  },
  {
   "cell_type": "code",
   "execution_count": 62,
   "metadata": {},
   "outputs": [
    {
     "data": {
      "image/png": "[encoded data removed]",
      "text/plain": [
       "<Figure size 800x600 with 2 Axes>"
      ]
     },
     "metadata": {},
     "output_type": "display_data"
    }
   ],
   "source": [
    "import matplotlib.pyplot as plt\n",
    "import pandas as pd\n",
    "import numpy as np\n",
    "\n",
    "plt.rcParams[\"font.sans-serif\"] = [\"Microsoft YaHei\"]\n",
    "plt.rcParams['axes.unicode_minus'] = False  # 解决负号显示问题\n",
    "\n",
    "# 创建一个画布，分成两个子图\n",
    "fig, (ax1, ax2) = plt.subplots(2, 1, figsize=(8, 6))\n",
    "\n",
    "# 创建一个颜色列表，用于区分不同的DataFrame\n",
    "colors = ['b', 'g', 'r', 'c', 'm', 'y', 'k', 'orange', 'purple']\n",
    "\n",
    "# 设置柱状图的间隔和宽度\n",
    "interval = 7  # 间隔\n",
    "width = 0.3  # 柱的宽度\n",
    "\n",
    "# 绘制第一个图，比对 \"列1\" 的数据\n",
    "for i, df in enumerate(a):\n",
    "    data = pd.read_csv(df)['EA vs SHE (eV)'] * 10\n",
    "    bins = range(-41, 6, interval)\n",
    "    hist, edges = np.histogram(data, bins=bins)\n",
    "    x = [edge + width * i for edge in edges[:-1]]\n",
    "    ax1.bar(x, hist, width=width, label=f'DF{i}', color=colors[i])\n",
    "\n",
    "ax1.set_xlabel('区间')\n",
    "ax1.set_ylabel('值')\n",
    "ax1.set_title('EA比对图')\n",
    "ax1.legend()\n",
    "\n",
    "# 绘制第二个图，比对 \"列2\" 的数据\n",
    "for i, df in enumerate(a):\n",
    "    data = pd.read_csv(df)['IP vs SHE (eV)'] * 10\n",
    "    bins = range(0, 39, interval)\n",
    "    hist, edges = np.histogram(data, bins=bins)\n",
    "    x = [edge + width * i for edge in edges[:-1]]\n",
    "    ax2.bar(x, hist, width=width, label=f'DF{i}', color=colors[i])\n",
    "\n",
    "ax2.set_xlabel('区间')\n",
    "ax2.set_ylabel('值')\n",
    "ax2.set_title('IP对比图')\n",
    "ax2.legend()\n",
    "\n",
    "# 调整子图之间的间距\n",
    "plt.tight_layout()\n",
    "\n",
    "# 显示图形\n",
    "plt.show()\n"
   ]
  },
  {
   "cell_type": "markdown",
   "metadata": {},
   "source": [
    "# 以下代码为给将cv9里面的数据进行正确的修正"
   ]
  },
  {
   "cell_type": "code",
   "execution_count": 81,
   "metadata": {},
   "outputs": [],
   "source": [
    "df = pd.read_csv(\"/home/chenlidong/polymer-chemprop-master/data/polymer-chemprop-data-main/results/vipea/cv9-monomer/master/dataset-master_chemprop_origin.csv\")"
   ]
  },
  {
   "cell_type": "code",
   "execution_count": 82,
   "metadata": {},
   "outputs": [
    {
     "data": {
      "text/html": [
       "<div>\n",
       "<style scoped>\n",
       "    .dataframe tbody tr th:only-of-type {\n",
       "        vertical-align: middle;\n",
       "    }\n",
       "\n",
       "    .dataframe tbody tr th {\n",
       "        vertical-align: top;\n",
       "    }\n",
       "\n",
       "    .dataframe thead th {\n",
       "        text-align: right;\n",
       "    }\n",
       "</style>\n",
       "<table border=\"1\" class=\"dataframe\">\n",
       "  <thead>\n",
       "    <tr style=\"text-align: right;\">\n",
       "      <th></th>\n",
       "      <th>master_chemprop_input</th>\n",
       "      <th>EA vs SHE (eV)</th>\n",
       "      <th>IP vs SHE (eV)</th>\n",
       "      <th>type</th>\n",
       "    </tr>\n",
       "  </thead>\n",
       "  <tbody>\n",
       "    <tr>\n",
       "      <th>0</th>\n",
       "      <td>Fc1ccc(F)cc1.Oc1cc(O)cc(O)c1</td>\n",
       "      <td>-3.406210</td>\n",
       "      <td>1.808017</td>\n",
       "      <td>0</td>\n",
       "    </tr>\n",
       "    <tr>\n",
       "      <th>1</th>\n",
       "      <td>Fc1ccc(F)cc1.Oc1cc(O)cc(O)c1</td>\n",
       "      <td>-2.991909</td>\n",
       "      <td>1.761062</td>\n",
       "      <td>0</td>\n",
       "    </tr>\n",
       "    <tr>\n",
       "      <th>2</th>\n",
       "      <td>Fc1ccc(F)cc1.Oc1cc(O)cc(O)c1</td>\n",
       "      <td>-3.196570</td>\n",
       "      <td>1.817267</td>\n",
       "      <td>0</td>\n",
       "    </tr>\n",
       "    <tr>\n",
       "      <th>3</th>\n",
       "      <td>Fc1ccc(F)cc1.N#Cc1ccc(F)cc1</td>\n",
       "      <td>-2.472685</td>\n",
       "      <td>2.635116</td>\n",
       "      <td>0</td>\n",
       "    </tr>\n",
       "    <tr>\n",
       "      <th>4</th>\n",
       "      <td>Fc1ccc(F)cc1.N#Cc1ccc(F)cc1</td>\n",
       "      <td>-2.469582</td>\n",
       "      <td>2.608899</td>\n",
       "      <td>0</td>\n",
       "    </tr>\n",
       "  </tbody>\n",
       "</table>\n",
       "</div>"
      ],
      "text/plain": [
       "          master_chemprop_input  EA vs SHE (eV)  IP vs SHE (eV)  type\n",
       "0  Fc1ccc(F)cc1.Oc1cc(O)cc(O)c1       -3.406210        1.808017     0\n",
       "1  Fc1ccc(F)cc1.Oc1cc(O)cc(O)c1       -2.991909        1.761062     0\n",
       "2  Fc1ccc(F)cc1.Oc1cc(O)cc(O)c1       -3.196570        1.817267     0\n",
       "3   Fc1ccc(F)cc1.N#Cc1ccc(F)cc1       -2.472685        2.635116     0\n",
       "4   Fc1ccc(F)cc1.N#Cc1ccc(F)cc1       -2.469582        2.608899     0"
      ]
     },
     "execution_count": 82,
     "metadata": {},
     "output_type": "execute_result"
    }
   ],
   "source": [
    "df.head()"
   ]
  },
  {
   "cell_type": "markdown",
   "metadata": {},
   "source": [
    "将单体表示进行修正"
   ]
  },
  {
   "cell_type": "code",
   "execution_count": 83,
   "metadata": {},
   "outputs": [],
   "source": [
    "a = pd.read_csv(\"/home/chenlidong/polymer-chemprop-master/data/polymer-chemprop-data-main/datasets/vipea/acids.csv\")\n",
    "b = pd.read_csv(\"/home/chenlidong/polymer-chemprop-master/data/polymer-chemprop-data-main/datasets/vipea/bromides.csv\")"
   ]
  },
  {
   "cell_type": "code",
   "execution_count": 84,
   "metadata": {},
   "outputs": [
    {
     "data": {
      "text/plain": [
       "'OB(O)c1cc2ccc3cc(B(O)O)cc4ccc(c1)c2c34'"
      ]
     },
     "execution_count": 84,
     "metadata": {},
     "output_type": "execute_result"
    }
   ],
   "source": [
    "str(a.iloc[1,0])"
   ]
  },
  {
   "cell_type": "code",
   "execution_count": 85,
   "metadata": {},
   "outputs": [],
   "source": [
    "idx1 = 9*682*3\n",
    "idx2 = 9*682*5\n",
    "for i in range(len(df)):\n",
    "    if i<idx1:\n",
    "        df.iloc[i,0] = f\"{str(a.iloc[i//(682*3),0])}.{str(b.iloc[i%(682*3)//3,0])}\"\n",
    "    elif i<idx2:\n",
    "        df.iloc[i,0] = f\"{str(a.iloc[(i-idx1)//(682*2),0])}.{str(b.iloc[(i-idx1)%(682*2)//2,0])}\"\n",
    "    else:\n",
    "        df.iloc[i,0] = f\"{str(a.iloc[(i-idx2)//(682*2),0])}.{str(b.iloc[(i-idx2)%(682*2)//2,0])}\""
   ]
  },
  {
   "cell_type": "code",
   "execution_count": 86,
   "metadata": {},
   "outputs": [
    {
     "data": {
      "text/html": [
       "<div>\n",
       "<style scoped>\n",
       "    .dataframe tbody tr th:only-of-type {\n",
       "        vertical-align: middle;\n",
       "    }\n",
       "\n",
       "    .dataframe tbody tr th {\n",
       "        vertical-align: top;\n",
       "    }\n",
       "\n",
       "    .dataframe thead th {\n",
       "        text-align: right;\n",
       "    }\n",
       "</style>\n",
       "<table border=\"1\" class=\"dataframe\">\n",
       "  <thead>\n",
       "    <tr style=\"text-align: right;\">\n",
       "      <th></th>\n",
       "      <th>master_chemprop_input</th>\n",
       "      <th>EA vs SHE (eV)</th>\n",
       "      <th>IP vs SHE (eV)</th>\n",
       "      <th>type</th>\n",
       "    </tr>\n",
       "  </thead>\n",
       "  <tbody>\n",
       "    <tr>\n",
       "      <th>42961</th>\n",
       "      <td>O=S1(=O)c2cc(B(O)O)ccc2-c2ccc(B(O)O)cc21.O=[N+...</td>\n",
       "      <td>-1.366831</td>\n",
       "      <td>2.531914</td>\n",
       "      <td>2</td>\n",
       "    </tr>\n",
       "    <tr>\n",
       "      <th>42962</th>\n",
       "      <td>O=S1(=O)c2cc(B(O)O)ccc2-c2ccc(B(O)O)cc21.CC(Oc...</td>\n",
       "      <td>-2.784383</td>\n",
       "      <td>1.455677</td>\n",
       "      <td>2</td>\n",
       "    </tr>\n",
       "    <tr>\n",
       "      <th>42963</th>\n",
       "      <td>O=S1(=O)c2cc(B(O)O)ccc2-c2ccc(B(O)O)cc21.CC(Oc...</td>\n",
       "      <td>-2.861863</td>\n",
       "      <td>1.523136</td>\n",
       "      <td>2</td>\n",
       "    </tr>\n",
       "    <tr>\n",
       "      <th>42964</th>\n",
       "      <td>O=S1(=O)c2cc(B(O)O)ccc2-c2ccc(B(O)O)cc21.Nc1cc...</td>\n",
       "      <td>-2.891160</td>\n",
       "      <td>0.940259</td>\n",
       "      <td>2</td>\n",
       "    </tr>\n",
       "    <tr>\n",
       "      <th>42965</th>\n",
       "      <td>O=S1(=O)c2cc(B(O)O)ccc2-c2ccc(B(O)O)cc21.Nc1cc...</td>\n",
       "      <td>-3.009905</td>\n",
       "      <td>0.981924</td>\n",
       "      <td>2</td>\n",
       "    </tr>\n",
       "  </tbody>\n",
       "</table>\n",
       "</div>"
      ],
      "text/plain": [
       "                                   master_chemprop_input  EA vs SHE (eV)  \\\n",
       "42961  O=S1(=O)c2cc(B(O)O)ccc2-c2ccc(B(O)O)cc21.O=[N+...       -1.366831   \n",
       "42962  O=S1(=O)c2cc(B(O)O)ccc2-c2ccc(B(O)O)cc21.CC(Oc...       -2.784383   \n",
       "42963  O=S1(=O)c2cc(B(O)O)ccc2-c2ccc(B(O)O)cc21.CC(Oc...       -2.861863   \n",
       "42964  O=S1(=O)c2cc(B(O)O)ccc2-c2ccc(B(O)O)cc21.Nc1cc...       -2.891160   \n",
       "42965  O=S1(=O)c2cc(B(O)O)ccc2-c2ccc(B(O)O)cc21.Nc1cc...       -3.009905   \n",
       "\n",
       "       IP vs SHE (eV)  type  \n",
       "42961        2.531914     2  \n",
       "42962        1.455677     2  \n",
       "42963        1.523136     2  \n",
       "42964        0.940259     2  \n",
       "42965        0.981924     2  "
      ]
     },
     "execution_count": 86,
     "metadata": {},
     "output_type": "execute_result"
    }
   ],
   "source": [
    "df.tail()"
   ]
  },
  {
   "cell_type": "code",
   "execution_count": 87,
   "metadata": {},
   "outputs": [
    {
     "data": {
      "text/plain": [
       "OB(O)c1cc(F)c(B(O)O)cc1F.Oc1cc(O)c(Br)c(O)c1Br                     7\n",
       "OB(O)c1ccc(B(O)O)c2nsnc12.O=C(O)c1sc(Br)cc1Br                      7\n",
       "CC1(C)c2cc(B(O)O)ccc2-c2ccc(B(O)O)cc21.Brc1nc(Br)c2ccccc2n1        7\n",
       "CC1(C)c2cc(B(O)O)ccc2-c2ccc(B(O)O)cc21.COC(=O)c1nc(N)c(Br)cc1Br    7\n",
       "CC1(C)c2cc(B(O)O)ccc2-c2ccc(B(O)O)cc21.O=C(Cl)COc1ccc(Br)cc1Br     7\n",
       "                                                                  ..\n",
       "OB(O)c1ccc(-c2ccc(B(O)O)s2)s1.CC(Oc1ccc(Br)cc1Br)C(=O)NN           7\n",
       "OB(O)c1ccc(-c2ccc(B(O)O)s2)s1.O=[N+]([O-])c1ncc(Br)cc1Br           7\n",
       "OB(O)c1ccc(-c2ccc(B(O)O)s2)s1.O=C(O)c1sc(Br)cc1Br                  7\n",
       "OB(O)c1ccc(-c2ccc(B(O)O)s2)s1.O=[N+]([O-])c1cc(Br)c(F)c(Br)c1O     7\n",
       "O=S1(=O)c2cc(B(O)O)ccc2-c2ccc(B(O)O)cc21.Nc1cc(Br)ccc1Br           7\n",
       "Name: master_chemprop_input, Length: 6138, dtype: int64"
      ]
     },
     "execution_count": 87,
     "metadata": {},
     "output_type": "execute_result"
    }
   ],
   "source": [
    "value_counts = df['master_chemprop_input'].value_counts()\n",
    "value_counts"
   ]
  },
  {
   "cell_type": "markdown",
   "metadata": {},
   "source": [
    "下面加上ctype"
   ]
  },
  {
   "cell_type": "code",
   "execution_count": 88,
   "metadata": {},
   "outputs": [],
   "source": [
    "# 初始化一个字典，用于跟踪每个值出现的次数\n",
    "value_counts = {}\n",
    "copolymer_type = []\n",
    "\n",
    "# 遍历master_chemprop_input列\n",
    "for value in df['master_chemprop_input']:\n",
    "    if value in value_counts:\n",
    "        count = value_counts[value]\n",
    "        if count > 2:\n",
    "            count = 2 - count%2\n",
    "        value_counts[value] += 1\n",
    "    else:\n",
    "        count = 0\n",
    "        value_counts[value] = 1\n",
    "    \n",
    "    copolymer_type.append(count)\n",
    "\n",
    "# 将copolymer_type列添加到DataFrame\n",
    "df['copolymer_type'] = copolymer_type\n"
   ]
  },
  {
   "cell_type": "code",
   "execution_count": 89,
   "metadata": {},
   "outputs": [
    {
     "data": {
      "text/html": [
       "<div>\n",
       "<style scoped>\n",
       "    .dataframe tbody tr th:only-of-type {\n",
       "        vertical-align: middle;\n",
       "    }\n",
       "\n",
       "    .dataframe tbody tr th {\n",
       "        vertical-align: top;\n",
       "    }\n",
       "\n",
       "    .dataframe thead th {\n",
       "        text-align: right;\n",
       "    }\n",
       "</style>\n",
       "<table border=\"1\" class=\"dataframe\">\n",
       "  <thead>\n",
       "    <tr style=\"text-align: right;\">\n",
       "      <th></th>\n",
       "      <th>master_chemprop_input</th>\n",
       "      <th>EA vs SHE (eV)</th>\n",
       "      <th>IP vs SHE (eV)</th>\n",
       "      <th>type</th>\n",
       "      <th>copolymer_type</th>\n",
       "    </tr>\n",
       "  </thead>\n",
       "  <tbody>\n",
       "    <tr>\n",
       "      <th>42766</th>\n",
       "      <td>O=S1(=O)c2cc(B(O)O)ccc2-c2ccc(B(O)O)cc21.O=C(O...</td>\n",
       "      <td>-2.688360</td>\n",
       "      <td>1.945291</td>\n",
       "      <td>2</td>\n",
       "      <td>1</td>\n",
       "    </tr>\n",
       "    <tr>\n",
       "      <th>42767</th>\n",
       "      <td>O=S1(=O)c2cc(B(O)O)ccc2-c2ccc(B(O)O)cc21.O=C(O...</td>\n",
       "      <td>-2.720380</td>\n",
       "      <td>1.894659</td>\n",
       "      <td>2</td>\n",
       "      <td>2</td>\n",
       "    </tr>\n",
       "    <tr>\n",
       "      <th>42768</th>\n",
       "      <td>O=S1(=O)c2cc(B(O)O)ccc2-c2ccc(B(O)O)cc21.Fc1c(...</td>\n",
       "      <td>-1.173848</td>\n",
       "      <td>2.140774</td>\n",
       "      <td>2</td>\n",
       "      <td>1</td>\n",
       "    </tr>\n",
       "    <tr>\n",
       "      <th>42769</th>\n",
       "      <td>O=S1(=O)c2cc(B(O)O)ccc2-c2ccc(B(O)O)cc21.Fc1c(...</td>\n",
       "      <td>-1.198330</td>\n",
       "      <td>2.123352</td>\n",
       "      <td>2</td>\n",
       "      <td>2</td>\n",
       "    </tr>\n",
       "    <tr>\n",
       "      <th>42770</th>\n",
       "      <td>O=S1(=O)c2cc(B(O)O)ccc2-c2ccc(B(O)O)cc21.O=C(O...</td>\n",
       "      <td>-2.436779</td>\n",
       "      <td>2.094998</td>\n",
       "      <td>2</td>\n",
       "      <td>1</td>\n",
       "    </tr>\n",
       "    <tr>\n",
       "      <th>...</th>\n",
       "      <td>...</td>\n",
       "      <td>...</td>\n",
       "      <td>...</td>\n",
       "      <td>...</td>\n",
       "      <td>...</td>\n",
       "    </tr>\n",
       "    <tr>\n",
       "      <th>42961</th>\n",
       "      <td>O=S1(=O)c2cc(B(O)O)ccc2-c2ccc(B(O)O)cc21.O=[N+...</td>\n",
       "      <td>-1.366831</td>\n",
       "      <td>2.531914</td>\n",
       "      <td>2</td>\n",
       "      <td>2</td>\n",
       "    </tr>\n",
       "    <tr>\n",
       "      <th>42962</th>\n",
       "      <td>O=S1(=O)c2cc(B(O)O)ccc2-c2ccc(B(O)O)cc21.CC(Oc...</td>\n",
       "      <td>-2.784383</td>\n",
       "      <td>1.455677</td>\n",
       "      <td>2</td>\n",
       "      <td>1</td>\n",
       "    </tr>\n",
       "    <tr>\n",
       "      <th>42963</th>\n",
       "      <td>O=S1(=O)c2cc(B(O)O)ccc2-c2ccc(B(O)O)cc21.CC(Oc...</td>\n",
       "      <td>-2.861863</td>\n",
       "      <td>1.523136</td>\n",
       "      <td>2</td>\n",
       "      <td>2</td>\n",
       "    </tr>\n",
       "    <tr>\n",
       "      <th>42964</th>\n",
       "      <td>O=S1(=O)c2cc(B(O)O)ccc2-c2ccc(B(O)O)cc21.Nc1cc...</td>\n",
       "      <td>-2.891160</td>\n",
       "      <td>0.940259</td>\n",
       "      <td>2</td>\n",
       "      <td>1</td>\n",
       "    </tr>\n",
       "    <tr>\n",
       "      <th>42965</th>\n",
       "      <td>O=S1(=O)c2cc(B(O)O)ccc2-c2ccc(B(O)O)cc21.Nc1cc...</td>\n",
       "      <td>-3.009905</td>\n",
       "      <td>0.981924</td>\n",
       "      <td>2</td>\n",
       "      <td>2</td>\n",
       "    </tr>\n",
       "  </tbody>\n",
       "</table>\n",
       "<p>200 rows × 5 columns</p>\n",
       "</div>"
      ],
      "text/plain": [
       "                                   master_chemprop_input  EA vs SHE (eV)  \\\n",
       "42766  O=S1(=O)c2cc(B(O)O)ccc2-c2ccc(B(O)O)cc21.O=C(O...       -2.688360   \n",
       "42767  O=S1(=O)c2cc(B(O)O)ccc2-c2ccc(B(O)O)cc21.O=C(O...       -2.720380   \n",
       "42768  O=S1(=O)c2cc(B(O)O)ccc2-c2ccc(B(O)O)cc21.Fc1c(...       -1.173848   \n",
       "42769  O=S1(=O)c2cc(B(O)O)ccc2-c2ccc(B(O)O)cc21.Fc1c(...       -1.198330   \n",
       "42770  O=S1(=O)c2cc(B(O)O)ccc2-c2ccc(B(O)O)cc21.O=C(O...       -2.436779   \n",
       "...                                                  ...             ...   \n",
       "42961  O=S1(=O)c2cc(B(O)O)ccc2-c2ccc(B(O)O)cc21.O=[N+...       -1.366831   \n",
       "42962  O=S1(=O)c2cc(B(O)O)ccc2-c2ccc(B(O)O)cc21.CC(Oc...       -2.784383   \n",
       "42963  O=S1(=O)c2cc(B(O)O)ccc2-c2ccc(B(O)O)cc21.CC(Oc...       -2.861863   \n",
       "42964  O=S1(=O)c2cc(B(O)O)ccc2-c2ccc(B(O)O)cc21.Nc1cc...       -2.891160   \n",
       "42965  O=S1(=O)c2cc(B(O)O)ccc2-c2ccc(B(O)O)cc21.Nc1cc...       -3.009905   \n",
       "\n",
       "       IP vs SHE (eV)  type  copolymer_type  \n",
       "42766        1.945291     2               1  \n",
       "42767        1.894659     2               2  \n",
       "42768        2.140774     2               1  \n",
       "42769        2.123352     2               2  \n",
       "42770        2.094998     2               1  \n",
       "...               ...   ...             ...  \n",
       "42961        2.531914     2               2  \n",
       "42962        1.455677     2               1  \n",
       "42963        1.523136     2               2  \n",
       "42964        0.940259     2               1  \n",
       "42965        0.981924     2               2  \n",
       "\n",
       "[200 rows x 5 columns]"
      ]
     },
     "execution_count": 89,
     "metadata": {},
     "output_type": "execute_result"
    }
   ],
   "source": [
    "df.iloc[-200:]"
   ]
  },
  {
   "cell_type": "code",
   "execution_count": 90,
   "metadata": {},
   "outputs": [],
   "source": [
    "df.to_csv('/home/chenlidong/polymer-chemprop-master/data/polymer-chemprop-data-main/results/vipea/cv9-monomer/master/dataset-master_chemprop.csv', index=False)"
   ]
  },
  {
   "cell_type": "code",
   "execution_count": null,
   "metadata": {},
   "outputs": [],
   "source": []
  }
 ],
 "metadata": {
  "kernelspec": {
   "display_name": "pyG",
   "language": "python",
   "name": "py_38_torch_113_pyg"
  },
  "orig_nbformat": 4,
  "vscode": {
   "interpreter": {
    "hash": "0a330dc2ace33e4380118d1f67cb64e7e74e50a0f1d111ab0831bb66ce0df072"
   }
  }
 },
 "nbformat": 4,
 "nbformat_minor": 2
}
