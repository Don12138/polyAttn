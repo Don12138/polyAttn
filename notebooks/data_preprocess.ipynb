{
 "cells": [
  {
   "cell_type": "code",
   "execution_count": 128,
   "metadata": {},
   "outputs": [],
   "source": [
    "import sys\n",
    "sys.path.append(\"/home/chenlidong/polyAttn\")\n",
    "import numpy as np\n",
    "import pandas as pd\n",
    "from rdkit import Chem\n",
    "from utils import molecule2graph"
   ]
  },
  {
   "cell_type": "code",
   "execution_count": 3,
   "metadata": {},
   "outputs": [],
   "source": [
    "element_names = ['*', 'C', 'N', 'O', 'S', 'F', 'Si', 'P', 'Cl', 'Br','I']"
   ]
  },
  {
   "cell_type": "code",
   "execution_count": 130,
   "metadata": {},
   "outputs": [],
   "source": [
    "homopolymer_data = pd.read_csv(\"/home/chenlidong/polyAttn/data/homopolymer/homopolymer.csv\")\n",
    "copolymer_data = pd.read_csv(\"/home/chenlidong/polyAttn/data/copolymer/copolymer.csv\")"
   ]
  },
  {
   "cell_type": "code",
   "execution_count": 5,
   "metadata": {},
   "outputs": [],
   "source": [
    "def get_info_from_copolymer_format(copolymer_str):\n",
    "    info = copolymer_str.split(\"|\")\n",
    "    return info"
   ]
  },
  {
   "cell_type": "code",
   "execution_count": 16,
   "metadata": {},
   "outputs": [
    {
     "data": {
      "text/html": [
       "<div>\n",
       "<style scoped>\n",
       "    .dataframe tbody tr th:only-of-type {\n",
       "        vertical-align: middle;\n",
       "    }\n",
       "\n",
       "    .dataframe tbody tr th {\n",
       "        vertical-align: top;\n",
       "    }\n",
       "\n",
       "    .dataframe thead th {\n",
       "        text-align: right;\n",
       "    }\n",
       "</style>\n",
       "<table border=\"1\" class=\"dataframe\">\n",
       "  <thead>\n",
       "    <tr style=\"text-align: right;\">\n",
       "      <th></th>\n",
       "      <th>SMILES</th>\n",
       "      <th>Ea</th>\n",
       "      <th>Ei</th>\n",
       "      <th>Tg</th>\n",
       "    </tr>\n",
       "  </thead>\n",
       "  <tbody>\n",
       "    <tr>\n",
       "      <th>0</th>\n",
       "      <td>[*]CC([*])C</td>\n",
       "      <td>0.4343</td>\n",
       "      <td>6.1850</td>\n",
       "      <td>NaN</td>\n",
       "    </tr>\n",
       "    <tr>\n",
       "      <th>1</th>\n",
       "      <td>[*]CC([*])F</td>\n",
       "      <td>0.8740</td>\n",
       "      <td>7.6332</td>\n",
       "      <td>NaN</td>\n",
       "    </tr>\n",
       "    <tr>\n",
       "      <th>2</th>\n",
       "      <td>[*]CC([*])(F)F</td>\n",
       "      <td>1.1415</td>\n",
       "      <td>8.1531</td>\n",
       "      <td>NaN</td>\n",
       "    </tr>\n",
       "    <tr>\n",
       "      <th>3</th>\n",
       "      <td>[*]C(F)C([*])(F)F</td>\n",
       "      <td>1.5240</td>\n",
       "      <td>8.5986</td>\n",
       "      <td>NaN</td>\n",
       "    </tr>\n",
       "    <tr>\n",
       "      <th>4</th>\n",
       "      <td>[*]CCC(F)(F)C([*])(F)F</td>\n",
       "      <td>0.4489</td>\n",
       "      <td>9.0178</td>\n",
       "      <td>NaN</td>\n",
       "    </tr>\n",
       "    <tr>\n",
       "      <th>...</th>\n",
       "      <td>...</td>\n",
       "      <td>...</td>\n",
       "      <td>...</td>\n",
       "      <td>...</td>\n",
       "    </tr>\n",
       "    <tr>\n",
       "      <th>365</th>\n",
       "      <td>[*]CCC(=O)OC(=O)CC(C=C1)=CC=C1C(C=C2)=CC=C2[*]</td>\n",
       "      <td>1.5387</td>\n",
       "      <td>6.1951</td>\n",
       "      <td>NaN</td>\n",
       "    </tr>\n",
       "    <tr>\n",
       "      <th>366</th>\n",
       "      <td>[*]C(=O)NONC(=O)NC(S1)=CC=C1N[*]</td>\n",
       "      <td>1.3385</td>\n",
       "      <td>5.6948</td>\n",
       "      <td>NaN</td>\n",
       "    </tr>\n",
       "    <tr>\n",
       "      <th>367</th>\n",
       "      <td>[*]C(=S)C(=O)CCNC(C=C1)=CC=C1C(=S)C(C=C2)=CC=C...</td>\n",
       "      <td>3.8901</td>\n",
       "      <td>5.8838</td>\n",
       "      <td>NaN</td>\n",
       "    </tr>\n",
       "    <tr>\n",
       "      <th>368</th>\n",
       "      <td>[*]C(F)(F)C(F)(F)C(S1)=CC=C1C(S2)=CC=C2[*]</td>\n",
       "      <td>2.7568</td>\n",
       "      <td>5.8176</td>\n",
       "      <td>NaN</td>\n",
       "    </tr>\n",
       "    <tr>\n",
       "      <th>369</th>\n",
       "      <td>[*]C(F)(F)C(F)(F)C(=O)O[*]</td>\n",
       "      <td>2.9195</td>\n",
       "      <td>9.0985</td>\n",
       "      <td>NaN</td>\n",
       "    </tr>\n",
       "  </tbody>\n",
       "</table>\n",
       "<p>370 rows × 4 columns</p>\n",
       "</div>"
      ],
      "text/plain": [
       "                                                SMILES      Ea      Ei  Tg\n",
       "0                                          [*]CC([*])C  0.4343  6.1850 NaN\n",
       "1                                          [*]CC([*])F  0.8740  7.6332 NaN\n",
       "2                                       [*]CC([*])(F)F  1.1415  8.1531 NaN\n",
       "3                                    [*]C(F)C([*])(F)F  1.5240  8.5986 NaN\n",
       "4                               [*]CCC(F)(F)C([*])(F)F  0.4489  9.0178 NaN\n",
       "..                                                 ...     ...     ...  ..\n",
       "365     [*]CCC(=O)OC(=O)CC(C=C1)=CC=C1C(C=C2)=CC=C2[*]  1.5387  6.1951 NaN\n",
       "366                   [*]C(=O)NONC(=O)NC(S1)=CC=C1N[*]  1.3385  5.6948 NaN\n",
       "367  [*]C(=S)C(=O)CCNC(C=C1)=CC=C1C(=S)C(C=C2)=CC=C...  3.8901  5.8838 NaN\n",
       "368         [*]C(F)(F)C(F)(F)C(S1)=CC=C1C(S2)=CC=C2[*]  2.7568  5.8176 NaN\n",
       "369                         [*]C(F)(F)C(F)(F)C(=O)O[*]  2.9195  9.0985 NaN\n",
       "\n",
       "[370 rows x 4 columns]"
      ]
     },
     "execution_count": 16,
     "metadata": {},
     "output_type": "execute_result"
    }
   ],
   "source": [
    "homopolymer_data[:370]"
   ]
  },
  {
   "cell_type": "markdown",
   "metadata": {},
   "source": [
    "# 下面的代码用于统计两个数据集里的元素组成"
   ]
  },
  {
   "cell_type": "code",
   "execution_count": 19,
   "metadata": {},
   "outputs": [
    {
     "name": "stdout",
     "output_type": "stream",
     "text": [
      "set()\n",
      "[96, 96, 55, 90, 10, 13, 4, 4, 4, 1, 0]\n"
     ]
    },
    {
     "name": "stderr",
     "output_type": "stream",
     "text": [
      "/tmp/ipykernel_403518/1524551970.py:7: FutureWarning: iteritems is deprecated and will be removed in a future version. Use .items instead.\n",
      "  for index, row in first_column.iteritems():\n"
     ]
    }
   ],
   "source": [
    "df = homopolymer_data[370:]\n",
    "# df = copolymer_data\n",
    "additional_set = set()\n",
    "num = [0] * len(element_names)\n",
    "first_column = df.iloc[:, 0]\n",
    "for index, row in first_column.iteritems():\n",
    "    mol = Chem.MolFromSmiles(get_info_from_copolymer_format(row)[0])\n",
    "    atom_elements = set([atom.GetSymbol() for atom in mol.GetAtoms()])\n",
    "    for element in atom_elements:\n",
    "        if element in element_names:\n",
    "            index = element_names.index(element)\n",
    "        else:\n",
    "            index = len(element_names) - 1\n",
    "            additional_set.add(element)\n",
    "        num[index] += 1\n",
    "print(additional_set)\n",
    "print(num)"
   ]
  },
  {
   "cell_type": "markdown",
   "metadata": {},
   "source": [
    "# 下面的代码是统计数据集里两个目标的平均数和误差"
   ]
  },
  {
   "cell_type": "markdown",
   "metadata": {},
   "source": [
    "# 下面的代码是polygnn里的数据增强"
   ]
  },
  {
   "cell_type": "code",
   "execution_count": 25,
   "metadata": {},
   "outputs": [],
   "source": [
    "def n_to_subtract(atoms_removed_inds, atom_ind):\n",
    "    return int(np.argwhere(np.sort(atoms_removed_inds + [atom_ind]) == atom_ind)[0][0])"
   ]
  },
  {
   "cell_type": "code",
   "execution_count": 26,
   "metadata": {},
   "outputs": [],
   "source": [
    "def bind_frags(\n",
    "    m1,\n",
    "    m1_tails,\n",
    "    m2,\n",
    "    m2_heads,\n",
    "    m1_connectors,\n",
    "    m2_connectors,\n",
    "    bond_types,\n",
    "):\n",
    "    \"\"\"\n",
    "    Bind *mol* objects, m1 and m2, together with a bond of type 'bond_type' at connection points m1_tail and m2_head\n",
    "    \"\"\"\n",
    "\n",
    "    combo_mol = Chem.rdmolops.CombineMols(m1, m2)\n",
    "    em = Chem.EditableMol(combo_mol)\n",
    "    removed_atoms = [np.inf]  # init with 'inf' so that n_to_subtract will be 0 to start\n",
    "    for (m1_connector, m2_connector, m1_tail, m2_head, bond_type) in zip(\n",
    "        m1_connectors, m2_connectors, m1_tails, m2_heads, bond_types\n",
    "    ):\n",
    "        em.AddBond(\n",
    "            m1_connector - n_to_subtract(removed_atoms, m1_connector),\n",
    "            m2_connector\n",
    "            + m1.GetNumAtoms()\n",
    "            - n_to_subtract(removed_atoms, m2_connector + m1.GetNumAtoms()),\n",
    "            bond_type,\n",
    "        )\n",
    "        em.RemoveAtom(m1_tail - n_to_subtract(removed_atoms, m1_tail))\n",
    "        removed_atoms.append(m1_tail)\n",
    "        em.RemoveAtom(\n",
    "            m2_head\n",
    "            + m1.GetNumAtoms()\n",
    "            - n_to_subtract(removed_atoms, m2_head + m1.GetNumAtoms())\n",
    "        )\n",
    "        removed_atoms.append(m2_head + m1.GetNumAtoms())\n",
    "\n",
    "    new_mol = em.GetMol()\n",
    "    try:\n",
    "        Chem.SanitizeMol(new_mol)\n",
    "        return new_mol\n",
    "    except:\n",
    "        print(f\"!!! Binding failed for {Chem.MolToSmiles(combo_mol)} !!!\")\n",
    "        return None"
   ]
  },
  {
   "cell_type": "code",
   "execution_count": 27,
   "metadata": {},
   "outputs": [],
   "source": [
    "def get_star_inds(mol):\n",
    "    if type(mol) == str:\n",
    "        mol = Chem.MolFromSmiles(mol)\n",
    "    inds = tuple(mol.GetSubstructMatches(Chem.MolFromSmarts(\"[#0]~*\")))\n",
    "    inds = tuple(zip(*inds))\n",
    "    if len(inds[0]) != 2:\n",
    "        raise ValueError(\n",
    "            \"Invalid repeat unit. It is likely that at least one star contains more than one bond.\"\n",
    "        )\n",
    "    return list(inds[0]), list(inds[1])"
   ]
  },
  {
   "cell_type": "code",
   "execution_count": 33,
   "metadata": {},
   "outputs": [],
   "source": [
    "class LinearPol(Chem.rdchem.Mol):\n",
    "    \"\"\"\n",
    "    Linear Polymer class.\n",
    "\n",
    "    Attributes:\n",
    "        mol (Chem.rdchem.Mol): The RDKit molecule of the parent polymer.\n",
    "        star_inds (list): List of star atom indices in the parent polymer. Sorted from smallest to largest index.\n",
    "        connector_inds (list): List of connector atom indices in the parent polymer. Sorted from smallest to largest index.\n",
    "        periodic_bond_type (Chem.rdchem.BondType): The bond type of the periodic bond in the parent polymer.\n",
    "    \"\"\"\n",
    "\n",
    "    def __init__(self, mol):\n",
    "        \"\"\"\n",
    "        Initializes the LinearPol object.\n",
    "\n",
    "        Args:\n",
    "            mol (str or Chem.rdchem.Mol): SMILES string or RDKit molecule of the parent polymer.\n",
    "        \"\"\"\n",
    "        if isinstance(mol, str):\n",
    "            self.SMILES = mol\n",
    "            self.mol = Chem.MolFromSmiles(mol)\n",
    "        else:\n",
    "            self.mol = mol\n",
    "\n",
    "        self.star_inds, self.connector_inds = get_star_inds(self.mol)\n",
    "        self.periodic_bond_type = self.get_pbond_type()\n",
    "\n",
    "    def get_pbond_type(self):\n",
    "        \"\"\"\n",
    "        Returns the bond type of the periodic bond.\n",
    "\n",
    "        Returns:\n",
    "            Chem.rdchem.BondType: The bond type of the periodic bond.\n",
    "\n",
    "        Raises:\n",
    "            ValueError: If the bond types of the periodic bond are mismatching.\n",
    "        \"\"\"\n",
    "        bond1_type = self.mol.GetBondBetweenAtoms(self.star_inds[0], self.connector_inds[0]).GetBondType()\n",
    "        bond2_type = self.mol.GetBondBetweenAtoms(self.star_inds[1], self.connector_inds[1]).GetBondType()\n",
    "        if bond1_type != bond2_type:\n",
    "            raise ValueError(\"Invalid repeat unit. Periodic bond types are mismatching.\")\n",
    "        return bond1_type\n",
    "\n",
    "    def multiply(self, n):\n",
    "        \"\"\"\n",
    "        Return a LinearPol which is n times repeated from itself\n",
    "        \"\"\"\n",
    "        add_lp = LinearPol(self.mol)\n",
    "        for _ in range(n - 1):\n",
    "            add_lp = LinearPol(\n",
    "                bind_frags(\n",
    "                    self.mol,\n",
    "                    [self.star_inds[1]],\n",
    "                    add_lp.mol,\n",
    "                    [add_lp.star_inds[0]],\n",
    "                    [self.connector_inds[1]],\n",
    "                    [add_lp.connector_inds[0]],\n",
    "                    [self.periodic_bond_type],\n",
    "                )\n",
    "            )\n",
    "        return add_lp"
   ]
  },
  {
   "cell_type": "code",
   "execution_count": 37,
   "metadata": {},
   "outputs": [
    {
     "data": {
      "text/plain": [
       "'*Oc1ccc(-c2ccc(C(=O)Oc3ccc(-c4ccc(C(=O)Oc5ccc(-c6ccc(C(*)=O)cc6)cc5)cc4)cc3)cc2)cc1'"
      ]
     },
     "execution_count": 37,
     "metadata": {},
     "output_type": "execute_result"
    }
   ],
   "source": [
    "lp = LinearPol(\"[*]Oc1ccc(-c2ccc(C([*])=O)cc2)cc1\")\n",
    "pm = lp.multiply(3).mol\n",
    "Chem.MolToSmiles(pm)"
   ]
  },
  {
   "cell_type": "markdown",
   "metadata": {},
   "source": [
    "# 下面的代码是测试概率边"
   ]
  },
  {
   "cell_type": "code",
   "execution_count": 142,
   "metadata": {},
   "outputs": [],
   "source": [
    "smiles_list = copolymer_data.iloc[0:5,:].SMILES.to_list()"
   ]
  },
  {
   "cell_type": "code",
   "execution_count": 145,
   "metadata": {},
   "outputs": [],
   "source": [
    "graph = molecule2graph.mol2graph(smiles_list)"
   ]
  },
  {
   "cell_type": "code",
   "execution_count": 149,
   "metadata": {},
   "outputs": [
    {
     "data": {
      "text/plain": [
       "[(1, 42), (43, 54), (97, 54), (151, 42), (193, 54)]"
      ]
     },
     "execution_count": 149,
     "metadata": {},
     "output_type": "execute_result"
    }
   ],
   "source": [
    "graph.get_components()[-2]"
   ]
  },
  {
   "cell_type": "code",
   "execution_count": null,
   "metadata": {},
   "outputs": [],
   "source": []
  }
 ],
 "metadata": {
  "kernelspec": {
   "display_name": "graph2smiles",
   "language": "python",
   "name": "graph2smiles"
  },
  "orig_nbformat": 4,
  "vscode": {
   "interpreter": {
    "hash": "0a330dc2ace33e4380118d1f67cb64e7e74e50a0f1d111ab0831bb66ce0df072"
   }
  }
 },
 "nbformat": 4,
 "nbformat_minor": 2
}
